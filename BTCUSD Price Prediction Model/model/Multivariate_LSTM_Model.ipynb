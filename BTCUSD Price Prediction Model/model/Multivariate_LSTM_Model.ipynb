{
  "nbformat": 4,
  "nbformat_minor": 0,
  "metadata": {
    "colab": {
      "provenance": [],
      "authorship_tag": "ABX9TyPQstcGyzj9umnpvws4RoxH",
      "include_colab_link": true
    },
    "kernelspec": {
      "name": "python3",
      "display_name": "Python 3"
    },
    "language_info": {
      "name": "python"
    }
  },
  "cells": [
    {
      "cell_type": "markdown",
      "metadata": {
        "id": "view-in-github",
        "colab_type": "text"
      },
      "source": [
        "<a href=\"https://colab.research.google.com/github/cepdnaclk/e19-co544-Bitcoin-Cost-Forecast-System/blob/main/Multivariate_LSTM_Model.ipynb\" target=\"_parent\"><img src=\"https://colab.research.google.com/assets/colab-badge.svg\" alt=\"Open In Colab\"/></a>"
      ]
    },
    {
      "cell_type": "markdown",
      "source": [
        "# Import Data"
      ],
      "metadata": {
        "id": "0Eu-cIc3tKs2"
      }
    },
    {
      "cell_type": "code",
      "execution_count": 1,
      "metadata": {
        "colab": {
          "base_uri": "https://localhost:8080/"
        },
        "id": "nlXU7vyBtDlM",
        "outputId": "39932230-e173-46b1-d9c7-b4a9c51834b4"
      },
      "outputs": [
        {
          "output_type": "stream",
          "name": "stdout",
          "text": [
            "                                 Open        High         Low       Close  \\\n",
            "Date                                                                        \n",
            "2014-09-17 00:00:00+00:00  465.864014  468.174011  452.421997  457.334015   \n",
            "2014-09-18 00:00:00+00:00  456.859985  456.859985  413.104004  424.440002   \n",
            "2014-09-19 00:00:00+00:00  424.102997  427.834991  384.532013  394.795990   \n",
            "2014-09-20 00:00:00+00:00  394.673004  423.295990  389.882996  408.903992   \n",
            "2014-09-21 00:00:00+00:00  408.084991  412.425995  393.181000  398.821014   \n",
            "\n",
            "                             Volume  \n",
            "Date                                 \n",
            "2014-09-17 00:00:00+00:00  21056800  \n",
            "2014-09-18 00:00:00+00:00  34483200  \n",
            "2014-09-19 00:00:00+00:00  37919700  \n",
            "2014-09-20 00:00:00+00:00  36863600  \n",
            "2014-09-21 00:00:00+00:00  26580100  \n"
          ]
        }
      ],
      "source": [
        "import yfinance as yf\n",
        "import pandas as pd\n",
        "\n",
        "# Define the ticker simbol for Bitcoin\n",
        "ticker = 'BTC-USD'\n",
        "\n",
        "# Get historical market data\n",
        "hist = yf.Ticker(ticker).history(period=\"max\")\n",
        "\n",
        "# Making the 'Date' as the index\n",
        "hist.index = pd.to_datetime(hist.index)\n",
        "\n",
        "# Drop the \"Dividends\" column and \"Stock Splits\" column\n",
        "hist.drop(columns = ['Dividends', 'Stock Splits'], inplace = True)\n",
        "\n",
        "# Print the data\n",
        "print(hist.head())"
      ]
    },
    {
      "cell_type": "markdown",
      "source": [
        "# Set Inputs and Outputs"
      ],
      "metadata": {
        "id": "ngTHFwGRO4bs"
      }
    },
    {
      "cell_type": "code",
      "source": [
        "X, y = hist.drop(columns = ['Close']), hist.Close.values\n",
        "X.shape, y.shape"
      ],
      "metadata": {
        "colab": {
          "base_uri": "https://localhost:8080/"
        },
        "id": "kH9k_HqcO9yv",
        "outputId": "cda87969-9765-429b-9a7d-246e0292b9d5"
      },
      "execution_count": 2,
      "outputs": [
        {
          "output_type": "execute_result",
          "data": {
            "text/plain": [
              "((3528, 4), (3528,))"
            ]
          },
          "metadata": {},
          "execution_count": 2
        }
      ]
    },
    {
      "cell_type": "markdown",
      "source": [
        "## Standardize Features"
      ],
      "metadata": {
        "id": "CnhD38aQQKq3"
      }
    },
    {
      "cell_type": "code",
      "source": [
        "from sklearn.preprocessing import StandardScaler, MinMaxScaler\n",
        "mm = MinMaxScaler()\n",
        "ss = StandardScaler()\n",
        "\n",
        "X_trans = ss.fit_transform(X)\n",
        "y_trans = mm.fit_transform(y.reshape(-1, 1))"
      ],
      "metadata": {
        "id": "u5nkD1Y9QQvr"
      },
      "execution_count": 3,
      "outputs": []
    },
    {
      "cell_type": "markdown",
      "source": [
        "## Split a multivariate sequence past, future samples (X abd y)"
      ],
      "metadata": {
        "id": "6eFRNszUYFtV"
      }
    },
    {
      "cell_type": "code",
      "source": [
        "import numpy as np\n",
        "\n",
        "# split a multivariate sequence past, future samples (X and y)\n",
        "def split_sequences(input_sequences, output_sequence, n_steps_in, n_steps_out):\n",
        "\n",
        "    X, y = list(), list() # instantiate X and y\n",
        "\n",
        "    for i in range(len(input_sequences)):\n",
        "\n",
        "        # find the end of the input, output sequence\n",
        "        end_ix = i + n_steps_in\n",
        "        out_end_ix = end_ix + n_steps_out - 1\n",
        "\n",
        "        # check if we are beyond the dataset\n",
        "        if out_end_ix > len(input_sequences): break\n",
        "\n",
        "        # gather input and output of the pattern\n",
        "        seq_x, seq_y = input_sequences[i:end_ix], output_sequence[end_ix-1:out_end_ix, -1]\n",
        "        X.append(seq_x), y.append(seq_y)\n",
        "\n",
        "    return np.array(X), np.array(y)\n",
        "\n",
        "X_ss, y_mm = split_sequences(X_trans, y_trans, 100, 50)\n",
        "print(X_ss.shape, y_mm.shape)"
      ],
      "metadata": {
        "colab": {
          "base_uri": "https://localhost:8080/"
        },
        "id": "E14kM5v_YNoC",
        "outputId": "0d94bee3-007e-4407-b2ca-4b9bd12715b3"
      },
      "execution_count": 4,
      "outputs": [
        {
          "output_type": "stream",
          "name": "stdout",
          "text": [
            "(3380, 100, 4) (3380, 50)\n"
          ]
        }
      ]
    },
    {
      "cell_type": "markdown",
      "source": [
        "## Check the y_mm sample"
      ],
      "metadata": {
        "id": "3H5EB5XLaCW9"
      }
    },
    {
      "cell_type": "code",
      "source": [
        "print(\"y_mm[0]:\", y_mm[0])\n",
        "print(\"y_trans[99:149].squeeze(1):\", y_trans[99:149].squeeze(1))\n",
        "\n",
        "assert y_mm[0].all() == y_trans[99:149].squeeze(1).all()\n",
        "\n",
        "y_mm[0]"
      ],
      "metadata": {
        "colab": {
          "base_uri": "https://localhost:8080/"
        },
        "id": "FHCCou3QaUZ7",
        "outputId": "8864593f-3007-43ed-9a18-3da221859174"
      },
      "execution_count": 5,
      "outputs": [
        {
          "output_type": "stream",
          "name": "stdout",
          "text": [
            "y_mm[0]: [0.00193271 0.00205501 0.00188957 0.00190845 0.00184578 0.00181926\n",
            " 0.00194896 0.00186743 0.00187817 0.0014125  0.00118087 0.00132186\n",
            " 0.00148255 0.00159431 0.0014436  0.00154042 0.00132628 0.00120097\n",
            " 0.00123027 0.00065507 0.         0.00043537 0.00041141 0.0002902\n",
            " 0.00044216 0.00050419 0.00045555 0.00066928 0.00075856 0.00075133\n",
            " 0.00095664 0.00103717 0.00130813 0.001171   0.00076554 0.00076003\n",
            " 0.0006628  0.00053989 0.00067031 0.00082471 0.00067437 0.00066867\n",
            " 0.00053505 0.00060576 0.00068103 0.00062148 0.00057619 0.00057247\n",
            " 0.0005635  0.00059887]\n",
            "y_trans[99:149].squeeze(1): [0.00193271 0.00205501 0.00188957 0.00190845 0.00184578 0.00181926\n",
            " 0.00194896 0.00186743 0.00187817 0.0014125  0.00118087 0.00132186\n",
            " 0.00148255 0.00159431 0.0014436  0.00154042 0.00132628 0.00120097\n",
            " 0.00123027 0.00065507 0.         0.00043537 0.00041141 0.0002902\n",
            " 0.00044216 0.00050419 0.00045555 0.00066928 0.00075856 0.00075133\n",
            " 0.00095664 0.00103717 0.00130813 0.001171   0.00076554 0.00076003\n",
            " 0.0006628  0.00053989 0.00067031 0.00082471 0.00067437 0.00066867\n",
            " 0.00053505 0.00060576 0.00068103 0.00062148 0.00057619 0.00057247\n",
            " 0.0005635  0.00059887]\n"
          ]
        },
        {
          "output_type": "execute_result",
          "data": {
            "text/plain": [
              "array([0.00193271, 0.00205501, 0.00188957, 0.00190845, 0.00184578,\n",
              "       0.00181926, 0.00194896, 0.00186743, 0.00187817, 0.0014125 ,\n",
              "       0.00118087, 0.00132186, 0.00148255, 0.00159431, 0.0014436 ,\n",
              "       0.00154042, 0.00132628, 0.00120097, 0.00123027, 0.00065507,\n",
              "       0.        , 0.00043537, 0.00041141, 0.0002902 , 0.00044216,\n",
              "       0.00050419, 0.00045555, 0.00066928, 0.00075856, 0.00075133,\n",
              "       0.00095664, 0.00103717, 0.00130813, 0.001171  , 0.00076554,\n",
              "       0.00076003, 0.0006628 , 0.00053989, 0.00067031, 0.00082471,\n",
              "       0.00067437, 0.00066867, 0.00053505, 0.00060576, 0.00068103,\n",
              "       0.00062148, 0.00057619, 0.00057247, 0.0005635 , 0.00059887])"
            ]
          },
          "metadata": {},
          "execution_count": 5
        }
      ]
    },
    {
      "cell_type": "code",
      "source": [
        "y_trans[99:149].squeeze(1)"
      ],
      "metadata": {
        "colab": {
          "base_uri": "https://localhost:8080/"
        },
        "id": "aPWIL8r0bl_U",
        "outputId": "e5eea839-36bb-4ee1-e0d2-c14f47698fa4"
      },
      "execution_count": 6,
      "outputs": [
        {
          "output_type": "execute_result",
          "data": {
            "text/plain": [
              "array([0.00193271, 0.00205501, 0.00188957, 0.00190845, 0.00184578,\n",
              "       0.00181926, 0.00194896, 0.00186743, 0.00187817, 0.0014125 ,\n",
              "       0.00118087, 0.00132186, 0.00148255, 0.00159431, 0.0014436 ,\n",
              "       0.00154042, 0.00132628, 0.00120097, 0.00123027, 0.00065507,\n",
              "       0.        , 0.00043537, 0.00041141, 0.0002902 , 0.00044216,\n",
              "       0.00050419, 0.00045555, 0.00066928, 0.00075856, 0.00075133,\n",
              "       0.00095664, 0.00103717, 0.00130813, 0.001171  , 0.00076554,\n",
              "       0.00076003, 0.0006628 , 0.00053989, 0.00067031, 0.00082471,\n",
              "       0.00067437, 0.00066867, 0.00053505, 0.00060576, 0.00068103,\n",
              "       0.00062148, 0.00057619, 0.00057247, 0.0005635 , 0.00059887])"
            ]
          },
          "metadata": {},
          "execution_count": 6
        }
      ]
    },
    {
      "cell_type": "markdown",
      "source": [
        "## Split Training & Test Sets"
      ],
      "metadata": {
        "id": "9dobE9Epb86R"
      }
    },
    {
      "cell_type": "code",
      "source": [
        "total_samples = len(X)\n",
        "train_test_cutoff = round(0.90 * total_samples)\n",
        "\n",
        "X_train = X_ss[:-150]\n",
        "X_test = X_ss[-150:]\n",
        "\n",
        "y_train = y_mm[:-150]\n",
        "y_test = y_mm[-150:]\n",
        "\n",
        "print(\"Training Shape:\", X_train.shape, y_train.shape)\n",
        "print(\"Testing Shape:\", X_test.shape, y_test.shape)"
      ],
      "metadata": {
        "colab": {
          "base_uri": "https://localhost:8080/"
        },
        "id": "1n5K3gJScD4y",
        "outputId": "3f8984b7-7552-4899-a87b-33006dcb3a8c"
      },
      "execution_count": 7,
      "outputs": [
        {
          "output_type": "stream",
          "name": "stdout",
          "text": [
            "Training Shape: (3230, 100, 4) (3230, 50)\n",
            "Testing Shape: (150, 100, 4) (150, 50)\n"
          ]
        }
      ]
    },
    {
      "cell_type": "markdown",
      "source": [
        "## Convert Data Into Tensors"
      ],
      "metadata": {
        "id": "V_Uw5iQMui3v"
      }
    },
    {
      "cell_type": "code",
      "source": [
        "import torch\n",
        "\n",
        "# convert to pytorch tensors\n",
        "X_train_tensors = torch.Tensor(X_train).requires_grad_(True)\n",
        "X_test_tensors = torch.Tensor(X_test).requires_grad_(True)\n",
        "\n",
        "y_train_tensors = torch.Tensor(y_train).requires_grad_(True)\n",
        "y_test_tensors = torch.Tensor(y_test).requires_grad_(True)\n"
      ],
      "metadata": {
        "id": "efuy9zaQutfZ"
      },
      "execution_count": 8,
      "outputs": []
    },
    {
      "cell_type": "markdown",
      "source": [
        "## Reshaping to rows, timestamps, features"
      ],
      "metadata": {
        "id": "a-TGG9OCzOAL"
      }
    },
    {
      "cell_type": "code",
      "source": [
        "# reshaping to rows, timestamps, features\n",
        "X_train_tensors_final = torch.reshape(X_train_tensors,\n",
        "                                      (X_train_tensors.shape[0], 100,\n",
        "                                       X_train_tensors.shape[2]))\n",
        "X_test_tensors_final = torch.reshape(X_test_tensors,\n",
        "                                     (X_test_tensors.shape[0], 100,\n",
        "                                      X_test_tensors.shape[2]))\n",
        "\n",
        "print(\"Training Shape:\", X_train_tensors_final.shape, y_train_tensors.shape)\n",
        "print(\"Testing Shape:\", X_test_tensors_final.shape, y_test_tensors.shape)"
      ],
      "metadata": {
        "colab": {
          "base_uri": "https://localhost:8080/"
        },
        "id": "skTdXZlwzWyU",
        "outputId": "204770c4-1f20-417f-ebed-e2a976511039"
      },
      "execution_count": 9,
      "outputs": [
        {
          "output_type": "stream",
          "name": "stdout",
          "text": [
            "Training Shape: torch.Size([3230, 100, 4]) torch.Size([3230, 50])\n",
            "Testing Shape: torch.Size([150, 100, 4]) torch.Size([150, 50])\n"
          ]
        }
      ]
    },
    {
      "cell_type": "code",
      "source": [
        "X_check, y_check = split_sequences(X, y.reshape(-1, 1), 100, 50)\n",
        "X_check[-1][0:4]\n",
        "\n",
        "X.iloc[-149:-145]"
      ],
      "metadata": {
        "colab": {
          "base_uri": "https://localhost:8080/",
          "height": 206
        },
        "id": "-67vt9hOz7RK",
        "outputId": "b50f8ac7-d6f0-43c4-cf9c-b5ab542a449c"
      },
      "execution_count": 10,
      "outputs": [
        {
          "output_type": "execute_result",
          "data": {
            "text/plain": [
              "                                   Open          High           Low  \\\n",
              "Date                                                                  \n",
              "2023-12-18 00:00:00+00:00  41348.203125  42720.296875  40530.257812   \n",
              "2023-12-19 00:00:00+00:00  42641.511719  43354.296875  41826.335938   \n",
              "2023-12-20 00:00:00+00:00  42261.300781  44275.585938  42223.816406   \n",
              "2023-12-21 00:00:00+00:00  43648.125000  44240.667969  43330.050781   \n",
              "\n",
              "                                Volume  \n",
              "Date                                    \n",
              "2023-12-18 00:00:00+00:00  25224642008  \n",
              "2023-12-19 00:00:00+00:00  23171001281  \n",
              "2023-12-20 00:00:00+00:00  27868908174  \n",
              "2023-12-21 00:00:00+00:00  22452766169  "
            ],
            "text/html": [
              "\n",
              "  <div id=\"df-246b2dc4-191b-402d-bf9c-dc71776e0ea6\" class=\"colab-df-container\">\n",
              "    <div>\n",
              "<style scoped>\n",
              "    .dataframe tbody tr th:only-of-type {\n",
              "        vertical-align: middle;\n",
              "    }\n",
              "\n",
              "    .dataframe tbody tr th {\n",
              "        vertical-align: top;\n",
              "    }\n",
              "\n",
              "    .dataframe thead th {\n",
              "        text-align: right;\n",
              "    }\n",
              "</style>\n",
              "<table border=\"1\" class=\"dataframe\">\n",
              "  <thead>\n",
              "    <tr style=\"text-align: right;\">\n",
              "      <th></th>\n",
              "      <th>Open</th>\n",
              "      <th>High</th>\n",
              "      <th>Low</th>\n",
              "      <th>Volume</th>\n",
              "    </tr>\n",
              "    <tr>\n",
              "      <th>Date</th>\n",
              "      <th></th>\n",
              "      <th></th>\n",
              "      <th></th>\n",
              "      <th></th>\n",
              "    </tr>\n",
              "  </thead>\n",
              "  <tbody>\n",
              "    <tr>\n",
              "      <th>2023-12-18 00:00:00+00:00</th>\n",
              "      <td>41348.203125</td>\n",
              "      <td>42720.296875</td>\n",
              "      <td>40530.257812</td>\n",
              "      <td>25224642008</td>\n",
              "    </tr>\n",
              "    <tr>\n",
              "      <th>2023-12-19 00:00:00+00:00</th>\n",
              "      <td>42641.511719</td>\n",
              "      <td>43354.296875</td>\n",
              "      <td>41826.335938</td>\n",
              "      <td>23171001281</td>\n",
              "    </tr>\n",
              "    <tr>\n",
              "      <th>2023-12-20 00:00:00+00:00</th>\n",
              "      <td>42261.300781</td>\n",
              "      <td>44275.585938</td>\n",
              "      <td>42223.816406</td>\n",
              "      <td>27868908174</td>\n",
              "    </tr>\n",
              "    <tr>\n",
              "      <th>2023-12-21 00:00:00+00:00</th>\n",
              "      <td>43648.125000</td>\n",
              "      <td>44240.667969</td>\n",
              "      <td>43330.050781</td>\n",
              "      <td>22452766169</td>\n",
              "    </tr>\n",
              "  </tbody>\n",
              "</table>\n",
              "</div>\n",
              "    <div class=\"colab-df-buttons\">\n",
              "\n",
              "  <div class=\"colab-df-container\">\n",
              "    <button class=\"colab-df-convert\" onclick=\"convertToInteractive('df-246b2dc4-191b-402d-bf9c-dc71776e0ea6')\"\n",
              "            title=\"Convert this dataframe to an interactive table.\"\n",
              "            style=\"display:none;\">\n",
              "\n",
              "  <svg xmlns=\"http://www.w3.org/2000/svg\" height=\"24px\" viewBox=\"0 -960 960 960\">\n",
              "    <path d=\"M120-120v-720h720v720H120Zm60-500h600v-160H180v160Zm220 220h160v-160H400v160Zm0 220h160v-160H400v160ZM180-400h160v-160H180v160Zm440 0h160v-160H620v160ZM180-180h160v-160H180v160Zm440 0h160v-160H620v160Z\"/>\n",
              "  </svg>\n",
              "    </button>\n",
              "\n",
              "  <style>\n",
              "    .colab-df-container {\n",
              "      display:flex;\n",
              "      gap: 12px;\n",
              "    }\n",
              "\n",
              "    .colab-df-convert {\n",
              "      background-color: #E8F0FE;\n",
              "      border: none;\n",
              "      border-radius: 50%;\n",
              "      cursor: pointer;\n",
              "      display: none;\n",
              "      fill: #1967D2;\n",
              "      height: 32px;\n",
              "      padding: 0 0 0 0;\n",
              "      width: 32px;\n",
              "    }\n",
              "\n",
              "    .colab-df-convert:hover {\n",
              "      background-color: #E2EBFA;\n",
              "      box-shadow: 0px 1px 2px rgba(60, 64, 67, 0.3), 0px 1px 3px 1px rgba(60, 64, 67, 0.15);\n",
              "      fill: #174EA6;\n",
              "    }\n",
              "\n",
              "    .colab-df-buttons div {\n",
              "      margin-bottom: 4px;\n",
              "    }\n",
              "\n",
              "    [theme=dark] .colab-df-convert {\n",
              "      background-color: #3B4455;\n",
              "      fill: #D2E3FC;\n",
              "    }\n",
              "\n",
              "    [theme=dark] .colab-df-convert:hover {\n",
              "      background-color: #434B5C;\n",
              "      box-shadow: 0px 1px 3px 1px rgba(0, 0, 0, 0.15);\n",
              "      filter: drop-shadow(0px 1px 2px rgba(0, 0, 0, 0.3));\n",
              "      fill: #FFFFFF;\n",
              "    }\n",
              "  </style>\n",
              "\n",
              "    <script>\n",
              "      const buttonEl =\n",
              "        document.querySelector('#df-246b2dc4-191b-402d-bf9c-dc71776e0ea6 button.colab-df-convert');\n",
              "      buttonEl.style.display =\n",
              "        google.colab.kernel.accessAllowed ? 'block' : 'none';\n",
              "\n",
              "      async function convertToInteractive(key) {\n",
              "        const element = document.querySelector('#df-246b2dc4-191b-402d-bf9c-dc71776e0ea6');\n",
              "        const dataTable =\n",
              "          await google.colab.kernel.invokeFunction('convertToInteractive',\n",
              "                                                    [key], {});\n",
              "        if (!dataTable) return;\n",
              "\n",
              "        const docLinkHtml = 'Like what you see? Visit the ' +\n",
              "          '<a target=\"_blank\" href=https://colab.research.google.com/notebooks/data_table.ipynb>data table notebook</a>'\n",
              "          + ' to learn more about interactive tables.';\n",
              "        element.innerHTML = '';\n",
              "        dataTable['output_type'] = 'display_data';\n",
              "        await google.colab.output.renderOutput(dataTable, element);\n",
              "        const docLink = document.createElement('div');\n",
              "        docLink.innerHTML = docLinkHtml;\n",
              "        element.appendChild(docLink);\n",
              "      }\n",
              "    </script>\n",
              "  </div>\n",
              "\n",
              "\n",
              "<div id=\"df-41cd203f-1447-4cdf-937a-37cc42a9698b\">\n",
              "  <button class=\"colab-df-quickchart\" onclick=\"quickchart('df-41cd203f-1447-4cdf-937a-37cc42a9698b')\"\n",
              "            title=\"Suggest charts\"\n",
              "            style=\"display:none;\">\n",
              "\n",
              "<svg xmlns=\"http://www.w3.org/2000/svg\" height=\"24px\"viewBox=\"0 0 24 24\"\n",
              "     width=\"24px\">\n",
              "    <g>\n",
              "        <path d=\"M19 3H5c-1.1 0-2 .9-2 2v14c0 1.1.9 2 2 2h14c1.1 0 2-.9 2-2V5c0-1.1-.9-2-2-2zM9 17H7v-7h2v7zm4 0h-2V7h2v10zm4 0h-2v-4h2v4z\"/>\n",
              "    </g>\n",
              "</svg>\n",
              "  </button>\n",
              "\n",
              "<style>\n",
              "  .colab-df-quickchart {\n",
              "      --bg-color: #E8F0FE;\n",
              "      --fill-color: #1967D2;\n",
              "      --hover-bg-color: #E2EBFA;\n",
              "      --hover-fill-color: #174EA6;\n",
              "      --disabled-fill-color: #AAA;\n",
              "      --disabled-bg-color: #DDD;\n",
              "  }\n",
              "\n",
              "  [theme=dark] .colab-df-quickchart {\n",
              "      --bg-color: #3B4455;\n",
              "      --fill-color: #D2E3FC;\n",
              "      --hover-bg-color: #434B5C;\n",
              "      --hover-fill-color: #FFFFFF;\n",
              "      --disabled-bg-color: #3B4455;\n",
              "      --disabled-fill-color: #666;\n",
              "  }\n",
              "\n",
              "  .colab-df-quickchart {\n",
              "    background-color: var(--bg-color);\n",
              "    border: none;\n",
              "    border-radius: 50%;\n",
              "    cursor: pointer;\n",
              "    display: none;\n",
              "    fill: var(--fill-color);\n",
              "    height: 32px;\n",
              "    padding: 0;\n",
              "    width: 32px;\n",
              "  }\n",
              "\n",
              "  .colab-df-quickchart:hover {\n",
              "    background-color: var(--hover-bg-color);\n",
              "    box-shadow: 0 1px 2px rgba(60, 64, 67, 0.3), 0 1px 3px 1px rgba(60, 64, 67, 0.15);\n",
              "    fill: var(--button-hover-fill-color);\n",
              "  }\n",
              "\n",
              "  .colab-df-quickchart-complete:disabled,\n",
              "  .colab-df-quickchart-complete:disabled:hover {\n",
              "    background-color: var(--disabled-bg-color);\n",
              "    fill: var(--disabled-fill-color);\n",
              "    box-shadow: none;\n",
              "  }\n",
              "\n",
              "  .colab-df-spinner {\n",
              "    border: 2px solid var(--fill-color);\n",
              "    border-color: transparent;\n",
              "    border-bottom-color: var(--fill-color);\n",
              "    animation:\n",
              "      spin 1s steps(1) infinite;\n",
              "  }\n",
              "\n",
              "  @keyframes spin {\n",
              "    0% {\n",
              "      border-color: transparent;\n",
              "      border-bottom-color: var(--fill-color);\n",
              "      border-left-color: var(--fill-color);\n",
              "    }\n",
              "    20% {\n",
              "      border-color: transparent;\n",
              "      border-left-color: var(--fill-color);\n",
              "      border-top-color: var(--fill-color);\n",
              "    }\n",
              "    30% {\n",
              "      border-color: transparent;\n",
              "      border-left-color: var(--fill-color);\n",
              "      border-top-color: var(--fill-color);\n",
              "      border-right-color: var(--fill-color);\n",
              "    }\n",
              "    40% {\n",
              "      border-color: transparent;\n",
              "      border-right-color: var(--fill-color);\n",
              "      border-top-color: var(--fill-color);\n",
              "    }\n",
              "    60% {\n",
              "      border-color: transparent;\n",
              "      border-right-color: var(--fill-color);\n",
              "    }\n",
              "    80% {\n",
              "      border-color: transparent;\n",
              "      border-right-color: var(--fill-color);\n",
              "      border-bottom-color: var(--fill-color);\n",
              "    }\n",
              "    90% {\n",
              "      border-color: transparent;\n",
              "      border-bottom-color: var(--fill-color);\n",
              "    }\n",
              "  }\n",
              "</style>\n",
              "\n",
              "  <script>\n",
              "    async function quickchart(key) {\n",
              "      const quickchartButtonEl =\n",
              "        document.querySelector('#' + key + ' button');\n",
              "      quickchartButtonEl.disabled = true;  // To prevent multiple clicks.\n",
              "      quickchartButtonEl.classList.add('colab-df-spinner');\n",
              "      try {\n",
              "        const charts = await google.colab.kernel.invokeFunction(\n",
              "            'suggestCharts', [key], {});\n",
              "      } catch (error) {\n",
              "        console.error('Error during call to suggestCharts:', error);\n",
              "      }\n",
              "      quickchartButtonEl.classList.remove('colab-df-spinner');\n",
              "      quickchartButtonEl.classList.add('colab-df-quickchart-complete');\n",
              "    }\n",
              "    (() => {\n",
              "      let quickchartButtonEl =\n",
              "        document.querySelector('#df-41cd203f-1447-4cdf-937a-37cc42a9698b button');\n",
              "      quickchartButtonEl.style.display =\n",
              "        google.colab.kernel.accessAllowed ? 'block' : 'none';\n",
              "    })();\n",
              "  </script>\n",
              "</div>\n",
              "    </div>\n",
              "  </div>\n"
            ],
            "application/vnd.google.colaboratory.intrinsic+json": {
              "type": "dataframe",
              "summary": "{\n  \"name\": \"X\",\n  \"rows\": 4,\n  \"fields\": [\n    {\n      \"column\": \"Date\",\n      \"properties\": {\n        \"dtype\": \"date\",\n        \"min\": \"2023-12-18 00:00:00+00:00\",\n        \"max\": \"2023-12-21 00:00:00+00:00\",\n        \"num_unique_values\": 4,\n        \"samples\": [\n          \"2023-12-19 00:00:00+00:00\",\n          \"2023-12-21 00:00:00+00:00\",\n          \"2023-12-18 00:00:00+00:00\"\n        ],\n        \"semantic_type\": \"\",\n        \"description\": \"\"\n      }\n    },\n    {\n      \"column\": \"Open\",\n      \"properties\": {\n        \"dtype\": \"number\",\n        \"std\": 952.0656117234178,\n        \"min\": 41348.203125,\n        \"max\": 43648.125,\n        \"num_unique_values\": 4,\n        \"samples\": [\n          42641.51171875,\n          43648.125,\n          41348.203125\n        ],\n        \"semantic_type\": \"\",\n        \"description\": \"\"\n      }\n    },\n    {\n      \"column\": \"High\",\n      \"properties\": {\n        \"dtype\": \"number\",\n        \"std\": 751.0023772544503,\n        \"min\": 42720.296875,\n        \"max\": 44275.5859375,\n        \"num_unique_values\": 4,\n        \"samples\": [\n          43354.296875,\n          44240.66796875,\n          42720.296875\n        ],\n        \"semantic_type\": \"\",\n        \"description\": \"\"\n      }\n    },\n    {\n      \"column\": \"Low\",\n      \"properties\": {\n        \"dtype\": \"number\",\n        \"std\": 1155.771871637211,\n        \"min\": 40530.2578125,\n        \"max\": 43330.05078125,\n        \"num_unique_values\": 4,\n        \"samples\": [\n          41826.3359375,\n          43330.05078125,\n          40530.2578125\n        ],\n        \"semantic_type\": \"\",\n        \"description\": \"\"\n      }\n    },\n    {\n      \"column\": \"Volume\",\n      \"properties\": {\n        \"dtype\": \"number\",\n        \"std\": 2429225948,\n        \"min\": 22452766169,\n        \"max\": 27868908174,\n        \"num_unique_values\": 4,\n        \"samples\": [\n          23171001281,\n          22452766169,\n          25224642008\n        ],\n        \"semantic_type\": \"\",\n        \"description\": \"\"\n      }\n    }\n  ]\n}"
            }
          },
          "metadata": {},
          "execution_count": 10
        }
      ]
    },
    {
      "cell_type": "code",
      "source": [
        "y_check[-1]"
      ],
      "metadata": {
        "colab": {
          "base_uri": "https://localhost:8080/"
        },
        "id": "D1-kKqLI0lYQ",
        "outputId": "246dced4-a55a-4ddb-8ac3-3031facca6e5"
      },
      "execution_count": 11,
      "outputs": [
        {
          "output_type": "execute_result",
          "data": {
            "text/plain": [
              "array([69987.8359375 , 69455.34375   , 70744.953125  , 69892.828125  ,\n",
              "       69645.3046875 , 71333.6484375 , 69702.1484375 , 65446.97265625,\n",
              "       65980.8125    , 68508.84375   , 67837.640625  , 68896.109375  ,\n",
              "       69362.5546875 , 71631.359375  , 69139.015625  , 70587.8828125 ,\n",
              "       70060.609375  , 67195.8671875 , 63821.47265625, 65738.7265625 ,\n",
              "       63426.2109375 , 63811.86328125, 61276.69140625, 63512.75390625,\n",
              "       63843.5703125 , 64994.44140625, 64926.64453125, 66837.6796875 ,\n",
              "       66407.2734375 , 64276.8984375 , 64481.70703125, 63755.3203125 ,\n",
              "       63419.140625  , 63113.23046875, 63841.12109375, 60636.85546875,\n",
              "       58254.01171875, 59123.43359375, 62889.8359375 , 63891.47265625,\n",
              "       64031.1328125 , 63161.94921875, 62334.81640625, 61187.94140625,\n",
              "       63049.9609375 , 60792.77734375, 60793.7109375 , 61448.39453125,\n",
              "       62901.44921875, 61880.41796875])"
            ]
          },
          "metadata": {},
          "execution_count": 11
        }
      ]
    },
    {
      "cell_type": "code",
      "source": [
        "hist.Close.values[-1:]"
      ],
      "metadata": {
        "colab": {
          "base_uri": "https://localhost:8080/"
        },
        "id": "eZuj1Qyu0nTJ",
        "outputId": "87d364d7-88b5-41e2-e3ef-142e559b7f04"
      },
      "execution_count": 12,
      "outputs": [
        {
          "output_type": "execute_result",
          "data": {
            "text/plain": [
              "array([61880.41796875])"
            ]
          },
          "metadata": {},
          "execution_count": 12
        }
      ]
    },
    {
      "cell_type": "markdown",
      "source": [
        "# LSTM Model"
      ],
      "metadata": {
        "id": "N3z1bFMi1Axw"
      }
    },
    {
      "cell_type": "code",
      "source": [
        "import torch.nn as nn\n",
        "\n",
        "class LSTM(nn.Module):\n",
        "\n",
        "    def __init__(self, num_classes, input_size, hidden_size, num_layers):\n",
        "        super().__init__()\n",
        "        self.num_classes = num_classes # output size\n",
        "        self.num_layers = num_layers # number of recurrent layers in the lstm\n",
        "        self.input_size = input_size # input size\n",
        "        self.hidden_size = hidden_size # neurons in each lstm layer\n",
        "        # LSTM model\n",
        "        self.lstm = nn.LSTM(input_size=input_size, hidden_size=hidden_size,\n",
        "                            num_layers=num_layers, batch_first=True, dropout=0.2) # lstm\n",
        "        self.fc_1 =  nn.Linear(hidden_size, 128) # fully connected\n",
        "        self.fc_2 = nn.Linear(128, num_classes) # fully connected last layer\n",
        "        self.relu = nn.ReLU()\n",
        "\n",
        "    def forward(self,x):\n",
        "        # hidden state\n",
        "        h_0 = torch.zeros(self.num_layers, x.size(0), self.hidden_size).to(x.device)\n",
        "        # cell state\n",
        "        c_0 = torch.zeros(self.num_layers, x.size(0), self.hidden_size).to(x.device)\n",
        "        # propagate input through LSTM\n",
        "        output, (hn, cn) = self.lstm(x, (h_0, c_0)) # (input, hidden, and internal state)\n",
        "        hn = hn.view(-1, self.hidden_size) # reshaping the data for Dense layer next\n",
        "        out = self.relu(hn)\n",
        "        out = self.fc_1(out) # first dense\n",
        "        out = self.relu(out) # relu\n",
        "        out = self.fc_2(out) # final output\n",
        "        return out"
      ],
      "metadata": {
        "id": "P6yM2csq1EO3"
      },
      "execution_count": 13,
      "outputs": []
    },
    {
      "cell_type": "markdown",
      "source": [
        "# Training"
      ],
      "metadata": {
        "id": "k490yp2S_v-S"
      }
    },
    {
      "cell_type": "code",
      "source": [
        "def training_loop(n_epochs, lstm, optimiser, loss_fn, X_train, y_train,\n",
        "                  X_test, y_test):\n",
        "    for epoch in range(n_epochs):\n",
        "        lstm.train()\n",
        "        outputs = lstm.forward(X_train) # forward pass\n",
        "        optimiser.zero_grad() # calculate the gradient, manually setting to 0\n",
        "        # obtain the loss function\n",
        "        loss = loss_fn(outputs, y_train)\n",
        "        loss.backward() # calculates the loss of the loss function\n",
        "        optimiser.step() # improve from loss, i.e backprop\n",
        "        # test loss\n",
        "        lstm.eval()\n",
        "        test_preds = lstm(X_test)\n",
        "        test_loss = loss_fn(test_preds, y_test)\n",
        "        if epoch % 100 == 0:\n",
        "            print(\"Epoch: %d, train loss: %1.5f, test loss: %1.5f\" % (epoch,\n",
        "                                                                      loss.item(),\n",
        "                                                                      test_loss.item()))"
      ],
      "metadata": {
        "id": "NOM7JyN1_vnK"
      },
      "execution_count": 14,
      "outputs": []
    },
    {
      "cell_type": "markdown",
      "source": [
        "# Instance of a LSTM Model"
      ],
      "metadata": {
        "id": "G7XX6boNgzc1"
      }
    },
    {
      "cell_type": "code",
      "source": [
        "import warnings\n",
        "warnings.filterwarnings('ignore')\n",
        "\n",
        "n_epochs = 1000 # 1000 epochs\n",
        "learning_rate = 0.001 # 0.001 lr\n",
        "\n",
        "input_size = 4 # number of features\n",
        "hidden_size = 2 # number of features in hidden state\n",
        "num_layers = 1 # number of stacked lstm layers\n",
        "\n",
        "num_classes = 50 # number of output classes\n",
        "\n",
        "lstm = LSTM(num_classes,\n",
        "              input_size,\n",
        "              hidden_size,\n",
        "              num_layers)"
      ],
      "metadata": {
        "id": "aIdXBEyigymq"
      },
      "execution_count": 15,
      "outputs": []
    },
    {
      "cell_type": "markdown",
      "source": [
        "# Training Loop"
      ],
      "metadata": {
        "id": "ugWnxRPNhY-r"
      }
    },
    {
      "cell_type": "code",
      "source": [
        "loss_fn = torch.nn.MSELoss()    # mean-squared error for regression\n",
        "optimiser = torch.optim.Adam(lstm.parameters(), lr=learning_rate)\n",
        "\n",
        "\n",
        "training_loop(n_epochs=n_epochs,\n",
        "              lstm=lstm,\n",
        "              optimiser=optimiser,\n",
        "              loss_fn=loss_fn,\n",
        "              X_train=X_train_tensors_final,\n",
        "              y_train=y_train_tensors,\n",
        "              X_test=X_test_tensors_final,\n",
        "              y_test=y_test_tensors)\n",
        "\n"
      ],
      "metadata": {
        "colab": {
          "base_uri": "https://localhost:8080/"
        },
        "id": "CRz6C0LGhcdy",
        "outputId": "b7d538af-65ee-402a-8010-2fcd0a6138ff"
      },
      "execution_count": 16,
      "outputs": [
        {
          "output_type": "stream",
          "name": "stdout",
          "text": [
            "Epoch: 0, train loss: 0.13473, test loss: 0.54105\n",
            "Epoch: 100, train loss: 0.00697, test loss: 0.03869\n",
            "Epoch: 200, train loss: 0.00524, test loss: 0.03263\n",
            "Epoch: 300, train loss: 0.00343, test loss: 0.02866\n",
            "Epoch: 400, train loss: 0.00300, test loss: 0.02667\n",
            "Epoch: 500, train loss: 0.00280, test loss: 0.02550\n",
            "Epoch: 600, train loss: 0.00269, test loss: 0.02423\n",
            "Epoch: 700, train loss: 0.00264, test loss: 0.02341\n",
            "Epoch: 800, train loss: 0.00262, test loss: 0.02285\n",
            "Epoch: 900, train loss: 0.00261, test loss: 0.02265\n"
          ]
        }
      ]
    },
    {
      "cell_type": "markdown",
      "source": [
        "# Prediction"
      ],
      "metadata": {
        "id": "Y1YsiofNjNAc"
      }
    },
    {
      "cell_type": "code",
      "source": [
        "import matplotlib.pyplot as plt\n",
        "\n",
        "df_X_ss = ss.transform(hist.drop(columns=['Close'])) # old transformers\n",
        "df_y_mm = mm.transform(hist.Close.values.reshape(-1, 1)) # old transformers\n",
        "# split the sequence\n",
        "df_X_ss, df_y_mm = split_sequences(df_X_ss, df_y_mm, 100, 50)\n",
        "# converting to tensors\n",
        "df_X_ss = torch.Tensor(df_X_ss)\n",
        "df_y_mm = torch.Tensor(df_y_mm)\n",
        "# reshaping the dataset\n",
        "df_X_ss = torch.reshape(df_X_ss, (df_X_ss.shape[0], 100, df_X_ss.shape[2]))\n",
        "\n",
        "train_predict = lstm(df_X_ss) # forward pass\n",
        "data_predict = train_predict.data.numpy() # numpy conversion\n",
        "dataY_plot = df_y_mm.data.numpy()\n",
        "\n",
        "data_predict = mm.inverse_transform(data_predict) # reverse transformation\n",
        "\n",
        "dataY_plot = mm.inverse_transform(dataY_plot)\n",
        "true, preds = [], []\n",
        "for i in range(len(dataY_plot)):\n",
        "    true.append(dataY_plot[i][0])\n",
        "for i in range(len(data_predict)):\n",
        "    preds.append(data_predict[i][0])\n",
        "\n",
        "\n",
        "plt.figure(figsize=(10,6)) #plotting\n",
        "plt.axvline(x=train_test_cutoff, c='r', linestyle='--') # size of the training set\n",
        "\n",
        "plt.plot(true, label='Actual Data') # actual plot\n",
        "plt.plot(preds, label='Predicted Data') # predicted plot\n",
        "plt.title('Time-Series Prediction')\n",
        "plt.legend()\n",
        "plt.savefig(\"whole_plot.png\", dpi=300)\n",
        "plt.show()\n",
        "\n"
      ],
      "metadata": {
        "colab": {
          "base_uri": "https://localhost:8080/",
          "height": 544
        },
        "id": "IhoHdiuojQNa",
        "outputId": "40ac0e4c-2a28-46f6-b40d-f1c30b10ebb3"
      },
      "execution_count": 17,
      "outputs": [
        {
          "output_type": "display_data",
          "data": {
            "text/plain": [
              "<Figure size 1000x600 with 1 Axes>"
            ],
            "image/png": "[encoded data removed]"
          },
          "metadata": {}
        }
      ]
    },
    {
      "cell_type": "markdown",
      "source": [
        "# Bitcoin Price for Tommorrow"
      ],
      "metadata": {
        "id": "UIhII_a_n4I_"
      }
    },
    {
      "cell_type": "code",
      "source": [
        "# Assuming df_X_ss and lstm are already defined and lstm is trained\n",
        "# Get the last batch of the recent 100 days data\n",
        "last_batch = df_X_ss[-1].reshape((1, 100, df_X_ss.shape[2]))\n",
        "\n",
        "# Convert to tensor\n",
        "last_batch_tensor = torch.Tensor(last_batch)\n",
        "\n",
        "# Get the prediction\n",
        "with torch.no_grad():\n",
        "    lstm.eval()\n",
        "    predicted_price_tensor = lstm(last_batch_tensor)\n",
        "    predicted_price_numpy = predicted_price_tensor.data.numpy()\n",
        "\n",
        "# Reverse the MinMax scaling\n",
        "predicted_price = mm.inverse_transform(predicted_price_numpy)\n",
        "print(f\"Predicted Bitcoin price for tomorrow: {predicted_price[0][0]}\")"
      ],
      "metadata": {
        "colab": {
          "base_uri": "https://localhost:8080/"
        },
        "id": "KuepDoxtmUDl",
        "outputId": "da3f56b0-1f92-4158-cd9f-2d9617f57144"
      },
      "execution_count": 18,
      "outputs": [
        {
          "output_type": "stream",
          "name": "stdout",
          "text": [
            "Predicted Bitcoin price for tomorrow: 67347.5703125\n"
          ]
        }
      ]
    },
    {
      "cell_type": "markdown",
      "source": [
        "# Model Evaluation"
      ],
      "metadata": {
        "id": "F0wpzXi3-xwZ"
      }
    },
    {
      "cell_type": "markdown",
      "source": [
        "## Test Loss"
      ],
      "metadata": {
        "id": "S1NgPjL5-3SX"
      }
    },
    {
      "cell_type": "code",
      "source": [
        "import torch\n",
        "\n",
        "# Function to evaluate the model\n",
        "def evaluate_model(model, X_test, y_test):\n",
        "    model.eval()  # Set the model to evaluation mode\n",
        "    with torch.no_grad():  # Turn off gradients for validation, saves memory and computations\n",
        "        predictions = model(X_test)\n",
        "        # Calculate the loss\n",
        "        loss_fn = torch.nn.MSELoss()\n",
        "        loss = loss_fn(predictions, y_test)\n",
        "    return loss.item()\n",
        "\n",
        "# Call the evaluate_model function\n",
        "test_loss = evaluate_model(lstm, X_test_tensors_final, y_test_tensors)\n",
        "print(f\"Test Loss: {test_loss}\")\n"
      ],
      "metadata": {
        "colab": {
          "base_uri": "https://localhost:8080/"
        },
        "id": "uwcFdd3OrlzL",
        "outputId": "b7d9cf68-0d86-4882-dc88-aed82a2e6db8"
      },
      "execution_count": 19,
      "outputs": [
        {
          "output_type": "stream",
          "name": "stdout",
          "text": [
            "Test Loss: 0.0225305687636137\n"
          ]
        }
      ]
    },
    {
      "cell_type": "markdown",
      "source": [
        "## MAE"
      ],
      "metadata": {
        "id": "f7B0lOtaDql2"
      }
    },
    {
      "cell_type": "code",
      "source": [
        "import torch\n",
        "from torch.nn.functional import l1_loss\n",
        "\n",
        "# 'predictions' and 'true_values' are PyTorch tensors of the same shape\n",
        "predictions = lstm(X_test_tensors_final)\n",
        "true_values = y_test_tensors\n",
        "\n",
        "# Calculate MAE\n",
        "mae = l1_loss(predictions, true_values, reduction='mean').item()\n",
        "print(f\"Mean Absolute Error: {mae}\")\n",
        "\n"
      ],
      "metadata": {
        "colab": {
          "base_uri": "https://localhost:8080/"
        },
        "id": "z_it8_hqDtqm",
        "outputId": "84798b38-097b-4322-81a0-b915c1aa7477"
      },
      "execution_count": 28,
      "outputs": [
        {
          "output_type": "stream",
          "name": "stdout",
          "text": [
            "Mean Absolute Error: 0.10730067640542984\n"
          ]
        }
      ]
    },
    {
      "cell_type": "markdown",
      "source": [
        "## R-squared"
      ],
      "metadata": {
        "id": "RNEHlrdqEZlh"
      }
    },
    {
      "cell_type": "code",
      "source": [
        "from sklearn.metrics import r2_score\n",
        "\n",
        "# lstm and X_test_tensors_final are already defined and lstm is trained\n",
        "lstm.eval()  # Set the model to evaluation mode\n",
        "y_pred = lstm(X_test_tensors_final)\n",
        "y_pred_numpy = y_pred.data.numpy()\n",
        "\n",
        "# y_test_tensors is the actual values tensor and mm is the MinMaxScaler\n",
        "y_test_numpy = y_test_tensors.data.numpy()\n",
        "\n",
        "# Inverse transform the scaled data to original scale\n",
        "y_pred_rescaled = mm.inverse_transform(y_pred_numpy)\n",
        "y_test_rescaled = mm.inverse_transform(y_test_numpy)\n",
        "\n",
        "# Calculate R-squared\n",
        "r_squared = r2_score(y_test_rescaled, y_pred_rescaled)\n",
        "print(f\"R-squared: {r_squared}\")\n",
        "\n",
        "\n"
      ],
      "metadata": {
        "colab": {
          "base_uri": "https://localhost:8080/"
        },
        "id": "aRVVjQ28V2aG",
        "outputId": "adfa152b-7bc5-4d22-90af-853d3bb1fd99"
      },
      "execution_count": 23,
      "outputs": [
        {
          "output_type": "stream",
          "name": "stdout",
          "text": [
            "R-squared: 0.07209295588349238\n"
          ]
        }
      ]
    },
    {
      "cell_type": "markdown",
      "source": [
        "## MAPE"
      ],
      "metadata": {
        "id": "xwbKcA3OXcDM"
      }
    },
    {
      "cell_type": "code",
      "source": [
        "import torch\n",
        "\n",
        "# Function to calculate MAPE\n",
        "def mean_absolute_percentage_error(y_true, y_pred, eps=1e-8):\n",
        "    # Avoid division by zero\n",
        "    y_true, y_pred = torch.tensor(y_true), torch.tensor(y_pred)\n",
        "    mape = torch.mean(torch.abs((y_true - y_pred) / torch.clamp(y_true, min=eps)))\n",
        "    return mape\n",
        "\n",
        "# Function to evaluate the model\n",
        "def evaluate_model(model, X_test, y_test):\n",
        "    model.eval()  # Set the model to evaluation mode\n",
        "    with torch.no_grad():  # Turn off gradients for validation, saves memory and computations\n",
        "        predictions = model(X_test)\n",
        "        # Calculate the MAPE\n",
        "        mape = mean_absolute_percentage_error(y_test, predictions)\n",
        "    return mape.item()\n",
        "\n",
        "# Call the evaluate_model function\n",
        "test_mape = evaluate_model(lstm, X_test_tensors_final, y_test_tensors)\n",
        "print(f\"Test MAPE: {test_mape}\")\n"
      ],
      "metadata": {
        "colab": {
          "base_uri": "https://localhost:8080/"
        },
        "id": "4U7_LZ_SXfb7",
        "outputId": "c209aa12-84d4-40c9-f25d-8f196c89c219"
      },
      "execution_count": 24,
      "outputs": [
        {
          "output_type": "stream",
          "name": "stdout",
          "text": [
            "Test MAPE: 0.13229183852672577\n"
          ]
        }
      ]
    }
  ]
}