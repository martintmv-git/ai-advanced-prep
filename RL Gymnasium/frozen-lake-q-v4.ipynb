{
 "cells": [
  {
   "cell_type": "markdown",
   "metadata": {},
   "source": [
    "# RL, Gymnasium, Q-Learning - Frozen Lake v1\n",
    "\n",
    "### Hyperparameters:\n",
    "- (is_slippery=False)\n",
    "- num_episodes = 15000\n",
    "- max_steps_per_episode = 100\n",
    "- learning_rate = 0.1\n",
    "- discount_rate = 0.9\n",
    "- exploration_rate = 1\n",
    "- max_exploration_rate = 1\n",
    "- min_exploration_rate = 0.01\n",
    "- exploration_decay_rate = 0.0005"
   ]
  },
  {
   "cell_type": "markdown",
   "metadata": {},
   "source": [
    "# 1. Setup"
   ]
  },
  {
   "cell_type": "code",
   "execution_count": 1,
   "metadata": {},
   "outputs": [],
   "source": [
    "# Cell 1: Setup\n",
    "import gymnasium as gym\n",
    "import numpy as np\n",
    "import random\n",
    "import time\n",
    "from IPython.display import clear_output"
   ]
  },
  {
   "cell_type": "markdown",
   "metadata": {},
   "source": [
    "# 2. Environment Setup"
   ]
  },
  {
   "cell_type": "markdown",
   "metadata": {},
   "source": [
    "> NOTE: Try `is_slippery=True`"
   ]
  },
  {
   "cell_type": "markdown",
   "metadata": {},
   "source": [
    "Examining the environment with `is_slippery=True`, I see some interesting challenges:\n",
    "\n",
    "- **Stochastic Transitions:** The slippery ice adds a layer of complexity. Moving in a direction doesn't guarantee staying on course; there's a chance of sliding sideways. This randomness affects state transitions, making them less predictable.\n",
    "\n",
    "- **Complex Learning:** Because of this slipperiness, our Q-learning algorithm might take longer to converge. The agent not only needs to find the best path to the goal but also learn to adapt to the uncertain movements. It must develop a policy robust enough to handle the variability introduced by the slippery ice.\n",
    "\n",
    "- **Variance in Rewards:** Expect more variation in rewards during training. With the added uncertainty, the agent will likely experience more falls into holes and lower rewards, especially early on. It's a tougher learning curve, but mastering it means mastering the unpredictability of the environment."
   ]
  },
  {
   "cell_type": "markdown",
   "metadata": {},
   "source": [
    "For visualisation purposes, you can change `render_mode='rgb_array'` to `render_mode='human'` and see the environment in action, but this slows down the training process significantly."
   ]
  },
  {
   "cell_type": "code",
   "execution_count": 2,
   "metadata": {},
   "outputs": [
    {
     "name": "stdout",
     "output_type": "stream",
     "text": [
      "Q-Table Size:  (16, 4)\n"
     ]
    }
   ],
   "source": [
    "# Cell 2: Environment Setup\n",
    "env = gym.make('FrozenLake-v1', desc=None, map_name=\"4x4\", is_slippery=False, render_mode=\"rgb_array\")\n",
    "action_space_size = env.action_space.n\n",
    "state_space_size = env.observation_space.n\n",
    "q_table = np.zeros((state_space_size, action_space_size))\n",
    "print(\"Q-Table Size: \", q_table.shape)"
   ]
  },
  {
   "cell_type": "markdown",
   "metadata": {},
   "source": [
    "# 3. Q-Learning Algorithm Implementation"
   ]
  },
  {
   "cell_type": "code",
   "execution_count": 3,
   "metadata": {},
   "outputs": [],
   "source": [
    "# Cell 3: Q-Learning Algorithm Parameters\n",
    "num_episodes = 15000 \n",
    "max_steps_per_episode = 100\n",
    "\n",
    "learning_rate = 0.1  # Increased because the environment is deterministic\n",
    "discount_rate = 0.9  # Slightly reduced to focus on immediate rewards\n",
    "\n",
    "exploration_rate = 1\n",
    "max_exploration_rate = 1\n",
    "min_exploration_rate = 0.01\n",
    "exploration_decay_rate = 0.0005  # Faster decay to shift to exploitation sooner"
   ]
  },
  {
   "cell_type": "code",
   "execution_count": 4,
   "metadata": {},
   "outputs": [
    {
     "name": "stdout",
     "output_type": "stream",
     "text": [
      "Episode 0: Reward = 0.0\n",
      "Episode 100: Reward = 0.0\n",
      "Episode 200: Reward = 0.0\n",
      "Episode 300: Reward = 0.0\n",
      "Episode 400: Reward = 0.0\n",
      "Episode 500: Reward = 0.0\n",
      "Episode 600: Reward = 0.0\n",
      "Episode 700: Reward = 0.0\n",
      "Episode 800: Reward = 0.0\n",
      "Episode 900: Reward = 1.0\n",
      "Episode 1000: Reward = 1.0\n",
      "Episode 1100: Reward = 0.0\n",
      "Episode 1200: Reward = 0.0\n",
      "Episode 1300: Reward = 0.0\n",
      "Episode 1400: Reward = 1.0\n",
      "Episode 1500: Reward = 0.0\n",
      "Episode 1600: Reward = 1.0\n",
      "Episode 1700: Reward = 0.0\n",
      "Episode 1800: Reward = 1.0\n",
      "Episode 1900: Reward = 1.0\n",
      "Episode 2000: Reward = 1.0\n",
      "Episode 2100: Reward = 0.0\n",
      "Episode 2200: Reward = 0.0\n",
      "Episode 2300: Reward = 0.0\n",
      "Episode 2400: Reward = 0.0\n",
      "Episode 2500: Reward = 0.0\n",
      "Episode 2600: Reward = 1.0\n",
      "Episode 2700: Reward = 1.0\n",
      "Episode 2800: Reward = 0.0\n",
      "Episode 2900: Reward = 1.0\n",
      "Episode 3000: Reward = 1.0\n",
      "Episode 3100: Reward = 1.0\n",
      "Episode 3200: Reward = 1.0\n",
      "Episode 3300: Reward = 1.0\n",
      "Episode 3400: Reward = 1.0\n",
      "Episode 3500: Reward = 0.0\n",
      "Episode 3600: Reward = 1.0\n",
      "Episode 3700: Reward = 0.0\n",
      "Episode 3800: Reward = 1.0\n",
      "Episode 3900: Reward = 1.0\n",
      "Episode 4000: Reward = 0.0\n",
      "Episode 4100: Reward = 1.0\n",
      "Episode 4200: Reward = 1.0\n",
      "Episode 4300: Reward = 1.0\n",
      "Episode 4400: Reward = 1.0\n",
      "Episode 4500: Reward = 1.0\n",
      "Episode 4600: Reward = 1.0\n",
      "Episode 4700: Reward = 1.0\n",
      "Episode 4800: Reward = 1.0\n",
      "Episode 4900: Reward = 1.0\n",
      "Episode 5000: Reward = 0.0\n",
      "Episode 5100: Reward = 1.0\n",
      "Episode 5200: Reward = 1.0\n",
      "Episode 5300: Reward = 1.0\n",
      "Episode 5400: Reward = 0.0\n",
      "Episode 5500: Reward = 1.0\n",
      "Episode 5600: Reward = 1.0\n",
      "Episode 5700: Reward = 1.0\n",
      "Episode 5800: Reward = 1.0\n",
      "Episode 5900: Reward = 1.0\n",
      "Episode 6000: Reward = 1.0\n",
      "Episode 6100: Reward = 1.0\n",
      "Episode 6200: Reward = 1.0\n",
      "Episode 6300: Reward = 1.0\n",
      "Episode 6400: Reward = 1.0\n",
      "Episode 6500: Reward = 1.0\n",
      "Episode 6600: Reward = 1.0\n",
      "Episode 6700: Reward = 1.0\n",
      "Episode 6800: Reward = 1.0\n",
      "Episode 6900: Reward = 1.0\n",
      "Episode 7000: Reward = 1.0\n",
      "Episode 7100: Reward = 1.0\n",
      "Episode 7200: Reward = 1.0\n",
      "Episode 7300: Reward = 1.0\n",
      "Episode 7400: Reward = 1.0\n",
      "Episode 7500: Reward = 1.0\n",
      "Episode 7600: Reward = 1.0\n",
      "Episode 7700: Reward = 1.0\n",
      "Episode 7800: Reward = 1.0\n",
      "Episode 7900: Reward = 1.0\n",
      "Episode 8000: Reward = 1.0\n",
      "Episode 8100: Reward = 1.0\n",
      "Episode 8200: Reward = 1.0\n",
      "Episode 8300: Reward = 1.0\n",
      "Episode 8400: Reward = 1.0\n",
      "Episode 8500: Reward = 1.0\n",
      "Episode 8600: Reward = 1.0\n",
      "Episode 8700: Reward = 1.0\n",
      "Episode 8800: Reward = 1.0\n",
      "Episode 8900: Reward = 1.0\n",
      "Episode 9000: Reward = 1.0\n",
      "Episode 9100: Reward = 1.0\n",
      "Episode 9200: Reward = 1.0\n",
      "Episode 9300: Reward = 1.0\n",
      "Episode 9400: Reward = 1.0\n",
      "Episode 9500: Reward = 1.0\n",
      "Episode 9600: Reward = 1.0\n",
      "Episode 9700: Reward = 1.0\n",
      "Episode 9800: Reward = 1.0\n",
      "Episode 9900: Reward = 1.0\n",
      "Episode 10000: Reward = 1.0\n",
      "Episode 10100: Reward = 1.0\n",
      "Episode 10200: Reward = 1.0\n",
      "Episode 10300: Reward = 1.0\n",
      "Episode 10400: Reward = 1.0\n",
      "Episode 10500: Reward = 1.0\n",
      "Episode 10600: Reward = 1.0\n",
      "Episode 10700: Reward = 1.0\n",
      "Episode 10800: Reward = 1.0\n",
      "Episode 10900: Reward = 1.0\n",
      "Episode 11000: Reward = 1.0\n",
      "Episode 11100: Reward = 1.0\n",
      "Episode 11200: Reward = 1.0\n",
      "Episode 11300: Reward = 1.0\n",
      "Episode 11400: Reward = 1.0\n",
      "Episode 11500: Reward = 1.0\n",
      "Episode 11600: Reward = 1.0\n",
      "Episode 11700: Reward = 1.0\n",
      "Episode 11800: Reward = 1.0\n",
      "Episode 11900: Reward = 1.0\n",
      "Episode 12000: Reward = 1.0\n",
      "Episode 12100: Reward = 1.0\n",
      "Episode 12200: Reward = 1.0\n",
      "Episode 12300: Reward = 1.0\n",
      "Episode 12400: Reward = 1.0\n",
      "Episode 12500: Reward = 1.0\n",
      "Episode 12600: Reward = 1.0\n",
      "Episode 12700: Reward = 1.0\n",
      "Episode 12800: Reward = 1.0\n",
      "Episode 12900: Reward = 1.0\n",
      "Episode 13000: Reward = 1.0\n",
      "Episode 13100: Reward = 1.0\n",
      "Episode 13200: Reward = 1.0\n",
      "Episode 13300: Reward = 1.0\n",
      "Episode 13400: Reward = 1.0\n",
      "Episode 13500: Reward = 1.0\n",
      "Episode 13600: Reward = 1.0\n",
      "Episode 13700: Reward = 1.0\n",
      "Episode 13800: Reward = 1.0\n",
      "Episode 13900: Reward = 1.0\n",
      "Episode 14000: Reward = 1.0\n",
      "Episode 14100: Reward = 1.0\n",
      "Episode 14200: Reward = 1.0\n",
      "Episode 14300: Reward = 1.0\n",
      "Episode 14400: Reward = 1.0\n",
      "Episode 14500: Reward = 1.0\n",
      "Episode 14600: Reward = 1.0\n",
      "Episode 14700: Reward = 1.0\n",
      "Episode 14800: Reward = 1.0\n",
      "Episode 14900: Reward = 1.0\n",
      "Training completed.\n"
     ]
    }
   ],
   "source": [
    "# Cell 4: Q-Learning Algorithm Implementation with corrected state handling\n",
    "rewards_all_episodes = []\n",
    "\n",
    "# Q-learning algorithm\n",
    "for episode in range(num_episodes):\n",
    "    initial_state = env.reset()\n",
    "    state = initial_state[0] if isinstance(initial_state, tuple) else initial_state  # state extraction\n",
    "    terminated = False\n",
    "    truncated = False\n",
    "    rewards_current_episode = 0\n",
    "    \n",
    "    for step in range(max_steps_per_episode):\n",
    "        # Exploration-exploitation trade-off\n",
    "        exploration_rate_threshold = random.uniform(0, 1)\n",
    "        if exploration_rate_threshold > exploration_rate:\n",
    "            action = np.argmax(q_table[state,:]) \n",
    "        else:\n",
    "            action = env.action_space.sample()\n",
    "        \n",
    "        # Execute the action\n",
    "        new_state, reward, terminated, truncated, info = env.step(action)\n",
    "        new_state = new_state[0] if isinstance(new_state, tuple) else new_state  # state extraction\n",
    "\n",
    "        # Update Q-table for Q(s,a)\n",
    "        q_table[state, action] = q_table[state, action] * (1 - learning_rate) + \\\n",
    "            learning_rate * (reward + discount_rate * np.max(q_table[new_state, :]))\n",
    "        \n",
    "        state = new_state  # Update the state\n",
    "        rewards_current_episode += reward\n",
    "        \n",
    "        if terminated or truncated:\n",
    "            break\n",
    "        \n",
    "    # Exploration rate decay\n",
    "    exploration_rate = min_exploration_rate + \\\n",
    "        (max_exploration_rate - min_exploration_rate) * np.exp(-exploration_decay_rate*episode)\n",
    "    \n",
    "    rewards_all_episodes.append(rewards_current_episode)\n",
    "\n",
    "    if episode % 100 == 0:  # Print status every 100 episodes to track progress\n",
    "        print(f\"Episode {episode}: Reward = {rewards_current_episode}\")\n",
    "\n",
    "print(\"Training completed.\")"
   ]
  },
  {
   "cell_type": "markdown",
   "metadata": {},
   "source": [
    "# 4. Training Output"
   ]
  },
  {
   "cell_type": "code",
   "execution_count": 5,
   "metadata": {},
   "outputs": [
    {
     "data": {
      "image/png": "[encoded data removed]",
      "text/plain": [
       "<Figure size 1200x700 with 1 Axes>"
      ]
     },
     "metadata": {},
     "output_type": "display_data"
    }
   ],
   "source": [
    "# Cell 5: Visualization of Training Results\n",
    "import matplotlib.pyplot as plt\n",
    "\n",
    "# Calculate average reward per thousand episodes\n",
    "rewards_per_thousand_episodes = np.array(rewards_all_episodes)\n",
    "num_thousand_episodes = len(rewards_per_thousand_episodes) // 1000\n",
    "\n",
    "if len(rewards_per_thousand_episodes) % 1000 != 0:\n",
    "    rewards_per_thousand_episodes = rewards_per_thousand_episodes[:num_thousand_episodes * 1000]\n",
    "\n",
    "rewards_per_thousand_episodes = rewards_per_thousand_episodes.reshape(-1, 1000)\n",
    "averages = np.mean(rewards_per_thousand_episodes, axis=1)\n",
    "\n",
    "# Plotting the average reward per thousand episodes\n",
    "plt.figure(figsize=(12, 7))\n",
    "plt.plot(range(1000, num_thousand_episodes * 1000 + 1, 1000), averages)\n",
    "plt.xlabel('Episodes')\n",
    "plt.ylabel('Average Reward')\n",
    "plt.title('Average Reward per Thousand Episodes')\n",
    "plt.show()"
   ]
  },
  {
   "cell_type": "markdown",
   "metadata": {},
   "source": [
    "# 🔍 Key insights\n",
    "\n",
    "Analyzing the deterministic Frozen Lake environment:\n",
    "\n",
    "### Insights:\n",
    "\n",
    "1. **Quick Learning**: The sharp rise at the start suggests the agent learns fast, likely because the environment's predictability helps.\n",
    "\n",
    "2. **Approaching Optimal Performance**: Rewards near 1.0 mean the agent often reaches the goal, showing effective learning with chosen hyperparameters.\n",
    "\n",
    "3. **Learning Plateau**: After the initial surge, the curve flattens, indicating stable performance near the goal.\n",
    "\n",
    "4. **Good Exploration Balance**: The exploration rate allows enough exploration before settling into a successful strategy.\n",
    "\n",
    "5. **Potential Early Convergence**: Performance stabilizes early, hinting that training episodes could be shortened without losing effectiveness.\n",
    "\n",
    "### Conclusion:\n",
    "\n",
    "The agent learns well with these hyperparameters, almost maximizing rewards.\n",
    "\n",
    "For future runs, stopping training once rewards stabilize near 1.0 could save time and resources, while still achieving effective learning."
   ]
  },
  {
   "cell_type": "markdown",
   "metadata": {},
   "source": [
    "# 5. Evaluate the Agent"
   ]
  },
  {
   "cell_type": "code",
   "execution_count": 6,
   "metadata": {},
   "outputs": [
    {
     "name": "stdout",
     "output_type": "stream",
     "text": [
      "****You reached the goal!****\n"
     ]
    }
   ],
   "source": [
    "# Cell 6: Evaluate the Agent\n",
    "for episode in range(3):\n",
    "    initial_state = env.reset()\n",
    "    state = initial_state[0] if isinstance(initial_state, tuple) else initial_state  # Extract state index correctly\n",
    "    terminated = False\n",
    "    truncated = False\n",
    "    print(\"*****Episode \", episode + 1, \"*****\\n\\n\\n\\n\")\n",
    "    time.sleep(1)\n",
    "    \n",
    "    for step in range(max_steps_per_episode):\n",
    "        clear_output(wait=True)\n",
    "        env.render()\n",
    "        time.sleep(0.3)\n",
    "        \n",
    "        action = np.argmax(q_table[state,:])\n",
    "        new_state, reward, terminated, truncated, info = env.step(action)\n",
    "        new_state = new_state[0] if isinstance(new_state, tuple) else new_state  # Extract state index correctly\n",
    "\n",
    "        if terminated or truncated:\n",
    "            clear_output(wait=True)\n",
    "            env.render()\n",
    "            if reward == 1:\n",
    "                print(\"****You reached the goal!****\")\n",
    "                time.sleep(2)\n",
    "            else:\n",
    "                print(\"****You fell through a hole!****\")\n",
    "                time.sleep(2)\n",
    "            clear_output(wait=True)\n",
    "            break\n",
    "        state = new_state\n",
    "        \n",
    "env.close()"
   ]
  },
  {
   "cell_type": "markdown",
   "metadata": {},
   "source": [
    "# 6. Comparing Exploration Strategies"
   ]
  },
  {
   "cell_type": "code",
   "execution_count": 7,
   "metadata": {},
   "outputs": [
    {
     "data": {
      "image/png": "[encoded data removed]",
      "text/plain": [
       "<Figure size 1200x700 with 1 Axes>"
      ]
     },
     "metadata": {},
     "output_type": "display_data"
    }
   ],
   "source": [
    "# Cell 7: Comparing Exploration Strategies\n",
    "def boltzmann_exploration(q_values, tau):\n",
    "    probabilities = np.exp(q_values / tau) / np.sum(np.exp(q_values / tau))\n",
    "    action = np.random.choice(range(len(q_values)), p=probabilities)\n",
    "    return action\n",
    "\n",
    "# Redefine Q-learning with exploration strategy as a parameter\n",
    "def run_q_learning(env, episodes, strategy='epsilon-greedy', tau=1.0):\n",
    "    q_table = np.zeros((env.observation_space.n, env.action_space.n))\n",
    "    rewards = []\n",
    "\n",
    "    for i in range(episodes):\n",
    "        initial_state = env.reset()\n",
    "        state = initial_state[0] if isinstance(initial_state, tuple) else initial_state  # state is an integer\n",
    "        terminated = False\n",
    "        truncated = False\n",
    "        total_reward = 0\n",
    "        \n",
    "        while not (terminated or truncated):\n",
    "            if strategy == 'epsilon-greedy':\n",
    "                action = np.argmax(q_table[state]) if np.random.random() > exploration_rate else env.action_space.sample()\n",
    "            elif strategy == 'boltzmann':\n",
    "                action = boltzmann_exploration(q_table[state], tau)\n",
    "                \n",
    "            next_state, reward, terminated, truncated, info = env.step(action)\n",
    "            next_state = next_state[0] if isinstance(next_state, tuple) else next_state  # new_state is an integer\n",
    "\n",
    "            # Update Q-table\n",
    "            old_value = q_table[state, action]\n",
    "            next_max = np.max(q_table[next_state])\n",
    "            new_value = (1 - learning_rate) * old_value + learning_rate * (reward + discount_rate * next_max)\n",
    "            q_table[state, action] = new_value\n",
    "            \n",
    "            state = next_state\n",
    "            total_reward += reward\n",
    "            \n",
    "        rewards.append(total_reward)\n",
    "    \n",
    "    return rewards\n",
    "\n",
    "# Experiment with different temperatures for Boltzmann exploration\n",
    "tau_values = [0.1, 1, 10]\n",
    "results = {}\n",
    "for tau in tau_values:\n",
    "    results[tau] = run_q_learning(env, 1000, 'boltzmann', tau)\n",
    "\n",
    "# Plot results\n",
    "plt.figure(figsize=(12, 7))\n",
    "for tau, rewards in results.items():\n",
    "    plt.plot(np.convolve(rewards, np.ones(100)/100, mode='valid'), label=f'Tau = {tau}')\n",
    "plt.legend()\n",
    "plt.xlabel('Episodes')\n",
    "plt.ylabel('Smoothed Rewards')\n",
    "plt.title('Comparison of Boltzmann Exploration with Different Temperature Values')\n",
    "plt.show()"
   ]
  },
  {
   "cell_type": "markdown",
   "metadata": {},
   "source": [
    "# 🔍 Key insights\n",
    "Analyzing Boltzmann exploration in Frozen Lake:\n",
    "\n",
    "### Insights:\n",
    "\n",
    "1. **Low Temperature (τ = 0.1)**: Quick convergence to optimal policy, exploiting known actions efficiently.\n",
    "\n",
    "2. **Medium Temperature (τ = 1)**: Consistently low performance due to excessive exploration.\n",
    "\n",
    "3. **High Temperature (τ = 10)**: Excessive exploration leads to rare goal finding, ineffective in a predictable environment.\n",
    "\n",
    "### Conclusions:\n",
    "\n",
    "In short, the graph suggests that the agent with a lower temperature parameter (τ = 0.1) for Boltzmann exploration quickly learned an effective strategy and achieved a high level of performance in the deterministic Frozen Lake environment. In contrast, agents with higher temperature parameters (τ = 1 and τ = 10) did not improve significantly, maintaining a low average reward throughout the training episodes, which indicates a suboptimal performance likely due to excessive exploration."
   ]
  }
 ],
 "metadata": {
  "kernelspec": {
   "display_name": "Python 3",
   "language": "python",
   "name": "python3"
  },
  "language_info": {
   "codemirror_mode": {
    "name": "ipython",
    "version": 3
   },
   "file_extension": ".py",
   "mimetype": "text/x-python",
   "name": "python",
   "nbconvert_exporter": "python",
   "pygments_lexer": "ipython3",
   "version": "3.8.16"
  }
 },
 "nbformat": 4,
 "nbformat_minor": 2
}
