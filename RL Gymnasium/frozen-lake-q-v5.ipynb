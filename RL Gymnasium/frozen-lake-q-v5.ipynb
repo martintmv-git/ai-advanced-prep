{
 "cells": [
  {
   "cell_type": "markdown",
   "metadata": {},
   "source": [
    "# RL, Gymnasium, Q-Learning - Frozen Lake v1\n",
    "\n",
    "### Hyperparameters:\n",
    "- (is_slippery=False)\n",
    "- num_episodes = 7000\n",
    "- max_steps_per_episode = 100\n",
    "- learning_rate = 0.1\n",
    "- discount_rate = 0.9\n",
    "- exploration_rate = 1\n",
    "- max_exploration_rate = 1\n",
    "- min_exploration_rate = 0.01\n",
    "- exploration_decay_rate = 0.0005\n",
    "- negative_move_reward = -0.01\n",
    "- negative_fall_reward = -1"
   ]
  },
  {
   "cell_type": "markdown",
   "metadata": {},
   "source": [
    "# 1. Setup"
   ]
  },
  {
   "cell_type": "code",
   "execution_count": 1,
   "metadata": {},
   "outputs": [],
   "source": [
    "# Cell 1: Setup\n",
    "import gymnasium as gym\n",
    "import numpy as np\n",
    "import random\n",
    "import time\n",
    "from IPython.display import clear_output"
   ]
  },
  {
   "cell_type": "markdown",
   "metadata": {},
   "source": [
    "# 2. Environment Setup"
   ]
  },
  {
   "cell_type": "markdown",
   "metadata": {},
   "source": [
    "> NOTE: Try `is_slippery=True`"
   ]
  },
  {
   "cell_type": "markdown",
   "metadata": {},
   "source": [
    "Examining the environment with `is_slippery=True`, I see some interesting challenges:\n",
    "\n",
    "- **Stochastic Transitions:** The slippery ice adds a layer of complexity. Moving in a direction doesn't guarantee staying on course; there's a chance of sliding sideways. This randomness affects state transitions, making them less predictable.\n",
    "\n",
    "- **Complex Learning:** Because of this slipperiness, our Q-learning algorithm might take longer to converge. The agent not only needs to find the best path to the goal but also learn to adapt to the uncertain movements. It must develop a policy robust enough to handle the variability introduced by the slippery ice.\n",
    "\n",
    "- **Variance in Rewards:** Expect more variation in rewards during training. With the added uncertainty, the agent will likely experience more falls into holes and lower rewards, especially early on. It's a tougher learning curve, but mastering it means mastering the unpredictability of the environment."
   ]
  },
  {
   "cell_type": "markdown",
   "metadata": {},
   "source": [
    "For visualisation purposes, you can change `render_mode='rgb_array'` to `render_mode='human'` and see the environment in action, but this slows down the training process significantly."
   ]
  },
  {
   "cell_type": "code",
   "execution_count": 2,
   "metadata": {},
   "outputs": [
    {
     "name": "stdout",
     "output_type": "stream",
     "text": [
      "Q-Table Size:  (16, 4)\n"
     ]
    }
   ],
   "source": [
    "# Cell 2: Environment Setup\n",
    "env = gym.make('FrozenLake-v1', desc=None, map_name=\"4x4\", is_slippery=False, render_mode=\"rgb_array\")\n",
    "action_space_size = env.action_space.n\n",
    "state_space_size = env.observation_space.n\n",
    "q_table = np.zeros((state_space_size, action_space_size))\n",
    "print(\"Q-Table Size: \", q_table.shape)"
   ]
  },
  {
   "cell_type": "markdown",
   "metadata": {},
   "source": [
    "# 3. Q-Learning Algorithm Implementation"
   ]
  },
  {
   "cell_type": "code",
   "execution_count": 15,
   "metadata": {},
   "outputs": [],
   "source": [
    "# Cell 3: Q-Learning Algorithm Parameters\n",
    "num_episodes = 7000\n",
    "max_steps_per_episode = 100\n",
    "\n",
    "learning_rate = 0.1  # Increased because the environment is deterministic\n",
    "discount_rate = 0.9  # Slightly reduced to focus on immediate rewards\n",
    "\n",
    "exploration_rate = 1\n",
    "max_exploration_rate = 1\n",
    "min_exploration_rate = 0.01\n",
    "exploration_decay_rate = 0.0005  # Faster decay to shift to exploitation sooner\n",
    "\n",
    "# Negative rewards\n",
    "negative_move_reward = -0.01\n",
    "negative_fall_reward = -1"
   ]
  },
  {
   "cell_type": "code",
   "execution_count": 16,
   "metadata": {},
   "outputs": [
    {
     "name": "stdout",
     "output_type": "stream",
     "text": [
      "Episode 0: Reward = -0.02\n",
      "Episode 100: Reward = -0.04\n",
      "Episode 200: Reward = -0.11999999999999998\n",
      "Episode 300: Reward = -0.02\n",
      "Episode 400: Reward = -0.02\n",
      "Episode 500: Reward = -0.060000000000000005\n",
      "Episode 600: Reward = -0.03\n",
      "Episode 700: Reward = -0.11999999999999998\n",
      "Episode 800: Reward = -0.09999999999999999\n",
      "Episode 900: Reward = -0.09999999999999999\n",
      "Episode 1000: Reward = 0.82\n",
      "Episode 1100: Reward = 0.9\n",
      "Episode 1200: Reward = -0.04\n",
      "Episode 1300: Reward = -0.05\n",
      "Episode 1400: Reward = -0.05\n",
      "Episode 1500: Reward = -0.08\n",
      "Episode 1600: Reward = 0.95\n",
      "Episode 1700: Reward = -0.060000000000000005\n",
      "Episode 1800: Reward = 0.9299999999999999\n",
      "Episode 1900: Reward = 0.94\n",
      "Episode 2000: Reward = 0.94\n",
      "Episode 2100: Reward = 0.9299999999999999\n",
      "Episode 2200: Reward = 0.9299999999999999\n",
      "Episode 2300: Reward = 0.95\n",
      "Episode 2400: Reward = 0.95\n",
      "Episode 2500: Reward = 0.89\n",
      "Episode 2600: Reward = -0.04\n",
      "Episode 2700: Reward = 0.95\n",
      "Episode 2800: Reward = -0.04\n",
      "Episode 2900: Reward = 0.95\n",
      "Episode 3000: Reward = -0.04\n",
      "Episode 3100: Reward = 0.9299999999999999\n",
      "Episode 3200: Reward = 0.9299999999999999\n",
      "Episode 3300: Reward = -0.03\n",
      "Episode 3400: Reward = 0.95\n",
      "Episode 3500: Reward = 0.95\n",
      "Episode 3600: Reward = 0.94\n",
      "Episode 3700: Reward = 0.95\n",
      "Episode 3800: Reward = 0.95\n",
      "Episode 3900: Reward = 0.94\n",
      "Episode 4000: Reward = 0.92\n",
      "Episode 4100: Reward = 0.9299999999999999\n",
      "Episode 4200: Reward = 0.95\n",
      "Episode 4300: Reward = 0.94\n",
      "Episode 4400: Reward = 0.9299999999999999\n",
      "Episode 4500: Reward = 0.94\n",
      "Episode 4600: Reward = -0.02\n",
      "Episode 4700: Reward = -0.03\n",
      "Episode 4800: Reward = 0.95\n",
      "Episode 4900: Reward = -0.02\n",
      "Episode 5000: Reward = 0.95\n",
      "Episode 5100: Reward = -0.04\n",
      "Episode 5200: Reward = 0.95\n",
      "Episode 5300: Reward = 0.95\n",
      "Episode 5400: Reward = 0.94\n",
      "Episode 5500: Reward = -0.05\n",
      "Episode 5600: Reward = 0.94\n",
      "Episode 5700: Reward = 0.95\n",
      "Episode 5800: Reward = 0.95\n",
      "Episode 5900: Reward = 0.94\n",
      "Episode 6000: Reward = 0.95\n",
      "Episode 6100: Reward = 0.94\n",
      "Episode 6200: Reward = 0.95\n",
      "Episode 6300: Reward = 0.95\n",
      "Episode 6400: Reward = 0.95\n",
      "Episode 6500: Reward = 0.95\n",
      "Episode 6600: Reward = 0.95\n",
      "Episode 6700: Reward = 0.95\n",
      "Episode 6800: Reward = 0.95\n",
      "Episode 6900: Reward = 0.95\n",
      "Training completed.\n"
     ]
    }
   ],
   "source": [
    "# Cell 4: Q-Learning Algorithm Implementation with corrected state handling\n",
    "rewards_all_episodes = []\n",
    "\n",
    "# Q-learning algorithm\n",
    "for episode in range(num_episodes):\n",
    "    initial_state = env.reset()\n",
    "    state = initial_state[0] if isinstance(initial_state, tuple) else initial_state  # state extraction\n",
    "    terminated = False\n",
    "    truncated = False\n",
    "    rewards_current_episode = 0\n",
    "    \n",
    "    for step in range(max_steps_per_episode):\n",
    "        # Exploration-exploitation trade-off\n",
    "        exploration_rate_threshold = random.uniform(0, 1)\n",
    "        if exploration_rate_threshold > exploration_rate:\n",
    "            action = np.argmax(q_table[state,:]) \n",
    "        else:\n",
    "            action = env.action_space.sample()\n",
    "        \n",
    "        # Execute the action\n",
    "        new_state, reward, terminated, truncated, info = env.step(action)\n",
    "        new_state = new_state[0] if isinstance(new_state, tuple) else new_state  # state extraction\n",
    "\n",
    "        # Modify reward for negative rewards\n",
    "        if reward == 0:\n",
    "            reward += negative_move_reward\n",
    "        elif reward == -1:  # Hole\n",
    "            reward += negative_fall_reward\n",
    "        \n",
    "        # Update Q-table for Q(s,a)\n",
    "        q_table[state, action] = q_table[state, action] * (1 - learning_rate) + \\\n",
    "            learning_rate * (reward + discount_rate * np.max(q_table[new_state, :]))\n",
    "        \n",
    "        state = new_state  # Update the state\n",
    "        rewards_current_episode += reward\n",
    "        \n",
    "        if terminated or truncated:\n",
    "            break\n",
    "        \n",
    "    # Exploration rate decay\n",
    "    exploration_rate = min_exploration_rate + \\\n",
    "        (max_exploration_rate - min_exploration_rate) * np.exp(-exploration_decay_rate*episode)\n",
    "    \n",
    "    rewards_all_episodes.append(rewards_current_episode)\n",
    "\n",
    "    if episode % 100 == 0:  # Print status every 100 episodes to track progress\n",
    "        print(f\"Episode {episode}: Reward = {rewards_current_episode}\")\n",
    "\n",
    "print(\"Training completed.\")"
   ]
  },
  {
   "cell_type": "markdown",
   "metadata": {},
   "source": [
    "# 4. Training Output"
   ]
  },
  {
   "cell_type": "code",
   "execution_count": 17,
   "metadata": {},
   "outputs": [
    {
     "data": {
      "image/png": "[encoded data removed]",
      "text/plain": [
       "<Figure size 1200x700 with 1 Axes>"
      ]
     },
     "metadata": {},
     "output_type": "display_data"
    }
   ],
   "source": [
    "# Cell 5: Visualization of Training Results\n",
    "import matplotlib.pyplot as plt\n",
    "\n",
    "# Calculate average reward per thousand episodes\n",
    "rewards_per_thousand_episodes = np.array(rewards_all_episodes)\n",
    "num_thousand_episodes = len(rewards_per_thousand_episodes) // 1000\n",
    "\n",
    "if len(rewards_per_thousand_episodes) % 1000 != 0:\n",
    "    rewards_per_thousand_episodes = rewards_per_thousand_episodes[:num_thousand_episodes * 1000]\n",
    "\n",
    "rewards_per_thousand_episodes = rewards_per_thousand_episodes.reshape(-1, 1000)\n",
    "averages = np.mean(rewards_per_thousand_episodes, axis=1)\n",
    "\n",
    "# Plotting the average reward per thousand episodes\n",
    "plt.figure(figsize=(12, 7))\n",
    "plt.plot(range(1000, num_thousand_episodes * 1000 + 1, 1000), averages)\n",
    "plt.xlabel('Episodes')\n",
    "plt.ylabel('Average Reward')\n",
    "plt.title('Average Reward per Thousand Episodes')\n",
    "plt.show()"
   ]
  },
  {
   "cell_type": "markdown",
   "metadata": {},
   "source": [
    "# 🔍 Key insights\n",
    "\n",
    "Examining the Q-learning agent's performance in the deterministic Frozen Lake environment (`is_slippery=false`), here's what I found over 7,000 episodes:\n",
    "\n",
    "1. **Steady Improvement**: The agent consistently gets better, learning from both good and bad moves.\n",
    "\n",
    "2. **Negative Rewards Impact**: Penalties for moves and falling into holes push the agent to find quicker paths and avoid hazards better.\n",
    "\n",
    "3. **Approaching Best Performance**: Performance improves a lot over time, eventually plateauing at a high level, nearing the best possible for this setup.\n",
    "\n",
    "4. **Possibly Early Peak**: Towards the end of training, the improvement slows, suggesting the agent might have almost reached its best strategy.\n",
    "\n",
    "### Conclusions\n",
    "\n",
    "Adding negative rewards helped the agent learn efficiently in this deterministic environment. It learns to move wisely and avoid dangers, leading to high rewards by the end.\n",
    "\n",
    "Considering the plateau, we might not need all 7,000 episodes. Stopping training once the agent consistently does well could save time and resources.\n",
    "\n",
    "Overall, negative rewards worked well, encouraging smart moves and careful decision-making, leading to impressive learning in a reasonable time frame."
   ]
  },
  {
   "cell_type": "markdown",
   "metadata": {},
   "source": [
    "# 5. Evaluate the Agent"
   ]
  },
  {
   "cell_type": "code",
   "execution_count": 18,
   "metadata": {},
   "outputs": [
    {
     "name": "stdout",
     "output_type": "stream",
     "text": [
      "****You reached the goal!****\n"
     ]
    }
   ],
   "source": [
    "# Cell 6: Evaluate the Agent\n",
    "for episode in range(3):\n",
    "    initial_state = env.reset()\n",
    "    state = initial_state[0] if isinstance(initial_state, tuple) else initial_state  # Extract state index correctly\n",
    "    terminated = False\n",
    "    truncated = False\n",
    "    print(\"*****Episode \", episode + 1, \"*****\\n\\n\\n\\n\")\n",
    "    time.sleep(1)\n",
    "    \n",
    "    for step in range(max_steps_per_episode):\n",
    "        clear_output(wait=True)\n",
    "        env.render()\n",
    "        time.sleep(0.3)\n",
    "        \n",
    "        action = np.argmax(q_table[state,:])\n",
    "        new_state, reward, terminated, truncated, info = env.step(action)\n",
    "        new_state = new_state[0] if isinstance(new_state, tuple) else new_state  # Extract state index correctly\n",
    "\n",
    "        if terminated or truncated:\n",
    "            clear_output(wait=True)\n",
    "            env.render()\n",
    "            if reward == 1:\n",
    "                print(\"****You reached the goal!****\")\n",
    "                time.sleep(2)\n",
    "            else:\n",
    "                print(\"****You fell through a hole!****\")\n",
    "                time.sleep(2)\n",
    "            clear_output(wait=True)\n",
    "            break\n",
    "        state = new_state\n",
    "        \n",
    "env.close()"
   ]
  }
 ],
 "metadata": {
  "kernelspec": {
   "display_name": "Python 3",
   "language": "python",
   "name": "python3"
  },
  "language_info": {
   "codemirror_mode": {
    "name": "ipython",
    "version": 3
   },
   "file_extension": ".py",
   "mimetype": "text/x-python",
   "name": "python",
   "nbconvert_exporter": "python",
   "pygments_lexer": "ipython3",
   "version": "3.8.16"
  }
 },
 "nbformat": 4,
 "nbformat_minor": 2
}
