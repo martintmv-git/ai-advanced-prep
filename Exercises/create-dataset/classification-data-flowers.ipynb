{
 "cells": [
  {
   "cell_type": "code",
   "execution_count": 1,
   "metadata": {},
   "outputs": [],
   "source": [
    "import os\n",
    "import glob\n",
    "from IPython.display import clear_output\n",
    "import cv2\n",
    "import pandas as pd"
   ]
  },
  {
   "cell_type": "code",
   "execution_count": 2,
   "metadata": {},
   "outputs": [],
   "source": [
    "det_dir = 'detection_data'\n",
    "det_dir_flowers = 'detection_data_flowers'\n",
    "class_dir = 'classification_data'\n",
    "class_dir_flowers = 'classification_data_flowers'"
   ]
  },
  {
   "cell_type": "code",
   "execution_count": 3,
   "metadata": {},
   "outputs": [
    {
     "data": {
      "text/plain": [
       "3237"
      ]
     },
     "execution_count": 3,
     "metadata": {},
     "output_type": "execute_result"
    }
   ],
   "source": [
    "jpg_files = glob.glob(det_dir + '/images/*.jpg')\n",
    "file_names = [file.split('/')[-1] for file in jpg_files]\n",
    "file_names_without_extension = [os.path.splitext(file)[0] for file in file_names]\n",
    "len(file_names_without_extension)"
   ]
  },
  {
   "cell_type": "code",
   "execution_count": 4,
   "metadata": {},
   "outputs": [
    {
     "data": {
      "text/plain": [
       "39445"
      ]
     },
     "execution_count": 4,
     "metadata": {},
     "output_type": "execute_result"
    }
   ],
   "source": [
    "jpg_files = glob.glob(class_dir + '/images/*.jpg')\n",
    "file_names = [file.split('/')[-1] for file in jpg_files]\n",
    "crops_without_extension = [os.path.splitext(file)[0] for file in file_names]\n",
    "cropped_names = [name.split('_', 2)[0] + '_' + name.split('_', 2)[1] for name in crops_without_extension]\n",
    "len(cropped_names)"
   ]
  },
  {
   "cell_type": "code",
   "execution_count": 5,
   "metadata": {},
   "outputs": [
    {
     "data": {
      "text/plain": [
       "['153_20200618121032']"
      ]
     },
     "execution_count": 5,
     "metadata": {},
     "output_type": "execute_result"
    }
   ],
   "source": [
    "test = file_names_without_extension[:1].copy()\n",
    "# test.append('192_20200715165926')\n",
    "test"
   ]
  },
  {
   "cell_type": "code",
   "execution_count": 6,
   "metadata": {},
   "outputs": [],
   "source": [
    "import time\n",
    "\n",
    "def timer(func):\n",
    "  def wrapper(*args, **kwargs):\n",
    "    start_time = time.time()\n",
    "    result = func(*args, **kwargs)\n",
    "    end_time = time.time()\n",
    "    execution_time = end_time - start_time\n",
    "    print(f\"Execution time: {round(execution_time/60, 1)} minutes\")\n",
    "    return result\n",
    "  return wrapper"
   ]
  },
  {
   "cell_type": "code",
   "execution_count": 7,
   "metadata": {},
   "outputs": [],
   "source": [
    "@timer\n",
    "def create_class_data_flowers(class_dir=class_dir, det_dir=det_dir, det_dir_flowers=det_dir_flowers, class_dir_flowers=class_dir_flowers, file_names_without_extension=file_names_without_extension, crops_without_extension=crops_without_extension):\n",
    "    # Read the classification labels from a CSV file\n",
    "    labels_df = pd.read_csv(class_dir + '/classification_labels.csv')\n",
    "\n",
    "    total_anns = len(labels_df[labels_df['basename'].apply(lambda x: '_'.join(x.split('_', 2)[:2]) in file_names_without_extension)])\n",
    "    current_anns = 0\n",
    "\n",
    "    total_files = len(list(set(cropped_names).intersection(set(file_names_without_extension))))\n",
    "    current_file = 0\n",
    "\n",
    "    # for file in file_names_without_extension:\n",
    "    for file in list(set(cropped_names).intersection(set(file_names_without_extension))):\n",
    "        current_file += 1\n",
    "\n",
    "        temp_crops = [crop for crop in crops_without_extension if file in crop]\n",
    "\n",
    "        # Read the detection images\n",
    "        img_rgb = cv2.imread(det_dir + '/images/' + file + '.jpg')\n",
    "        img_rgb_flowers = cv2.imread(det_dir_flowers + '/images/' + file + '.jpg')\n",
    "        img_gray = cv2.cvtColor(img_rgb, cv2.COLOR_BGR2GRAY)\n",
    "\n",
    "        for crop in temp_crops:\n",
    "            current_anns += 1\n",
    "            clear_output(wait=True)\n",
    "            print(f'Processing file {current_file} of {total_files}, (' + str(round( current_anns / total_anns * 100)) + '%)')\n",
    "            \n",
    "            # Read the template image\n",
    "            template = cv2.imread(class_dir + '/images/' + crop + '.jpg', 0)\n",
    "            h, w = template.shape[::]\n",
    "\n",
    "            # Perform template matching\n",
    "            res = cv2.matchTemplate(img_gray, template, cv2.TM_SQDIFF)\n",
    "            min_val, max_val, min_loc, max_loc = cv2.minMaxLoc(res)\n",
    "            top_left = min_loc\n",
    "\n",
    "            # Save template from flowers detection data to classification flowers data\n",
    "            # [y:y+h,x:x+w]\n",
    "            template_flowers = img_rgb_flowers[top_left[1]:top_left[1]+h, top_left[0]:top_left[0]+w].copy()\n",
    "            cv2.imwrite(class_dir_flowers + '/images/' + crop + '.jpg', template_flowers)"
   ]
  },
  {
   "cell_type": "code",
   "execution_count": 8,
   "metadata": {},
   "outputs": [
    {
     "name": "stdout",
     "output_type": "stream",
     "text": [
      "Processing file 2973 of 2973, (100%)\n",
      "Execution time: 115.3 minutes\n"
     ]
    }
   ],
   "source": [
    "create_class_data_flowers()\n",
    "# create_class_data_flowers(file_names_without_extension=test)"
   ]
  }
 ],
 "metadata": {
  "kernelspec": {
   "display_name": "ai7",
   "language": "python",
   "name": "python3"
  },
  "language_info": {
   "codemirror_mode": {
    "name": "ipython",
    "version": 3
   },
   "file_extension": ".py",
   "mimetype": "text/x-python",
   "name": "python",
   "nbconvert_exporter": "python",
   "pygments_lexer": "ipython3",
   "version": "3.11.8"
  }
 },
 "nbformat": 4,
 "nbformat_minor": 2
}
