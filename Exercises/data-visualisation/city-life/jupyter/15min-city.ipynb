{
 "cells": [
  {
   "cell_type": "markdown",
   "metadata": {},
   "source": [
    "# City Life: Data Visualization - 15 Minute City\n",
    "\n",
    "**DV, AI-Advanced**"
   ]
  },
  {
   "cell_type": "code",
   "execution_count": 1,
   "metadata": {},
   "outputs": [],
   "source": [
    "import folium\n",
    "import networkx as nx\n",
    "import osmnx as ox\n",
    "from folium.plugins import MeasureControl"
   ]
  },
  {
   "cell_type": "code",
   "execution_count": 5,
   "metadata": {},
   "outputs": [],
   "source": [
    "def create_15_minute_map(start_location, transport_modes):\n",
    "    # Initialize a folium map at the start location\n",
    "    m = folium.Map(location=start_location, zoom_start=13)\n",
    "    \n",
    "    # Add a measure control plugin\n",
    "    m.add_child(MeasureControl())\n",
    "\n",
    "    # Define travel speeds in km/h\n",
    "    travel_speed = {'walk': 5, 'bike': 20, 'drive': 40}\n",
    "    \n",
    "    # Define colors for each transport mode\n",
    "    transport_colors = {'walk': 'blue', 'bike': 'orange', 'drive': 'purple'}\n",
    "    \n",
    "    # Calculate and add routes for each transport mode\n",
    "    for mode in transport_modes:\n",
    "        G = ox.graph_from_point(start_location, network_type=mode, dist=10000, simplify=True)\n",
    "        center_node = ox.distance.nearest_nodes(G, start_location[1], start_location[0])\n",
    "        max_distance = travel_speed[mode] * 1000 / 60 * 15  # distance in meters for 15 minutes\n",
    "        subgraph = nx.ego_graph(G, center_node, radius=max_distance, distance='length')\n",
    "        \n",
    "        for node1, node2, data in subgraph.edges(data=True):\n",
    "            folium.PolyLine([(G.nodes[node1]['y'], G.nodes[node1]['x']),\n",
    "                             (G.nodes[node2]['y'], G.nodes[node2]['x'])],\n",
    "                            color=transport_colors[mode], weight=2.5, opacity=1).add_to(m)\n",
    "    \n",
    "    return m\n",
    "\n",
    "# Starting location: PSV Eindhoven stadium\n",
    "start_location = (51.4416, 5.4697)\n",
    "\n",
    "# Transport modes to visualize\n",
    "transport_modes = ['walk', 'bike', 'drive']\n",
    "\n",
    "# Generate the map\n",
    "city_map = create_15_minute_map(start_location, transport_modes)\n",
    "\n",
    "# Save the map to an HTML file\n",
    "city_map.save('15_minute_city_map.html')"
   ]
  }
 ],
 "metadata": {
  "kernelspec": {
   "display_name": "Python 3",
   "language": "python",
   "name": "python3"
  },
  "language_info": {
   "codemirror_mode": {
    "name": "ipython",
    "version": 3
   },
   "file_extension": ".py",
   "mimetype": "text/x-python",
   "name": "python",
   "nbconvert_exporter": "python",
   "pygments_lexer": "ipython3",
   "version": "3.11.9"
  }
 },
 "nbformat": 4,
 "nbformat_minor": 2
}
