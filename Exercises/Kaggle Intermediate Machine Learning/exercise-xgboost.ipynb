{
 "cells": [
  {
   "cell_type": "markdown",
   "id": "2aecb72a",
   "metadata": {
    "papermill": {
     "duration": 0.007034,
     "end_time": "2022-06-28T18:33:39.023436",
     "exception": false,
     "start_time": "2022-06-28T18:33:39.016402",
     "status": "completed"
    },
    "tags": []
   },
   "source": [
    "**This notebook is an exercise in the [Intermediate Machine Learning](https://www.kaggle.com/learn/intermediate-machine-learning) course.  You can reference the tutorial at [this link](https://www.kaggle.com/alexisbcook/xgboost).**\n",
    "\n",
    "---\n"
   ]
  },
  {
   "cell_type": "markdown",
   "id": "727771d6",
   "metadata": {
    "papermill": {
     "duration": 0.005722,
     "end_time": "2022-06-28T18:33:39.035302",
     "exception": false,
     "start_time": "2022-06-28T18:33:39.029580",
     "status": "completed"
    },
    "tags": []
   },
   "source": [
    "In this exercise, you will use your new knowledge to train a model with **gradient boosting**.\n",
    "\n",
    "# Setup\n",
    "\n",
    "The questions below will give you feedback on your work. Run the following cell to set up the feedback system."
   ]
  },
  {
   "cell_type": "code",
   "execution_count": 1,
   "id": "b33a2b17",
   "metadata": {
    "execution": {
     "iopub.execute_input": "2022-06-28T18:33:39.050750Z",
     "iopub.status.busy": "2022-06-28T18:33:39.050155Z",
     "iopub.status.idle": "2022-06-28T18:33:41.772724Z",
     "shell.execute_reply": "2022-06-28T18:33:41.771764Z"
    },
    "papermill": {
     "duration": 2.73404,
     "end_time": "2022-06-28T18:33:41.775847",
     "exception": false,
     "start_time": "2022-06-28T18:33:39.041807",
     "status": "completed"
    },
    "tags": []
   },
   "outputs": [
    {
     "name": "stdout",
     "output_type": "stream",
     "text": [
      "Setup Complete\n"
     ]
    }
   ],
   "source": [
    "# Set up code checking\n",
    "import os\n",
    "if not os.path.exists(\"../input/train.csv\"):\n",
    "    os.symlink(\"../input/home-data-for-ml-course/train.csv\", \"../input/train.csv\")  \n",
    "    os.symlink(\"../input/home-data-for-ml-course/test.csv\", \"../input/test.csv\") \n",
    "from learntools.core import binder\n",
    "binder.bind(globals())\n",
    "from learntools.ml_intermediate.ex6 import *\n",
    "print(\"Setup Complete\")"
   ]
  },
  {
   "cell_type": "markdown",
   "id": "12f9f935",
   "metadata": {
    "papermill": {
     "duration": 0.005891,
     "end_time": "2022-06-28T18:33:41.789441",
     "exception": false,
     "start_time": "2022-06-28T18:33:41.783550",
     "status": "completed"
    },
    "tags": []
   },
   "source": [
    "You will work with the [Housing Prices Competition for Kaggle Learn Users](https://www.kaggle.com/c/home-data-for-ml-course) dataset from the previous exercise. \n",
    "\n",
    "![Ames Housing dataset image](https://i.imgur.com/lTJVG4e.png)\n",
    "\n",
    "Run the next code cell without changes to load the training and validation sets in `X_train`, `X_valid`, `y_train`, and `y_valid`.  The test set is loaded in `X_test`."
   ]
  },
  {
   "cell_type": "code",
   "execution_count": 2,
   "id": "9c2f4a4a",
   "metadata": {
    "execution": {
     "iopub.execute_input": "2022-06-28T18:33:41.803539Z",
     "iopub.status.busy": "2022-06-28T18:33:41.803090Z",
     "iopub.status.idle": "2022-06-28T18:33:42.000745Z",
     "shell.execute_reply": "2022-06-28T18:33:41.999397Z"
    },
    "papermill": {
     "duration": 0.207846,
     "end_time": "2022-06-28T18:33:42.003397",
     "exception": false,
     "start_time": "2022-06-28T18:33:41.795551",
     "status": "completed"
    },
    "tags": []
   },
   "outputs": [],
   "source": [
    "import pandas as pd\n",
    "from sklearn.model_selection import train_test_split\n",
    "\n",
    "# Read the data\n",
    "X = pd.read_csv('../input/train.csv', index_col='Id')\n",
    "X_test_full = pd.read_csv('../input/test.csv', index_col='Id')\n",
    "\n",
    "# Remove rows with missing target, separate target from predictors\n",
    "X.dropna(axis=0, subset=['SalePrice'], inplace=True)\n",
    "y = X.SalePrice              \n",
    "X.drop(['SalePrice'], axis=1, inplace=True)\n",
    "\n",
    "# Break off validation set from training data\n",
    "X_train_full, X_valid_full, y_train, y_valid = train_test_split(X, y, train_size=0.8, test_size=0.2,\n",
    "                                                                random_state=0)\n",
    "\n",
    "# \"Cardinality\" means the number of unique values in a column\n",
    "# Select categorical columns with relatively low cardinality (convenient but arbitrary)\n",
    "low_cardinality_cols = [cname for cname in X_train_full.columns if X_train_full[cname].nunique() < 10 and \n",
    "                        X_train_full[cname].dtype == \"object\"]\n",
    "\n",
    "# Select numeric columns\n",
    "numeric_cols = [cname for cname in X_train_full.columns if X_train_full[cname].dtype in ['int64', 'float64']]\n",
    "\n",
    "# Keep selected columns only\n",
    "my_cols = low_cardinality_cols + numeric_cols\n",
    "X_train = X_train_full[my_cols].copy()\n",
    "X_valid = X_valid_full[my_cols].copy()\n",
    "X_test = X_test_full[my_cols].copy()\n",
    "\n",
    "# One-hot encode the data (to shorten the code, we use pandas)\n",
    "X_train = pd.get_dummies(X_train)\n",
    "X_valid = pd.get_dummies(X_valid)\n",
    "X_test = pd.get_dummies(X_test)\n",
    "X_train, X_valid = X_train.align(X_valid, join='left', axis=1)\n",
    "X_train, X_test = X_train.align(X_test, join='left', axis=1)"
   ]
  },
  {
   "cell_type": "markdown",
   "id": "0613e692",
   "metadata": {
    "papermill": {
     "duration": 0.006154,
     "end_time": "2022-06-28T18:33:42.015730",
     "exception": false,
     "start_time": "2022-06-28T18:33:42.009576",
     "status": "completed"
    },
    "tags": []
   },
   "source": [
    "# Step 1: Build model\n",
    "\n",
    "### Part A\n",
    "\n",
    "In this step, you'll build and train your first model with gradient boosting.\n",
    "\n",
    "- Begin by setting `my_model_1` to an XGBoost model.  Use the [XGBRegressor](https://xgboost.readthedocs.io/en/latest/python/python_api.html#xgboost.XGBRegressor) class, and set the random seed to 0 (`random_state=0`).  **Leave all other parameters as default.**\n",
    "- Then, fit the model to the training data in `X_train` and `y_train`."
   ]
  },
  {
   "cell_type": "code",
   "execution_count": 3,
   "id": "49a53e3b",
   "metadata": {
    "execution": {
     "iopub.execute_input": "2022-06-28T18:33:42.029754Z",
     "iopub.status.busy": "2022-06-28T18:33:42.029369Z",
     "iopub.status.idle": "2022-06-28T18:33:42.977803Z",
     "shell.execute_reply": "2022-06-28T18:33:42.976787Z"
    },
    "papermill": {
     "duration": 0.958752,
     "end_time": "2022-06-28T18:33:42.980549",
     "exception": false,
     "start_time": "2022-06-28T18:33:42.021797",
     "status": "completed"
    },
    "tags": []
   },
   "outputs": [
    {
     "data": {
      "application/javascript": [
       "parent.postMessage({\"jupyterEvent\": \"custom.exercise_interaction\", \"data\": {\"outcomeType\": 1, \"valueTowardsCompletion\": 0.5, \"interactionType\": 1, \"questionType\": 2, \"questionId\": \"1.1_Model1A\", \"learnToolsVersion\": \"0.3.4\", \"failureMessage\": \"\", \"exceptionClass\": \"\", \"trace\": \"\"}}, \"*\")"
      ],
      "text/plain": [
       "<IPython.core.display.Javascript object>"
      ]
     },
     "metadata": {},
     "output_type": "display_data"
    },
    {
     "data": {
      "text/markdown": [
       "<span style=\"color:#33cc33\">Correct</span>"
      ],
      "text/plain": [
       "Correct"
      ]
     },
     "metadata": {},
     "output_type": "display_data"
    }
   ],
   "source": [
    "from xgboost import XGBRegressor\n",
    "\n",
    "# Define the model\n",
    "my_model_1 = XGBRegressor(random_state=0)\n",
    "\n",
    "# Fit the model\n",
    "my_model_1.fit(X_train, y_train)\n",
    "\n",
    "# Check your answer\n",
    "step_1.a.check()"
   ]
  },
  {
   "cell_type": "code",
   "execution_count": 4,
   "id": "fc2f864f",
   "metadata": {
    "execution": {
     "iopub.execute_input": "2022-06-28T18:33:42.995984Z",
     "iopub.status.busy": "2022-06-28T18:33:42.995562Z",
     "iopub.status.idle": "2022-06-28T18:33:43.000821Z",
     "shell.execute_reply": "2022-06-28T18:33:42.999296Z"
    },
    "papermill": {
     "duration": 0.01577,
     "end_time": "2022-06-28T18:33:43.003327",
     "exception": false,
     "start_time": "2022-06-28T18:33:42.987557",
     "status": "completed"
    },
    "tags": []
   },
   "outputs": [],
   "source": [
    "# Lines below will give you a hint or solution code\n",
    "#step_1.a.hint()\n",
    "#step_1.a.solution()"
   ]
  },
  {
   "cell_type": "markdown",
   "id": "c4237b7d",
   "metadata": {
    "papermill": {
     "duration": 0.006178,
     "end_time": "2022-06-28T18:33:43.016175",
     "exception": false,
     "start_time": "2022-06-28T18:33:43.009997",
     "status": "completed"
    },
    "tags": []
   },
   "source": [
    "### Part B\n",
    "\n",
    "Set `predictions_1` to the model's predictions for the validation data.  Recall that the validation features are stored in `X_valid`."
   ]
  },
  {
   "cell_type": "code",
   "execution_count": 5,
   "id": "bf65b272",
   "metadata": {
    "execution": {
     "iopub.execute_input": "2022-06-28T18:33:43.031126Z",
     "iopub.status.busy": "2022-06-28T18:33:43.030371Z",
     "iopub.status.idle": "2022-06-28T18:33:43.057867Z",
     "shell.execute_reply": "2022-06-28T18:33:43.056770Z"
    },
    "papermill": {
     "duration": 0.043721,
     "end_time": "2022-06-28T18:33:43.066313",
     "exception": false,
     "start_time": "2022-06-28T18:33:43.022592",
     "status": "completed"
    },
    "tags": []
   },
   "outputs": [
    {
     "data": {
      "application/javascript": [
       "parent.postMessage({\"jupyterEvent\": \"custom.exercise_interaction\", \"data\": {\"outcomeType\": 1, \"valueTowardsCompletion\": 0.5, \"interactionType\": 1, \"questionType\": 2, \"questionId\": \"1.2_Model1B\", \"learnToolsVersion\": \"0.3.4\", \"failureMessage\": \"\", \"exceptionClass\": \"\", \"trace\": \"\"}}, \"*\")"
      ],
      "text/plain": [
       "<IPython.core.display.Javascript object>"
      ]
     },
     "metadata": {},
     "output_type": "display_data"
    },
    {
     "data": {
      "text/markdown": [
       "<span style=\"color:#33cc33\">Correct</span>"
      ],
      "text/plain": [
       "Correct"
      ]
     },
     "metadata": {},
     "output_type": "display_data"
    }
   ],
   "source": [
    "from sklearn.metrics import mean_absolute_error\n",
    "\n",
    "# Get predictions\n",
    "predictions_1 = my_model_1.predict(X_valid)\n",
    "\n",
    "# Check your answer\n",
    "step_1.b.check()"
   ]
  },
  {
   "cell_type": "code",
   "execution_count": 6,
   "id": "509415f0",
   "metadata": {
    "execution": {
     "iopub.execute_input": "2022-06-28T18:33:43.081353Z",
     "iopub.status.busy": "2022-06-28T18:33:43.080936Z",
     "iopub.status.idle": "2022-06-28T18:33:43.085941Z",
     "shell.execute_reply": "2022-06-28T18:33:43.084524Z"
    },
    "papermill": {
     "duration": 0.016018,
     "end_time": "2022-06-28T18:33:43.089002",
     "exception": false,
     "start_time": "2022-06-28T18:33:43.072984",
     "status": "completed"
    },
    "tags": []
   },
   "outputs": [],
   "source": [
    "# Lines below will give you a hint or solution code\n",
    "#step_1.b.hint()\n",
    "#step_1.b.solution()"
   ]
  },
  {
   "cell_type": "markdown",
   "id": "288750ae",
   "metadata": {
    "papermill": {
     "duration": 0.007319,
     "end_time": "2022-06-28T18:33:43.103424",
     "exception": false,
     "start_time": "2022-06-28T18:33:43.096105",
     "status": "completed"
    },
    "tags": []
   },
   "source": [
    "### Part C\n",
    "\n",
    "Finally, use the `mean_absolute_error()` function to calculate the mean absolute error (MAE) corresponding to the predictions for the validation set.  Recall that the labels for the validation data are stored in `y_valid`."
   ]
  },
  {
   "cell_type": "code",
   "execution_count": 7,
   "id": "433a0977",
   "metadata": {
    "execution": {
     "iopub.execute_input": "2022-06-28T18:33:43.119461Z",
     "iopub.status.busy": "2022-06-28T18:33:43.119051Z",
     "iopub.status.idle": "2022-06-28T18:33:43.131420Z",
     "shell.execute_reply": "2022-06-28T18:33:43.130011Z"
    },
    "papermill": {
     "duration": 0.02312,
     "end_time": "2022-06-28T18:33:43.133800",
     "exception": false,
     "start_time": "2022-06-28T18:33:43.110680",
     "status": "completed"
    },
    "tags": []
   },
   "outputs": [
    {
     "name": "stdout",
     "output_type": "stream",
     "text": [
      "Mean Absolute Error: 17662.736729452055\n"
     ]
    },
    {
     "data": {
      "application/javascript": [
       "parent.postMessage({\"jupyterEvent\": \"custom.exercise_interaction\", \"data\": {\"outcomeType\": 1, \"valueTowardsCompletion\": 0.5, \"interactionType\": 1, \"questionType\": 2, \"questionId\": \"1.3_Model1C\", \"learnToolsVersion\": \"0.3.4\", \"failureMessage\": \"\", \"exceptionClass\": \"\", \"trace\": \"\"}}, \"*\")"
      ],
      "text/plain": [
       "<IPython.core.display.Javascript object>"
      ]
     },
     "metadata": {},
     "output_type": "display_data"
    },
    {
     "data": {
      "text/markdown": [
       "<span style=\"color:#33cc33\">Correct</span>"
      ],
      "text/plain": [
       "Correct"
      ]
     },
     "metadata": {},
     "output_type": "display_data"
    }
   ],
   "source": [
    "# Calculate MAE\n",
    "mae_1 = mean_absolute_error(predictions_1, y_valid)\n",
    "print(\"Mean Absolute Error:\" , mae_1)\n",
    "\n",
    "# Check your answer\n",
    "step_1.c.check()"
   ]
  },
  {
   "cell_type": "code",
   "execution_count": 8,
   "id": "6417c328",
   "metadata": {
    "execution": {
     "iopub.execute_input": "2022-06-28T18:33:43.150837Z",
     "iopub.status.busy": "2022-06-28T18:33:43.148907Z",
     "iopub.status.idle": "2022-06-28T18:33:43.155670Z",
     "shell.execute_reply": "2022-06-28T18:33:43.154548Z"
    },
    "papermill": {
     "duration": 0.017314,
     "end_time": "2022-06-28T18:33:43.158132",
     "exception": false,
     "start_time": "2022-06-28T18:33:43.140818",
     "status": "completed"
    },
    "tags": []
   },
   "outputs": [],
   "source": [
    "# Lines below will give you a hint or solution code\n",
    "#step_1.c.hint()\n",
    "#step_1.c.solution()"
   ]
  },
  {
   "cell_type": "markdown",
   "id": "5a98a6fb",
   "metadata": {
    "papermill": {
     "duration": 0.00665,
     "end_time": "2022-06-28T18:33:43.171811",
     "exception": false,
     "start_time": "2022-06-28T18:33:43.165161",
     "status": "completed"
    },
    "tags": []
   },
   "source": [
    "# Step 2: Improve the model\n",
    "\n",
    "Now that you've trained a default model as baseline, it's time to tinker with the parameters, to see if you can get better performance!\n",
    "- Begin by setting `my_model_2` to an XGBoost model, using the [XGBRegressor](https://xgboost.readthedocs.io/en/latest/python/python_api.html#xgboost.XGBRegressor) class.  Use what you learned in the previous tutorial to figure out how to change the default parameters (like `n_estimators` and `learning_rate`) to get better results.\n",
    "- Then, fit the model to the training data in `X_train` and `y_train`.\n",
    "- Set `predictions_2` to the model's predictions for the validation data.  Recall that the validation features are stored in `X_valid`.\n",
    "- Finally, use the `mean_absolute_error()` function to calculate the mean absolute error (MAE) corresponding to the predictions on the validation set.  Recall that the labels for the validation data are stored in `y_valid`.\n",
    "\n",
    "In order for this step to be marked correct, your model in `my_model_2` must attain lower MAE than the model in `my_model_1`. "
   ]
  },
  {
   "cell_type": "code",
   "execution_count": 9,
   "id": "736b1a0b",
   "metadata": {
    "execution": {
     "iopub.execute_input": "2022-06-28T18:33:43.188001Z",
     "iopub.status.busy": "2022-06-28T18:33:43.187231Z",
     "iopub.status.idle": "2022-06-28T18:33:53.930436Z",
     "shell.execute_reply": "2022-06-28T18:33:53.928942Z"
    },
    "papermill": {
     "duration": 10.753827,
     "end_time": "2022-06-28T18:33:53.932766",
     "exception": false,
     "start_time": "2022-06-28T18:33:43.178939",
     "status": "completed"
    },
    "tags": []
   },
   "outputs": [
    {
     "name": "stdout",
     "output_type": "stream",
     "text": [
      "Mean Absolute Error: 16688.691513270547\n"
     ]
    },
    {
     "data": {
      "application/javascript": [
       "parent.postMessage({\"jupyterEvent\": \"custom.exercise_interaction\", \"data\": {\"outcomeType\": 1, \"valueTowardsCompletion\": 0.5, \"interactionType\": 1, \"questionType\": 2, \"questionId\": \"2_Model2\", \"learnToolsVersion\": \"0.3.4\", \"failureMessage\": \"\", \"exceptionClass\": \"\", \"trace\": \"\"}}, \"*\")"
      ],
      "text/plain": [
       "<IPython.core.display.Javascript object>"
      ]
     },
     "metadata": {},
     "output_type": "display_data"
    },
    {
     "data": {
      "text/markdown": [
       "<span style=\"color:#33cc33\">Correct</span>"
      ],
      "text/plain": [
       "Correct"
      ]
     },
     "metadata": {},
     "output_type": "display_data"
    }
   ],
   "source": [
    "# Define the model\n",
    "my_model_2 = XGBRegressor(n_estimators=1000, learning_rate=0.05)\n",
    "\n",
    "# Fit the model\n",
    "my_model_2.fit(X_train, y_train)\n",
    "\n",
    "# Get predictions\n",
    "predictions_2 = my_model_2.predict(X_valid)\n",
    "\n",
    "# Calculate MAE\n",
    "mae_2 = mean_absolute_error(predictions_2, y_valid)\n",
    "print(\"Mean Absolute Error:\" , mae_2)\n",
    "\n",
    "# Check your answer\n",
    "step_2.check()"
   ]
  },
  {
   "cell_type": "code",
   "execution_count": 10,
   "id": "95eb9b89",
   "metadata": {
    "execution": {
     "iopub.execute_input": "2022-06-28T18:33:53.950954Z",
     "iopub.status.busy": "2022-06-28T18:33:53.950594Z",
     "iopub.status.idle": "2022-06-28T18:33:53.955156Z",
     "shell.execute_reply": "2022-06-28T18:33:53.954041Z"
    },
    "papermill": {
     "duration": 0.016518,
     "end_time": "2022-06-28T18:33:53.957713",
     "exception": false,
     "start_time": "2022-06-28T18:33:53.941195",
     "status": "completed"
    },
    "tags": []
   },
   "outputs": [],
   "source": [
    "# Lines below will give you a hint or solution code\n",
    "#step_2.hint()\n",
    "#step_2.solution()"
   ]
  },
  {
   "cell_type": "markdown",
   "id": "dec839d6",
   "metadata": {
    "papermill": {
     "duration": 0.007062,
     "end_time": "2022-06-28T18:33:53.972458",
     "exception": false,
     "start_time": "2022-06-28T18:33:53.965396",
     "status": "completed"
    },
    "tags": []
   },
   "source": [
    "# Step 3: Break the model\n",
    "\n",
    "In this step, you will create a model that performs worse than the original model in Step 1.  This will help you to develop your intuition for how to set parameters.  You might even find that you accidentally get better performance, which is ultimately a nice problem to have and a valuable learning experience!\n",
    "- Begin by setting `my_model_3` to an XGBoost model, using the [XGBRegressor](https://xgboost.readthedocs.io/en/latest/python/python_api.html#xgboost.XGBRegressor) class.  Use what you learned in the previous tutorial to figure out how to change the default parameters (like `n_estimators` and `learning_rate`) to design a model to get high MAE.\n",
    "- Then, fit the model to the training data in `X_train` and `y_train`.\n",
    "- Set `predictions_3` to the model's predictions for the validation data.  Recall that the validation features are stored in `X_valid`.\n",
    "- Finally, use the `mean_absolute_error()` function to calculate the mean absolute error (MAE) corresponding to the predictions on the validation set.  Recall that the labels for the validation data are stored in `y_valid`.\n",
    "\n",
    "In order for this step to be marked correct, your model in `my_model_3` must attain higher MAE than the model in `my_model_1`. "
   ]
  },
  {
   "cell_type": "code",
   "execution_count": 11,
   "id": "082b065e",
   "metadata": {
    "execution": {
     "iopub.execute_input": "2022-06-28T18:33:53.989518Z",
     "iopub.status.busy": "2022-06-28T18:33:53.988349Z",
     "iopub.status.idle": "2022-06-28T18:33:54.063815Z",
     "shell.execute_reply": "2022-06-28T18:33:54.062904Z"
    },
    "papermill": {
     "duration": 0.086554,
     "end_time": "2022-06-28T18:33:54.066290",
     "exception": false,
     "start_time": "2022-06-28T18:33:53.979736",
     "status": "completed"
    },
    "tags": []
   },
   "outputs": [
    {
     "name": "stdout",
     "output_type": "stream",
     "text": [
      "Mean Absolute Error: 127895.0828807256\n"
     ]
    },
    {
     "data": {
      "application/javascript": [
       "parent.postMessage({\"jupyterEvent\": \"custom.exercise_interaction\", \"data\": {\"outcomeType\": 1, \"valueTowardsCompletion\": 0.5, \"interactionType\": 1, \"questionType\": 2, \"questionId\": \"3_Model3\", \"learnToolsVersion\": \"0.3.4\", \"failureMessage\": \"\", \"exceptionClass\": \"\", \"trace\": \"\"}}, \"*\")"
      ],
      "text/plain": [
       "<IPython.core.display.Javascript object>"
      ]
     },
     "metadata": {},
     "output_type": "display_data"
    },
    {
     "data": {
      "text/markdown": [
       "<span style=\"color:#33cc33\">Correct</span>"
      ],
      "text/plain": [
       "Correct"
      ]
     },
     "metadata": {},
     "output_type": "display_data"
    }
   ],
   "source": [
    "# Define the model\n",
    "my_model_3 = XGBRegressor(n_estimators=1)\n",
    "\n",
    "# Fit the model\n",
    "my_model_3.fit(X_train, y_train)\n",
    "\n",
    "# Get predictions\n",
    "predictions_3 = my_model_3.predict(X_valid)\n",
    "\n",
    "# Calculate MAE\n",
    "mae_3 = mean_absolute_error(predictions_3, y_valid)\n",
    "print(\"Mean Absolute Error:\" , mae_3)\n",
    "\n",
    "# Check your answer\n",
    "step_3.check()"
   ]
  },
  {
   "cell_type": "code",
   "execution_count": 12,
   "id": "fe0f72da",
   "metadata": {
    "execution": {
     "iopub.execute_input": "2022-06-28T18:33:54.083119Z",
     "iopub.status.busy": "2022-06-28T18:33:54.082724Z",
     "iopub.status.idle": "2022-06-28T18:33:54.087609Z",
     "shell.execute_reply": "2022-06-28T18:33:54.086405Z"
    },
    "papermill": {
     "duration": 0.015694,
     "end_time": "2022-06-28T18:33:54.089585",
     "exception": false,
     "start_time": "2022-06-28T18:33:54.073891",
     "status": "completed"
    },
    "tags": []
   },
   "outputs": [],
   "source": [
    "# Lines below will give you a hint or solution code\n",
    "#step_3.hint()\n",
    "#step_3.solution()"
   ]
  },
  {
   "cell_type": "markdown",
   "id": "f7a15922",
   "metadata": {
    "papermill": {
     "duration": 0.007218,
     "end_time": "2022-06-28T18:33:54.104684",
     "exception": false,
     "start_time": "2022-06-28T18:33:54.097466",
     "status": "completed"
    },
    "tags": []
   },
   "source": [
    "# Keep going\n",
    "\n",
    "Continue to learn about **[data leakage](https://www.kaggle.com/alexisbcook/data-leakage)**.  This is an important issue for a data scientist to understand, and it has the potential to ruin your models in subtle and dangerous ways!"
   ]
  },
  {
   "cell_type": "markdown",
   "id": "f2b81cc9",
   "metadata": {
    "papermill": {
     "duration": 0.007444,
     "end_time": "2022-06-28T18:33:54.119889",
     "exception": false,
     "start_time": "2022-06-28T18:33:54.112445",
     "status": "completed"
    },
    "tags": []
   },
   "source": [
    "---\n",
    "\n",
    "\n",
    "\n",
    "\n",
    "*Have questions or comments? Visit the [course discussion forum](https://www.kaggle.com/learn/intermediate-machine-learning/discussion) to chat with other learners.*"
   ]
  }
 ],
 "metadata": {
  "kernelspec": {
   "display_name": "Python 3",
   "language": "python",
   "name": "python3"
  },
  "language_info": {
   "codemirror_mode": {
    "name": "ipython",
    "version": 3
   },
   "file_extension": ".py",
   "mimetype": "text/x-python",
   "name": "python",
   "nbconvert_exporter": "python",
   "pygments_lexer": "ipython3",
   "version": "3.7.12"
  },
  "papermill": {
   "default_parameters": {},
   "duration": 26.847452,
   "end_time": "2022-06-28T18:33:54.850287",
   "environment_variables": {},
   "exception": null,
   "input_path": "__notebook__.ipynb",
   "output_path": "__notebook__.ipynb",
   "parameters": {},
   "start_time": "2022-06-28T18:33:28.002835",
   "version": "2.3.4"
  }
 },
 "nbformat": 4,
 "nbformat_minor": 5
}
