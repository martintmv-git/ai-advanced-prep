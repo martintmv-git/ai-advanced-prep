{
 "cells": [
  {
   "cell_type": "markdown",
   "id": "2b25e259",
   "metadata": {},
   "source": [
    "# Data Cleaning Exercise\n",
    "\n",
    "Author: Martin Tomov, Feb 2024\n",
    "\n",
    "This notebook focuses on the data cleaning process for the `GRAIN—Land-grab-deals—Jan-2012` dataset. The dataset contains information about various land deals, including the country, company involved, sector, size, production type, projected investment, status, and a summary of each deal. Data cleaning is a crucial step in preparing data for analysis, ensuring accuracy, consistency, and usability. In this exercise, we'll explore the dataset, identify data quality issues, and apply cleaning techniques to address them.\n",
    "\n",
    "---"
   ]
  },
  {
   "cell_type": "markdown",
   "id": "b8f7a115",
   "metadata": {},
   "source": [
    "## Initial Data Exploration\n",
    "\n",
    "Let's start by loading the dataset and examining its basic properties to identify any potential issues that need cleaning."
   ]
  },
  {
   "cell_type": "code",
   "execution_count": 1,
   "id": "9c2d84c3",
   "metadata": {},
   "outputs": [],
   "source": [
    "import pandas as pd\n",
    "import matplotlib.pyplot as plt\n",
    "import seaborn as sns\n",
    "\n",
    "df = pd.read_excel('data/GRAIN---Land-grab-deals---Jan-2012.xlsx')\n"
   ]
  },
  {
   "cell_type": "code",
   "execution_count": 2,
   "id": "d6e451ff",
   "metadata": {},
   "outputs": [
    {
     "data": {
      "text/html": [
       "<div>\n",
       "<style scoped>\n",
       "    .dataframe tbody tr th:only-of-type {\n",
       "        vertical-align: middle;\n",
       "    }\n",
       "\n",
       "    .dataframe tbody tr th {\n",
       "        vertical-align: top;\n",
       "    }\n",
       "\n",
       "    .dataframe thead th {\n",
       "        text-align: right;\n",
       "    }\n",
       "</style>\n",
       "<table border=\"1\" class=\"dataframe\">\n",
       "  <thead>\n",
       "    <tr style=\"text-align: right;\">\n",
       "      <th></th>\n",
       "      <th>Landgrabbed</th>\n",
       "      <th>Landgrabber</th>\n",
       "      <th>Base</th>\n",
       "      <th>Sector</th>\n",
       "      <th>Hectares</th>\n",
       "      <th>Production</th>\n",
       "      <th>Projected investment</th>\n",
       "      <th>Status of deal</th>\n",
       "      <th>Summary</th>\n",
       "    </tr>\n",
       "  </thead>\n",
       "  <tbody>\n",
       "    <tr>\n",
       "      <th>0</th>\n",
       "      <td>Algeria</td>\n",
       "      <td>Al Qudra</td>\n",
       "      <td>UAE</td>\n",
       "      <td>Finance, real estate</td>\n",
       "      <td>31000.0</td>\n",
       "      <td>Milk, olive oil, potatoes</td>\n",
       "      <td>NaN</td>\n",
       "      <td>Done</td>\n",
       "      <td>Al Qudra Holding is a joint-stock company esta...</td>\n",
       "    </tr>\n",
       "    <tr>\n",
       "      <th>1</th>\n",
       "      <td>Angola</td>\n",
       "      <td>CAMC Engineering Co. Ltd</td>\n",
       "      <td>China</td>\n",
       "      <td>Construction</td>\n",
       "      <td>1500.0</td>\n",
       "      <td>Rice</td>\n",
       "      <td>US$77 million</td>\n",
       "      <td>Done</td>\n",
       "      <td>CAMCE is a subsidiary of the China National Ma...</td>\n",
       "    </tr>\n",
       "    <tr>\n",
       "      <th>2</th>\n",
       "      <td>Angola</td>\n",
       "      <td>ENI</td>\n",
       "      <td>Italy</td>\n",
       "      <td>Energy</td>\n",
       "      <td>12000.0</td>\n",
       "      <td>Oil palm</td>\n",
       "      <td>NaN</td>\n",
       "      <td>In process</td>\n",
       "      <td>The project is a joint venture between Sonango...</td>\n",
       "    </tr>\n",
       "    <tr>\n",
       "      <th>3</th>\n",
       "      <td>Angola</td>\n",
       "      <td>AfriAgro</td>\n",
       "      <td>Portugal</td>\n",
       "      <td>Finance, real estate</td>\n",
       "      <td>5000.0</td>\n",
       "      <td>Oil palm</td>\n",
       "      <td>US$30-35 million</td>\n",
       "      <td>Done</td>\n",
       "      <td>AfriAgro is a subsidiary of the Portugal-based...</td>\n",
       "    </tr>\n",
       "    <tr>\n",
       "      <th>4</th>\n",
       "      <td>Angola</td>\n",
       "      <td>Eurico Ferreira</td>\n",
       "      <td>Portugal</td>\n",
       "      <td>Energy, telecommunications\\n</td>\n",
       "      <td>30000.0</td>\n",
       "      <td>Sugar cane</td>\n",
       "      <td>US$200 million</td>\n",
       "      <td>Done</td>\n",
       "      <td>In 2008, Portuguese conglomerate Eurico Ferrei...</td>\n",
       "    </tr>\n",
       "  </tbody>\n",
       "</table>\n",
       "</div>"
      ],
      "text/plain": [
       "  Landgrabbed               Landgrabber      Base  \\\n",
       "0     Algeria                  Al Qudra       UAE   \n",
       "1      Angola  CAMC Engineering Co. Ltd     China   \n",
       "2      Angola                       ENI     Italy   \n",
       "3      Angola                  AfriAgro  Portugal   \n",
       "4      Angola           Eurico Ferreira  Portugal   \n",
       "\n",
       "                         Sector  Hectares                 Production  \\\n",
       "0          Finance, real estate   31000.0  Milk, olive oil, potatoes   \n",
       "1                  Construction    1500.0                       Rice   \n",
       "2                        Energy   12000.0                   Oil palm   \n",
       "3          Finance, real estate    5000.0                   Oil palm   \n",
       "4  Energy, telecommunications\\n   30000.0                 Sugar cane   \n",
       "\n",
       "  Projected investment Status of deal  \\\n",
       "0                  NaN           Done   \n",
       "1        US$77 million          Done    \n",
       "2                  NaN     In process   \n",
       "3     US$30-35 million           Done   \n",
       "4       US$200 million           Done   \n",
       "\n",
       "                                             Summary  \n",
       "0  Al Qudra Holding is a joint-stock company esta...  \n",
       "1  CAMCE is a subsidiary of the China National Ma...  \n",
       "2  The project is a joint venture between Sonango...  \n",
       "3  AfriAgro is a subsidiary of the Portugal-based...  \n",
       "4  In 2008, Portuguese conglomerate Eurico Ferrei...  "
      ]
     },
     "execution_count": 2,
     "metadata": {},
     "output_type": "execute_result"
    }
   ],
   "source": [
    "data_path = 'data/GRAIN---Land-grab-deals---Jan-2012.xlsx'\n",
    "data_df = pd.read_excel(data_path)\n",
    "data_df.head()"
   ]
  },
  {
   "cell_type": "markdown",
   "id": "b517cbe0",
   "metadata": {},
   "source": [
    "## Data Cleaning Steps\n",
    "\n",
    "Based on the initial exploration, we'll proceed with the following data cleaning steps:\n",
    "\n",
    "1. Handling Missing Values\n",
    "2. Addressing Data Inconsistencies\n",
    "3. Formatting and Data Entry Issues\n",
    "\n",
    "Let's tackle each of these steps one by one."
   ]
  },
  {
   "cell_type": "markdown",
   "id": "c7630916",
   "metadata": {},
   "source": [
    "### 1. Handling Missing Values\n",
    "\n",
    "Missing values can significantly impact the quality of the analysis. We'll start by identifying and addressing missing values in the dataset."
   ]
  },
  {
   "cell_type": "code",
   "execution_count": 26,
   "id": "90af0053",
   "metadata": {},
   "outputs": [
    {
     "data": {
      "text/plain": [
       "Landgrabbed       0\n",
       "Landgrabber       0\n",
       "Base              0\n",
       "Hectares          0\n",
       "Status of deal    0\n",
       "Summary           0\n",
       "sector1           0\n",
       "sector2           0\n",
       "sector3           0\n",
       "dtype: int64"
      ]
     },
     "execution_count": 26,
     "metadata": {},
     "output_type": "execute_result"
    }
   ],
   "source": [
    "df.isna().sum()"
   ]
  },
  {
   "cell_type": "markdown",
   "id": "f7f7d6d3",
   "metadata": {},
   "source": [
    "As there are Nan values in the `Production` and `Projected investment` columns, I demonstrate a practical approach to handling such columns that give us a better understanding of the data with the help of the fillna() method. This way we clean the data and make it more suitable for analysis."
   ]
  },
  {
   "cell_type": "code",
   "execution_count": 27,
   "id": "bbbda7ca",
   "metadata": {},
   "outputs": [
    {
     "name": "stdout",
     "output_type": "stream",
     "text": [
      "Column Production does not exist in the DataFrame.\n",
      "Column Projected investment does not exist in the DataFrame.\n",
      "<class 'pandas.core.frame.DataFrame'>\n",
      "RangeIndex: 416 entries, 0 to 415\n",
      "Data columns (total 9 columns):\n",
      " #   Column          Non-Null Count  Dtype  \n",
      "---  ------          --------------  -----  \n",
      " 0   Landgrabbed     416 non-null    object \n",
      " 1   Landgrabber     416 non-null    object \n",
      " 2   Base            416 non-null    object \n",
      " 3   Hectares        416 non-null    float64\n",
      " 4   Status of deal  416 non-null    object \n",
      " 5   Summary         416 non-null    object \n",
      " 6   sector1         416 non-null    object \n",
      " 7   sector2         416 non-null    object \n",
      " 8   sector3         416 non-null    object \n",
      "dtypes: float64(1), object(8)\n",
      "memory usage: 29.4+ KB\n",
      "None\n",
      "  Landgrabbed               Landgrabber      Base  Hectares Status of deal  \\\n",
      "0     Algeria                  Al Qudra       UAE   31000.0           Done   \n",
      "1      Angola  CAMC Engineering Co. Ltd     China    1500.0           Done   \n",
      "2      Angola                       ENI     Italy   12000.0     In process   \n",
      "3      Angola                  AfriAgro  Portugal    5000.0           Done   \n",
      "4      Angola           Eurico Ferreira  Portugal   30000.0           Done   \n",
      "\n",
      "                                             Summary       sector1  \\\n",
      "0  Al Qudra Holding is a joint-stock company esta...       Finance   \n",
      "1  CAMCE is a subsidiary of the China National Ma...  Construction   \n",
      "2  The project is a joint venture between Sonango...        Energy   \n",
      "3  AfriAgro is a subsidiary of the Portugal-based...       Finance   \n",
      "4  In 2008, Portuguese conglomerate Eurico Ferrei...        Energy   \n",
      "\n",
      "              sector2  sector3  \n",
      "0         real estate  Unknown  \n",
      "1             Unknown  Unknown  \n",
      "2             Unknown  Unknown  \n",
      "3         real estate  Unknown  \n",
      "4  telecommunications  Unknown  \n"
     ]
    }
   ],
   "source": [
    "# Handling missing values in the split sector columns\n",
    "df['sector1'].fillna('Unknown', inplace=True)\n",
    "df['sector2'].fillna('Unknown', inplace=True)\n",
    "df['sector3'].fillna('Unknown', inplace=True)\n",
    "\n",
    "# Handling missing values for 'Hectares'\n",
    "df['Hectares'].fillna(df['Hectares'].median(), inplace=True)\n",
    "\n",
    "# For 'Production' and 'Projected investment', decide based on the context.\n",
    "# If we decide to drop these columns:\n",
    "columns_to_drop = ['Production', 'Projected investment']\n",
    "\n",
    "for column in columns_to_drop:\n",
    "    if column in df.columns:\n",
    "        df.drop(columns=[column], inplace=True)\n",
    "    else:\n",
    "        print(f\"Column {column} does not exist in the DataFrame.\")\n",
    "\n",
    "# Cleaning 'Sector' columns (Now 'sector1', 'sector2', 'sector3')\n",
    "df['sector1'] = df['sector1'].str.strip()\n",
    "df['sector2'] = df['sector2'].str.strip()\n",
    "df['sector3'] = df['sector3'].str.strip()\n",
    "\n",
    "# Removing duplicates\n",
    "df.drop_duplicates(inplace=True)\n",
    "\n",
    "print(df.info())\n",
    "print(df.head())"
   ]
  },
  {
   "cell_type": "markdown",
   "id": "29022cd0",
   "metadata": {},
   "source": [
    "### 2. Addressing Data Inconsistencies\n",
    "\n",
    "Inconsistencies in the data can lead to incorrect conclusions. We'll identify and correct any inconsistencies in the dataset."
   ]
  },
  {
   "cell_type": "code",
   "execution_count": 10,
   "id": "49337732",
   "metadata": {},
   "outputs": [
    {
     "data": {
      "text/plain": [
       "array(['Done', 'Done ', 'In process', 'Done (50-yr lease)', 'Suspended',\n",
       "       'Proposed', 'MoU signed (2009)', 'Done\\n', 'Suspended  ',\n",
       "       'Suspended (October 2011)'], dtype=object)"
      ]
     },
     "execution_count": 10,
     "metadata": {},
     "output_type": "execute_result"
    }
   ],
   "source": [
    "# By checking the unique values we actually find duplicated values in 'Status of deal'\n",
    "df['Status of deal'].unique()"
   ]
  },
  {
   "cell_type": "code",
   "execution_count": 11,
   "id": "92aa20b2",
   "metadata": {},
   "outputs": [
    {
     "data": {
      "text/plain": [
       "array(['Done', 'In process', 'Done (50-yr lease)', 'Suspended',\n",
       "       'Proposed', 'MoU signed (2009)', 'Suspended (October 2011)'],\n",
       "      dtype=object)"
      ]
     },
     "execution_count": 11,
     "metadata": {},
     "output_type": "execute_result"
    }
   ],
   "source": [
    "# among the string functions is strip() to remove all white spaces (and other 'invisible characters' )\n",
    "df['Status of deal'] = df['Status of deal'].str.strip()\n",
    "df['Status of deal'].unique()"
   ]
  },
  {
   "cell_type": "code",
   "execution_count": 28,
   "id": "49bc902e",
   "metadata": {},
   "outputs": [
    {
     "data": {
      "text/plain": [
       "False    416\n",
       "Name: count, dtype: int64"
      ]
     },
     "execution_count": 28,
     "metadata": {},
     "output_type": "execute_result"
    }
   ],
   "source": [
    "# check for duplicate values\n",
    "df.duplicated().value_counts()"
   ]
  },
  {
   "cell_type": "markdown",
   "id": "062a0a9f",
   "metadata": {},
   "source": [
    "### 3. Formatting and Data Entry Issues\n",
    "\n",
    "Proper formatting and accurate data entry are essential for data analysis. We'll ensure that the data is correctly formatted and free from entry errors."
   ]
  },
  {
   "cell_type": "code",
   "execution_count": 29,
   "id": "e8e66b8c",
   "metadata": {},
   "outputs": [
    {
     "data": {
      "text/plain": [
       "0          Finance\n",
       "1     Construction\n",
       "2           Energy\n",
       "3          Finance\n",
       "4           Energy\n",
       "5     Agribusiness\n",
       "6     Agribusiness\n",
       "7     Agribusiness\n",
       "8     Agribusiness\n",
       "9          Finance\n",
       "10    Agribusiness\n",
       "11         Finance\n",
       "12         Finance\n",
       "13         Finance\n",
       "14         Finance\n",
       "15      Industrial\n",
       "16    Agribusiness\n",
       "17    Agribusiness\n",
       "18    Agribusiness\n",
       "19      Government\n",
       "20    Agribusiness\n",
       "21    Agribusiness\n",
       "22    Agribusiness\n",
       "23         Finance\n",
       "24         Finance\n",
       "25    Agribusiness\n",
       "26         Unknown\n",
       "27      Industrial\n",
       "28    Construction\n",
       "29    Agribusiness\n",
       "30         Finance\n",
       "31         Finance\n",
       "32         Finance\n",
       "33    Agribusiness\n",
       "34    Agribusiness\n",
       "35      Industrial\n",
       "36         Finance\n",
       "37    Agribusiness\n",
       "38         Finance\n",
       "39         Finance\n",
       "40         Finance\n",
       "41         Finance\n",
       "42         Finance\n",
       "43         Finance\n",
       "44         Unknown\n",
       "45    Agribusiness\n",
       "46         Finance\n",
       "47         Unknown\n",
       "48          Energy\n",
       "49    Agribusiness\n",
       "Name: sector1, dtype: object"
      ]
     },
     "execution_count": 29,
     "metadata": {},
     "output_type": "execute_result"
    }
   ],
   "source": [
    "# Look at the sector1 column, you can see (sometimes) multiple values, separated by commas\n",
    "df['sector1'].head(50)\n"
   ]
  },
  {
   "cell_type": "code",
   "execution_count": 30,
   "id": "46fdcd47",
   "metadata": {},
   "outputs": [
    {
     "data": {
      "text/html": [
       "<div>\n",
       "<style scoped>\n",
       "    .dataframe tbody tr th:only-of-type {\n",
       "        vertical-align: middle;\n",
       "    }\n",
       "\n",
       "    .dataframe tbody tr th {\n",
       "        vertical-align: top;\n",
       "    }\n",
       "\n",
       "    .dataframe thead th {\n",
       "        text-align: right;\n",
       "    }\n",
       "</style>\n",
       "<table border=\"1\" class=\"dataframe\">\n",
       "  <thead>\n",
       "    <tr style=\"text-align: right;\">\n",
       "      <th></th>\n",
       "      <th>0</th>\n",
       "    </tr>\n",
       "  </thead>\n",
       "  <tbody>\n",
       "    <tr>\n",
       "      <th>0</th>\n",
       "      <td>Finance</td>\n",
       "    </tr>\n",
       "    <tr>\n",
       "      <th>1</th>\n",
       "      <td>Construction</td>\n",
       "    </tr>\n",
       "    <tr>\n",
       "      <th>2</th>\n",
       "      <td>Energy</td>\n",
       "    </tr>\n",
       "    <tr>\n",
       "      <th>3</th>\n",
       "      <td>Finance</td>\n",
       "    </tr>\n",
       "    <tr>\n",
       "      <th>4</th>\n",
       "      <td>Energy</td>\n",
       "    </tr>\n",
       "    <tr>\n",
       "      <th>5</th>\n",
       "      <td>Agribusiness</td>\n",
       "    </tr>\n",
       "    <tr>\n",
       "      <th>6</th>\n",
       "      <td>Agribusiness</td>\n",
       "    </tr>\n",
       "    <tr>\n",
       "      <th>7</th>\n",
       "      <td>Agribusiness</td>\n",
       "    </tr>\n",
       "    <tr>\n",
       "      <th>8</th>\n",
       "      <td>Agribusiness</td>\n",
       "    </tr>\n",
       "    <tr>\n",
       "      <th>9</th>\n",
       "      <td>Finance</td>\n",
       "    </tr>\n",
       "  </tbody>\n",
       "</table>\n",
       "</div>"
      ],
      "text/plain": [
       "              0\n",
       "0       Finance\n",
       "1  Construction\n",
       "2        Energy\n",
       "3       Finance\n",
       "4        Energy\n",
       "5  Agribusiness\n",
       "6  Agribusiness\n",
       "7  Agribusiness\n",
       "8  Agribusiness\n",
       "9       Finance"
      ]
     },
     "execution_count": 30,
     "metadata": {},
     "output_type": "execute_result"
    }
   ],
   "source": [
    "# let's try to split those values (first in a separate data frame)\n",
    "subset = df['sector1'].str.split(',', expand = True)\n",
    "subset.head(10)"
   ]
  },
  {
   "cell_type": "code",
   "execution_count": 31,
   "id": "43d9f1f0",
   "metadata": {},
   "outputs": [
    {
     "name": "stdout",
     "output_type": "stream",
     "text": [
      "The number of split columns is not equal to 3.\n"
     ]
    },
    {
     "data": {
      "text/html": [
       "<div>\n",
       "<style scoped>\n",
       "    .dataframe tbody tr th:only-of-type {\n",
       "        vertical-align: middle;\n",
       "    }\n",
       "\n",
       "    .dataframe tbody tr th {\n",
       "        vertical-align: top;\n",
       "    }\n",
       "\n",
       "    .dataframe thead th {\n",
       "        text-align: right;\n",
       "    }\n",
       "</style>\n",
       "<table border=\"1\" class=\"dataframe\">\n",
       "  <thead>\n",
       "    <tr style=\"text-align: right;\">\n",
       "      <th></th>\n",
       "      <th>Landgrabbed</th>\n",
       "      <th>Landgrabber</th>\n",
       "      <th>Base</th>\n",
       "      <th>Hectares</th>\n",
       "      <th>Status of deal</th>\n",
       "      <th>Summary</th>\n",
       "      <th>sector1</th>\n",
       "      <th>sector2</th>\n",
       "      <th>sector3</th>\n",
       "    </tr>\n",
       "  </thead>\n",
       "  <tbody>\n",
       "    <tr>\n",
       "      <th>0</th>\n",
       "      <td>Algeria</td>\n",
       "      <td>Al Qudra</td>\n",
       "      <td>UAE</td>\n",
       "      <td>31000.0</td>\n",
       "      <td>Done</td>\n",
       "      <td>Al Qudra Holding is a joint-stock company esta...</td>\n",
       "      <td>Finance</td>\n",
       "      <td>real estate</td>\n",
       "      <td>Unknown</td>\n",
       "    </tr>\n",
       "    <tr>\n",
       "      <th>1</th>\n",
       "      <td>Angola</td>\n",
       "      <td>CAMC Engineering Co. Ltd</td>\n",
       "      <td>China</td>\n",
       "      <td>1500.0</td>\n",
       "      <td>Done</td>\n",
       "      <td>CAMCE is a subsidiary of the China National Ma...</td>\n",
       "      <td>Construction</td>\n",
       "      <td>Unknown</td>\n",
       "      <td>Unknown</td>\n",
       "    </tr>\n",
       "    <tr>\n",
       "      <th>2</th>\n",
       "      <td>Angola</td>\n",
       "      <td>ENI</td>\n",
       "      <td>Italy</td>\n",
       "      <td>12000.0</td>\n",
       "      <td>In process</td>\n",
       "      <td>The project is a joint venture between Sonango...</td>\n",
       "      <td>Energy</td>\n",
       "      <td>Unknown</td>\n",
       "      <td>Unknown</td>\n",
       "    </tr>\n",
       "    <tr>\n",
       "      <th>3</th>\n",
       "      <td>Angola</td>\n",
       "      <td>AfriAgro</td>\n",
       "      <td>Portugal</td>\n",
       "      <td>5000.0</td>\n",
       "      <td>Done</td>\n",
       "      <td>AfriAgro is a subsidiary of the Portugal-based...</td>\n",
       "      <td>Finance</td>\n",
       "      <td>real estate</td>\n",
       "      <td>Unknown</td>\n",
       "    </tr>\n",
       "    <tr>\n",
       "      <th>4</th>\n",
       "      <td>Angola</td>\n",
       "      <td>Eurico Ferreira</td>\n",
       "      <td>Portugal</td>\n",
       "      <td>30000.0</td>\n",
       "      <td>Done</td>\n",
       "      <td>In 2008, Portuguese conglomerate Eurico Ferrei...</td>\n",
       "      <td>Energy</td>\n",
       "      <td>telecommunications</td>\n",
       "      <td>Unknown</td>\n",
       "    </tr>\n",
       "  </tbody>\n",
       "</table>\n",
       "</div>"
      ],
      "text/plain": [
       "  Landgrabbed               Landgrabber      Base  Hectares Status of deal  \\\n",
       "0     Algeria                  Al Qudra       UAE   31000.0           Done   \n",
       "1      Angola  CAMC Engineering Co. Ltd     China    1500.0           Done   \n",
       "2      Angola                       ENI     Italy   12000.0     In process   \n",
       "3      Angola                  AfriAgro  Portugal    5000.0           Done   \n",
       "4      Angola           Eurico Ferreira  Portugal   30000.0           Done   \n",
       "\n",
       "                                             Summary       sector1  \\\n",
       "0  Al Qudra Holding is a joint-stock company esta...       Finance   \n",
       "1  CAMCE is a subsidiary of the China National Ma...  Construction   \n",
       "2  The project is a joint venture between Sonango...        Energy   \n",
       "3  AfriAgro is a subsidiary of the Portugal-based...       Finance   \n",
       "4  In 2008, Portuguese conglomerate Eurico Ferrei...        Energy   \n",
       "\n",
       "              sector2  sector3  \n",
       "0         real estate  Unknown  \n",
       "1             Unknown  Unknown  \n",
       "2             Unknown  Unknown  \n",
       "3         real estate  Unknown  \n",
       "4  telecommunications  Unknown  "
      ]
     },
     "execution_count": 31,
     "metadata": {},
     "output_type": "execute_result"
    }
   ],
   "source": [
    "# Split the values in 'sector1' column and assign them to new columns\n",
    "split_columns = df['sector1'].str.split(',', expand=True)\n",
    "num_columns = split_columns.shape[1]\n",
    "\n",
    "# Check if the number of columns matches the number of split columns\n",
    "if num_columns == 3:\n",
    "    df[['sector1', 'sector2', 'sector3']] = split_columns\n",
    "    df.drop('sector1', axis='columns', inplace=True)\n",
    "else:\n",
    "    print(\"The number of split columns is not equal to 3.\")\n",
    "\n",
    "df.head()"
   ]
  },
  {
   "cell_type": "markdown",
   "id": "ac0e12a1",
   "metadata": {},
   "source": [
    "## ✅ Conclusions and Implications\n",
    "\n",
    "After cleaning up our data, getting rid of columns with too many missing spots will help our analysis later. Now, our data is tidier and ready for the next steps, like studying patterns or teaching a machine learning model. This sets us up well for the more complex work to come. It's important to note that data cleaning can have implications, such as loss of data or changes in data distribution. Therefore, it's crucial to carefully consider the impact of each cleaning action taken."
   ]
  }
 ],
 "metadata": {
  "kernelspec": {
   "display_name": "Python 3.12.0 64-bit",
   "language": "python",
   "name": "python3"
  },
  "language_info": {
   "codemirror_mode": {
    "name": "ipython",
    "version": 3
   },
   "file_extension": ".py",
   "mimetype": "text/x-python",
   "name": "python",
   "nbconvert_exporter": "python",
   "pygments_lexer": "ipython3",
   "version": "3.8.16"
  },
  "vscode": {
   "interpreter": {
    "hash": "aee8b7b246df8f9039afb4144a1f6fd8d2ca17a180786b69acc140d282b71a49"
   }
  }
 },
 "nbformat": 4,
 "nbformat_minor": 5
}
