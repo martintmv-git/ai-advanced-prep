{
 "cells": [
  {
   "cell_type": "markdown",
   "id": "2ca37989",
   "metadata": {
    "_cell_guid": "1e8d6761-8b4a-4540-ba9d-0b332b563b76",
    "_uuid": "e6ef3f59-6984-4991-8bb1-f625c19c839f",
    "papermill": {
     "duration": 0.015224,
     "end_time": "2023-12-06T09:04:53.304397",
     "exception": false,
     "start_time": "2023-12-06T09:04:53.289173",
     "status": "completed"
    },
    "tags": []
   },
   "source": [
    "**This notebook is an exercise in the [Intermediate Machine Learning](https://www.kaggle.com/learn/intermediate-machine-learning) course.  You can reference the tutorial at [this link](https://www.kaggle.com/alexisbcook/categorical-variables).**\n",
    "\n",
    "---"
   ]
  },
  {
   "cell_type": "markdown",
   "id": "9d7cdd02",
   "metadata": {
    "_cell_guid": "def1dcac-92e2-458e-86cd-506062089256",
    "_uuid": "76fa1e42-43a1-4ebb-8ebc-af1fa5a63c51",
    "papermill": {
     "duration": 0.013273,
     "end_time": "2023-12-06T09:04:53.331734",
     "exception": false,
     "start_time": "2023-12-06T09:04:53.318461",
     "status": "completed"
    },
    "tags": []
   },
   "source": [
    "By encoding **categorical variables**, you'll obtain your best results thus far!\n",
    "\n",
    "# Setup\n",
    "\n",
    "The questions below will give you feedback on your work. Run the following cell to set up the feedback system."
   ]
  },
  {
   "cell_type": "code",
   "execution_count": 1,
   "id": "9e9e7155",
   "metadata": {
    "_cell_guid": "ddd3564f-fc33-4821-8d34-a9ab54fdb85e",
    "_uuid": "d5478286-6209-4654-a762-9039835ec22f",
    "collapsed": false,
    "execution": {
     "iopub.execute_input": "2023-12-06T09:04:53.361078Z",
     "iopub.status.busy": "2023-12-06T09:04:53.360669Z",
     "iopub.status.idle": "2023-12-06T09:04:53.818304Z",
     "shell.execute_reply": "2023-12-06T09:04:53.817149Z"
    },
    "jupyter": {
     "outputs_hidden": false
    },
    "papermill": {
     "duration": 0.475458,
     "end_time": "2023-12-06T09:04:53.820743",
     "exception": false,
     "start_time": "2023-12-06T09:04:53.345285",
     "status": "completed"
    },
    "tags": []
   },
   "outputs": [
    {
     "name": "stdout",
     "output_type": "stream",
     "text": [
      "Setup Complete\n"
     ]
    }
   ],
   "source": [
    "# Set up code checking\n",
    "import os\n",
    "if not os.path.exists(\"../input/train.csv\"):\n",
    "    os.symlink(\"../input/home-data-for-ml-course/train.csv\", \"../input/train.csv\")  \n",
    "    os.symlink(\"../input/home-data-for-ml-course/test.csv\", \"../input/test.csv\") \n",
    "from learntools.core import binder\n",
    "binder.bind(globals())\n",
    "from learntools.ml_intermediate.ex3 import *\n",
    "print(\"Setup Complete\")"
   ]
  },
  {
   "cell_type": "markdown",
   "id": "c95c888c",
   "metadata": {
    "_cell_guid": "0c6812cf-6e3a-457a-b71b-ec19fad87d19",
    "_uuid": "ace49958-e3a1-4795-9cdc-78ea9e5d2e5a",
    "papermill": {
     "duration": 0.012754,
     "end_time": "2023-12-06T09:04:53.846968",
     "exception": false,
     "start_time": "2023-12-06T09:04:53.834214",
     "status": "completed"
    },
    "tags": []
   },
   "source": [
    "In this exercise, you will work with data from the [Housing Prices Competition for Kaggle Learn Users](https://www.kaggle.com/c/home-data-for-ml-course). \n",
    "\n",
    "![Ames Housing dataset image](https://storage.googleapis.com/kaggle-media/learn/images/lTJVG4e.png)\n",
    "\n",
    "Run the next code cell without changes to load the training and validation sets in `X_train`, `X_valid`, `y_train`, and `y_valid`.  The test set is loaded in `X_test`."
   ]
  },
  {
   "cell_type": "code",
   "execution_count": 2,
   "id": "4d73bf9b",
   "metadata": {
    "_cell_guid": "16dbadd0-137a-4f39-992d-2c2377ecc4c0",
    "_uuid": "9820b32e-6f95-447b-99b8-006348ba6e51",
    "collapsed": false,
    "execution": {
     "iopub.execute_input": "2023-12-06T09:04:53.876449Z",
     "iopub.status.busy": "2023-12-06T09:04:53.875232Z",
     "iopub.status.idle": "2023-12-06T09:04:55.156924Z",
     "shell.execute_reply": "2023-12-06T09:04:55.155859Z"
    },
    "jupyter": {
     "outputs_hidden": false
    },
    "papermill": {
     "duration": 1.299183,
     "end_time": "2023-12-06T09:04:55.159615",
     "exception": false,
     "start_time": "2023-12-06T09:04:53.860432",
     "status": "completed"
    },
    "tags": []
   },
   "outputs": [],
   "source": [
    "import pandas as pd\n",
    "from sklearn.model_selection import train_test_split\n",
    "\n",
    "# Read the data\n",
    "X = pd.read_csv('../input/train.csv', index_col='Id') \n",
    "X_test = pd.read_csv('../input/test.csv', index_col='Id')\n",
    "\n",
    "# Remove rows with missing target, separate target from predictors\n",
    "X.dropna(axis=0, subset=['SalePrice'], inplace=True)\n",
    "y = X.SalePrice\n",
    "X.drop(['SalePrice'], axis=1, inplace=True)\n",
    "\n",
    "# To keep things simple, we'll drop columns with missing values\n",
    "cols_with_missing = [col for col in X.columns if X[col].isnull().any()] \n",
    "X.drop(cols_with_missing, axis=1, inplace=True)\n",
    "X_test.drop(cols_with_missing, axis=1, inplace=True)\n",
    "\n",
    "# Break off validation set from training data\n",
    "X_train, X_valid, y_train, y_valid = train_test_split(X, y,\n",
    "                                                      train_size=0.8, test_size=0.2,\n",
    "                                                      random_state=0)"
   ]
  },
  {
   "cell_type": "markdown",
   "id": "e3f266b0",
   "metadata": {
    "_cell_guid": "06ed5c2c-749e-4a74-8930-c7fd8d19eb78",
    "_uuid": "ba7f418c-04d0-4e39-bb63-2bb29b68caca",
    "papermill": {
     "duration": 0.013896,
     "end_time": "2023-12-06T09:04:55.187105",
     "exception": false,
     "start_time": "2023-12-06T09:04:55.173209",
     "status": "completed"
    },
    "tags": []
   },
   "source": [
    "Use the next code cell to print the first five rows of the data."
   ]
  },
  {
   "cell_type": "code",
   "execution_count": 3,
   "id": "5b5e0452",
   "metadata": {
    "_cell_guid": "4df707ac-61dd-458d-b9e0-4b273e2b3e98",
    "_uuid": "1670896b-8a2d-457f-b4ff-b51890f8d2cc",
    "collapsed": false,
    "execution": {
     "iopub.execute_input": "2023-12-06T09:04:55.216803Z",
     "iopub.status.busy": "2023-12-06T09:04:55.216142Z",
     "iopub.status.idle": "2023-12-06T09:04:55.242025Z",
     "shell.execute_reply": "2023-12-06T09:04:55.241009Z"
    },
    "jupyter": {
     "outputs_hidden": false
    },
    "papermill": {
     "duration": 0.043674,
     "end_time": "2023-12-06T09:04:55.244586",
     "exception": false,
     "start_time": "2023-12-06T09:04:55.200912",
     "status": "completed"
    },
    "tags": []
   },
   "outputs": [
    {
     "data": {
      "text/html": [
       "<div>\n",
       "<style scoped>\n",
       "    .dataframe tbody tr th:only-of-type {\n",
       "        vertical-align: middle;\n",
       "    }\n",
       "\n",
       "    .dataframe tbody tr th {\n",
       "        vertical-align: top;\n",
       "    }\n",
       "\n",
       "    .dataframe thead th {\n",
       "        text-align: right;\n",
       "    }\n",
       "</style>\n",
       "<table border=\"1\" class=\"dataframe\">\n",
       "  <thead>\n",
       "    <tr style=\"text-align: right;\">\n",
       "      <th></th>\n",
       "      <th>MSSubClass</th>\n",
       "      <th>MSZoning</th>\n",
       "      <th>LotArea</th>\n",
       "      <th>Street</th>\n",
       "      <th>LotShape</th>\n",
       "      <th>LandContour</th>\n",
       "      <th>Utilities</th>\n",
       "      <th>LotConfig</th>\n",
       "      <th>LandSlope</th>\n",
       "      <th>Neighborhood</th>\n",
       "      <th>...</th>\n",
       "      <th>OpenPorchSF</th>\n",
       "      <th>EnclosedPorch</th>\n",
       "      <th>3SsnPorch</th>\n",
       "      <th>ScreenPorch</th>\n",
       "      <th>PoolArea</th>\n",
       "      <th>MiscVal</th>\n",
       "      <th>MoSold</th>\n",
       "      <th>YrSold</th>\n",
       "      <th>SaleType</th>\n",
       "      <th>SaleCondition</th>\n",
       "    </tr>\n",
       "    <tr>\n",
       "      <th>Id</th>\n",
       "      <th></th>\n",
       "      <th></th>\n",
       "      <th></th>\n",
       "      <th></th>\n",
       "      <th></th>\n",
       "      <th></th>\n",
       "      <th></th>\n",
       "      <th></th>\n",
       "      <th></th>\n",
       "      <th></th>\n",
       "      <th></th>\n",
       "      <th></th>\n",
       "      <th></th>\n",
       "      <th></th>\n",
       "      <th></th>\n",
       "      <th></th>\n",
       "      <th></th>\n",
       "      <th></th>\n",
       "      <th></th>\n",
       "      <th></th>\n",
       "      <th></th>\n",
       "    </tr>\n",
       "  </thead>\n",
       "  <tbody>\n",
       "    <tr>\n",
       "      <th>619</th>\n",
       "      <td>20</td>\n",
       "      <td>RL</td>\n",
       "      <td>11694</td>\n",
       "      <td>Pave</td>\n",
       "      <td>Reg</td>\n",
       "      <td>Lvl</td>\n",
       "      <td>AllPub</td>\n",
       "      <td>Inside</td>\n",
       "      <td>Gtl</td>\n",
       "      <td>NridgHt</td>\n",
       "      <td>...</td>\n",
       "      <td>108</td>\n",
       "      <td>0</td>\n",
       "      <td>0</td>\n",
       "      <td>260</td>\n",
       "      <td>0</td>\n",
       "      <td>0</td>\n",
       "      <td>7</td>\n",
       "      <td>2007</td>\n",
       "      <td>New</td>\n",
       "      <td>Partial</td>\n",
       "    </tr>\n",
       "    <tr>\n",
       "      <th>871</th>\n",
       "      <td>20</td>\n",
       "      <td>RL</td>\n",
       "      <td>6600</td>\n",
       "      <td>Pave</td>\n",
       "      <td>Reg</td>\n",
       "      <td>Lvl</td>\n",
       "      <td>AllPub</td>\n",
       "      <td>Inside</td>\n",
       "      <td>Gtl</td>\n",
       "      <td>NAmes</td>\n",
       "      <td>...</td>\n",
       "      <td>0</td>\n",
       "      <td>0</td>\n",
       "      <td>0</td>\n",
       "      <td>0</td>\n",
       "      <td>0</td>\n",
       "      <td>0</td>\n",
       "      <td>8</td>\n",
       "      <td>2009</td>\n",
       "      <td>WD</td>\n",
       "      <td>Normal</td>\n",
       "    </tr>\n",
       "    <tr>\n",
       "      <th>93</th>\n",
       "      <td>30</td>\n",
       "      <td>RL</td>\n",
       "      <td>13360</td>\n",
       "      <td>Pave</td>\n",
       "      <td>IR1</td>\n",
       "      <td>HLS</td>\n",
       "      <td>AllPub</td>\n",
       "      <td>Inside</td>\n",
       "      <td>Gtl</td>\n",
       "      <td>Crawfor</td>\n",
       "      <td>...</td>\n",
       "      <td>0</td>\n",
       "      <td>44</td>\n",
       "      <td>0</td>\n",
       "      <td>0</td>\n",
       "      <td>0</td>\n",
       "      <td>0</td>\n",
       "      <td>8</td>\n",
       "      <td>2009</td>\n",
       "      <td>WD</td>\n",
       "      <td>Normal</td>\n",
       "    </tr>\n",
       "    <tr>\n",
       "      <th>818</th>\n",
       "      <td>20</td>\n",
       "      <td>RL</td>\n",
       "      <td>13265</td>\n",
       "      <td>Pave</td>\n",
       "      <td>IR1</td>\n",
       "      <td>Lvl</td>\n",
       "      <td>AllPub</td>\n",
       "      <td>CulDSac</td>\n",
       "      <td>Gtl</td>\n",
       "      <td>Mitchel</td>\n",
       "      <td>...</td>\n",
       "      <td>59</td>\n",
       "      <td>0</td>\n",
       "      <td>0</td>\n",
       "      <td>0</td>\n",
       "      <td>0</td>\n",
       "      <td>0</td>\n",
       "      <td>7</td>\n",
       "      <td>2008</td>\n",
       "      <td>WD</td>\n",
       "      <td>Normal</td>\n",
       "    </tr>\n",
       "    <tr>\n",
       "      <th>303</th>\n",
       "      <td>20</td>\n",
       "      <td>RL</td>\n",
       "      <td>13704</td>\n",
       "      <td>Pave</td>\n",
       "      <td>IR1</td>\n",
       "      <td>Lvl</td>\n",
       "      <td>AllPub</td>\n",
       "      <td>Corner</td>\n",
       "      <td>Gtl</td>\n",
       "      <td>CollgCr</td>\n",
       "      <td>...</td>\n",
       "      <td>81</td>\n",
       "      <td>0</td>\n",
       "      <td>0</td>\n",
       "      <td>0</td>\n",
       "      <td>0</td>\n",
       "      <td>0</td>\n",
       "      <td>1</td>\n",
       "      <td>2006</td>\n",
       "      <td>WD</td>\n",
       "      <td>Normal</td>\n",
       "    </tr>\n",
       "  </tbody>\n",
       "</table>\n",
       "<p>5 rows × 60 columns</p>\n",
       "</div>"
      ],
      "text/plain": [
       "     MSSubClass MSZoning  LotArea Street LotShape LandContour Utilities  \\\n",
       "Id                                                                        \n",
       "619          20       RL    11694   Pave      Reg         Lvl    AllPub   \n",
       "871          20       RL     6600   Pave      Reg         Lvl    AllPub   \n",
       "93           30       RL    13360   Pave      IR1         HLS    AllPub   \n",
       "818          20       RL    13265   Pave      IR1         Lvl    AllPub   \n",
       "303          20       RL    13704   Pave      IR1         Lvl    AllPub   \n",
       "\n",
       "    LotConfig LandSlope Neighborhood  ... OpenPorchSF EnclosedPorch 3SsnPorch  \\\n",
       "Id                                    ...                                       \n",
       "619    Inside       Gtl      NridgHt  ...         108             0         0   \n",
       "871    Inside       Gtl        NAmes  ...           0             0         0   \n",
       "93     Inside       Gtl      Crawfor  ...           0            44         0   \n",
       "818   CulDSac       Gtl      Mitchel  ...          59             0         0   \n",
       "303    Corner       Gtl      CollgCr  ...          81             0         0   \n",
       "\n",
       "    ScreenPorch  PoolArea  MiscVal  MoSold  YrSold SaleType SaleCondition  \n",
       "Id                                                                         \n",
       "619         260         0        0       7    2007      New       Partial  \n",
       "871           0         0        0       8    2009       WD        Normal  \n",
       "93            0         0        0       8    2009       WD        Normal  \n",
       "818           0         0        0       7    2008       WD        Normal  \n",
       "303           0         0        0       1    2006       WD        Normal  \n",
       "\n",
       "[5 rows x 60 columns]"
      ]
     },
     "execution_count": 3,
     "metadata": {},
     "output_type": "execute_result"
    }
   ],
   "source": [
    "X_train.head()"
   ]
  },
  {
   "cell_type": "markdown",
   "id": "91476d65",
   "metadata": {
    "_cell_guid": "cebca89f-25c1-40ba-b646-2efa19a0c04e",
    "_uuid": "16504085-a6fe-4658-bd2c-be053d0401fd",
    "papermill": {
     "duration": 0.013597,
     "end_time": "2023-12-06T09:04:55.272330",
     "exception": false,
     "start_time": "2023-12-06T09:04:55.258733",
     "status": "completed"
    },
    "tags": []
   },
   "source": [
    "Notice that the dataset contains both numerical and categorical variables.  You'll need to encode the categorical data before training a model.\n",
    "\n",
    "To compare different models, you'll use the same `score_dataset()` function from the tutorial.  This function reports the [mean absolute error](https://en.wikipedia.org/wiki/Mean_absolute_error) (MAE) from a random forest model."
   ]
  },
  {
   "cell_type": "code",
   "execution_count": 4,
   "id": "98ac8943",
   "metadata": {
    "_cell_guid": "d1173a67-206d-43b8-9252-7ef516431f66",
    "_uuid": "d90ec487-f6c0-4cef-ba75-4f8051ff1a3c",
    "collapsed": false,
    "execution": {
     "iopub.execute_input": "2023-12-06T09:04:55.302079Z",
     "iopub.status.busy": "2023-12-06T09:04:55.301648Z",
     "iopub.status.idle": "2023-12-06T09:04:55.619658Z",
     "shell.execute_reply": "2023-12-06T09:04:55.618526Z"
    },
    "jupyter": {
     "outputs_hidden": false
    },
    "papermill": {
     "duration": 0.335998,
     "end_time": "2023-12-06T09:04:55.622428",
     "exception": false,
     "start_time": "2023-12-06T09:04:55.286430",
     "status": "completed"
    },
    "tags": []
   },
   "outputs": [],
   "source": [
    "from sklearn.ensemble import RandomForestRegressor\n",
    "from sklearn.metrics import mean_absolute_error\n",
    "\n",
    "# function for comparing different approaches\n",
    "def score_dataset(X_train, X_valid, y_train, y_valid):\n",
    "    model = RandomForestRegressor(n_estimators=100, random_state=0)\n",
    "    model.fit(X_train, y_train)\n",
    "    preds = model.predict(X_valid)\n",
    "    return mean_absolute_error(y_valid, preds)"
   ]
  },
  {
   "cell_type": "markdown",
   "id": "c8886335",
   "metadata": {
    "_cell_guid": "6567468c-9bbd-4df0-9ec5-241eeb25d336",
    "_uuid": "8adc5e3c-8047-45e6-9795-2582015709aa",
    "papermill": {
     "duration": 0.013988,
     "end_time": "2023-12-06T09:04:55.652554",
     "exception": false,
     "start_time": "2023-12-06T09:04:55.638566",
     "status": "completed"
    },
    "tags": []
   },
   "source": [
    "# Step 1: Drop columns with categorical data\n",
    "\n",
    "You'll get started with the most straightforward approach.  Use the code cell below to preprocess the data in `X_train` and `X_valid` to remove columns with categorical data.  Set the preprocessed DataFrames to `drop_X_train` and `drop_X_valid`, respectively."
   ]
  },
  {
   "cell_type": "code",
   "execution_count": 5,
   "id": "a6612847",
   "metadata": {
    "_cell_guid": "670a577a-02e1-4478-aaa5-e5b1320a53b8",
    "_uuid": "02a30f2f-648d-41ab-b3f6-39b19d1e8d53",
    "collapsed": false,
    "execution": {
     "iopub.execute_input": "2023-12-06T09:04:55.683035Z",
     "iopub.status.busy": "2023-12-06T09:04:55.682611Z",
     "iopub.status.idle": "2023-12-06T09:04:55.694123Z",
     "shell.execute_reply": "2023-12-06T09:04:55.693320Z"
    },
    "jupyter": {
     "outputs_hidden": false
    },
    "papermill": {
     "duration": 0.02925,
     "end_time": "2023-12-06T09:04:55.696174",
     "exception": false,
     "start_time": "2023-12-06T09:04:55.666924",
     "status": "completed"
    },
    "tags": []
   },
   "outputs": [
    {
     "data": {
      "application/javascript": [
       "parent.postMessage({\"jupyterEvent\": \"custom.exercise_interaction\", \"data\": {\"outcomeType\": 1, \"valueTowardsCompletion\": 0.5, \"interactionType\": 1, \"questionType\": 2, \"questionId\": \"1_Drop\", \"learnToolsVersion\": \"0.3.4\", \"failureMessage\": \"\", \"exceptionClass\": \"\", \"trace\": \"\"}}, \"*\")"
      ],
      "text/plain": [
       "<IPython.core.display.Javascript object>"
      ]
     },
     "metadata": {},
     "output_type": "display_data"
    },
    {
     "data": {
      "text/markdown": [
       "<span style=\"color:#33cc33\">Correct</span>"
      ],
      "text/plain": [
       "Correct"
      ]
     },
     "metadata": {},
     "output_type": "display_data"
    }
   ],
   "source": [
    "# Fill in the lines below: drop columns in training and validation data\n",
    "drop_X_train = X_train.select_dtypes(exclude = ['object'])\n",
    "drop_X_valid = X_valid.select_dtypes(exclude = ['object'])\n",
    "\n",
    "# Check your answers\n",
    "step_1.check()"
   ]
  },
  {
   "cell_type": "code",
   "execution_count": 6,
   "id": "52520a50",
   "metadata": {
    "_cell_guid": "ef05ff4f-63b3-4b27-9d67-29411634afb5",
    "_uuid": "e2e79b97-d2af-41c1-835b-6dc89bbcd011",
    "collapsed": false,
    "execution": {
     "iopub.execute_input": "2023-12-06T09:04:55.727184Z",
     "iopub.status.busy": "2023-12-06T09:04:55.726460Z",
     "iopub.status.idle": "2023-12-06T09:04:55.730712Z",
     "shell.execute_reply": "2023-12-06T09:04:55.729831Z"
    },
    "jupyter": {
     "outputs_hidden": false
    },
    "papermill": {
     "duration": 0.022014,
     "end_time": "2023-12-06T09:04:55.732946",
     "exception": false,
     "start_time": "2023-12-06T09:04:55.710932",
     "status": "completed"
    },
    "tags": []
   },
   "outputs": [],
   "source": [
    "# Lines below will give you a hint or solution code\n",
    "#step_1.hint()\n",
    "#step_1.solution()"
   ]
  },
  {
   "cell_type": "markdown",
   "id": "bc68c3d0",
   "metadata": {
    "_cell_guid": "48d9d090-46a0-48ef-9ee5-ae63e95159cb",
    "_uuid": "03fb74d7-4e96-43e9-86c7-b403e9fca5ef",
    "papermill": {
     "duration": 0.014392,
     "end_time": "2023-12-06T09:04:55.761987",
     "exception": false,
     "start_time": "2023-12-06T09:04:55.747595",
     "status": "completed"
    },
    "tags": []
   },
   "source": [
    "Run the next code cell to get the MAE for this approach."
   ]
  },
  {
   "cell_type": "code",
   "execution_count": 7,
   "id": "e801372e",
   "metadata": {
    "_cell_guid": "26b7dcd8-3974-4ade-acaf-f36844aa7299",
    "_uuid": "d31d62e4-a16e-4c14-9e56-d78dc4853a9d",
    "collapsed": false,
    "execution": {
     "iopub.execute_input": "2023-12-06T09:04:55.792702Z",
     "iopub.status.busy": "2023-12-06T09:04:55.792286Z",
     "iopub.status.idle": "2023-12-06T09:04:57.081007Z",
     "shell.execute_reply": "2023-12-06T09:04:57.079813Z"
    },
    "jupyter": {
     "outputs_hidden": false
    },
    "papermill": {
     "duration": 1.307275,
     "end_time": "2023-12-06T09:04:57.083693",
     "exception": false,
     "start_time": "2023-12-06T09:04:55.776418",
     "status": "completed"
    },
    "tags": []
   },
   "outputs": [
    {
     "name": "stdout",
     "output_type": "stream",
     "text": [
      "MAE from Approach 1 (Drop categorical variables):\n",
      "17837.82570776256\n"
     ]
    }
   ],
   "source": [
    "print(\"MAE from Approach 1 (Drop categorical variables):\")\n",
    "print(score_dataset(drop_X_train, drop_X_valid, y_train, y_valid))"
   ]
  },
  {
   "cell_type": "markdown",
   "id": "f88374ea",
   "metadata": {
    "_cell_guid": "3e4070cb-8ff2-40fe-aabe-7db88d06f6c8",
    "_uuid": "fe4320de-83aa-4c5e-9926-b510d83242fb",
    "papermill": {
     "duration": 0.014482,
     "end_time": "2023-12-06T09:04:57.112835",
     "exception": false,
     "start_time": "2023-12-06T09:04:57.098353",
     "status": "completed"
    },
    "tags": []
   },
   "source": [
    "Before jumping into ordinal encoding, we'll investigate the dataset.  Specifically, we'll look at the `'Condition2'` column.  The code cell below prints the unique entries in both the training and validation sets."
   ]
  },
  {
   "cell_type": "code",
   "execution_count": 8,
   "id": "de01a45f",
   "metadata": {
    "_cell_guid": "4401b9f0-3e88-46cf-b30d-401c027cc842",
    "_uuid": "cec1862f-afa6-4848-aa34-86457005de0a",
    "collapsed": false,
    "execution": {
     "iopub.execute_input": "2023-12-06T09:04:57.143968Z",
     "iopub.status.busy": "2023-12-06T09:04:57.143532Z",
     "iopub.status.idle": "2023-12-06T09:04:57.152408Z",
     "shell.execute_reply": "2023-12-06T09:04:57.151518Z"
    },
    "jupyter": {
     "outputs_hidden": false
    },
    "papermill": {
     "duration": 0.026852,
     "end_time": "2023-12-06T09:04:57.154679",
     "exception": false,
     "start_time": "2023-12-06T09:04:57.127827",
     "status": "completed"
    },
    "tags": []
   },
   "outputs": [
    {
     "name": "stdout",
     "output_type": "stream",
     "text": [
      "Unique values in 'Condition2' column in training data: ['Norm' 'PosA' 'Feedr' 'PosN' 'Artery' 'RRAe']\n",
      "\n",
      "Unique values in 'Condition2' column in validation data: ['Norm' 'RRAn' 'RRNn' 'Artery' 'Feedr' 'PosN']\n"
     ]
    }
   ],
   "source": [
    "print(\"Unique values in 'Condition2' column in training data:\", X_train['Condition2'].unique())\n",
    "print(\"\\nUnique values in 'Condition2' column in validation data:\", X_valid['Condition2'].unique())"
   ]
  },
  {
   "cell_type": "markdown",
   "id": "7336a694",
   "metadata": {
    "_cell_guid": "179308f6-16e2-4c10-ad32-525704b938ff",
    "_uuid": "7dcbffc0-cb3a-4c8a-83c7-ac869f8aaabb",
    "papermill": {
     "duration": 0.013542,
     "end_time": "2023-12-06T09:04:57.182378",
     "exception": false,
     "start_time": "2023-12-06T09:04:57.168836",
     "status": "completed"
    },
    "tags": []
   },
   "source": [
    "# Step 2: Ordinal encoding\n",
    "\n",
    "### Part A\n",
    "\n",
    "If you now write code to: \n",
    "- fit an ordinal encoder to the training data, and then \n",
    "- use it to transform both the training and validation data, \n",
    "\n",
    "you'll get an error.  Can you see why this is the case?  (_You'll need  to use the above output to answer this question._)"
   ]
  },
  {
   "cell_type": "code",
   "execution_count": 9,
   "id": "f1db869e",
   "metadata": {
    "_cell_guid": "2b48f754-0dd8-468b-8522-855e0f56a398",
    "_uuid": "724bca6d-ce4d-48d1-b934-8cd9f2ad53a0",
    "collapsed": false,
    "execution": {
     "iopub.execute_input": "2023-12-06T09:04:57.212769Z",
     "iopub.status.busy": "2023-12-06T09:04:57.212376Z",
     "iopub.status.idle": "2023-12-06T09:04:57.220801Z",
     "shell.execute_reply": "2023-12-06T09:04:57.219815Z"
    },
    "jupyter": {
     "outputs_hidden": false
    },
    "papermill": {
     "duration": 0.026576,
     "end_time": "2023-12-06T09:04:57.223127",
     "exception": false,
     "start_time": "2023-12-06T09:04:57.196551",
     "status": "completed"
    },
    "tags": []
   },
   "outputs": [
    {
     "data": {
      "application/javascript": [
       "parent.postMessage({\"jupyterEvent\": \"custom.exercise_interaction\", \"data\": {\"outcomeType\": 1, \"valueTowardsCompletion\": 0.5, \"interactionType\": 1, \"questionType\": 4, \"questionId\": \"2.1_LabelA\", \"learnToolsVersion\": \"0.3.4\", \"failureMessage\": \"\", \"exceptionClass\": \"\", \"trace\": \"\"}}, \"*\")"
      ],
      "text/plain": [
       "<IPython.core.display.Javascript object>"
      ]
     },
     "metadata": {},
     "output_type": "display_data"
    },
    {
     "data": {
      "text/markdown": [
       "<span style=\"color:#33cc33\">Correct:</span> \n",
       "\n",
       "Fitting an ordinal encoder to a column in the training data creates a corresponding integer-valued label for each unique value **that appears in the training data**. In the case that the validation data contains values that don't also appear in the training data, the encoder will throw an error, because these values won't have an integer assigned to them.  Notice that the `'Condition2'` column in the validation data contains the values `'RRAn'` and `'RRNn'`, but these don't appear in the training data -- thus, if we try to use an ordinal encoder with scikit-learn, the code will throw an error."
      ],
      "text/plain": [
       "Correct: \n",
       "\n",
       "Fitting an ordinal encoder to a column in the training data creates a corresponding integer-valued label for each unique value **that appears in the training data**. In the case that the validation data contains values that don't also appear in the training data, the encoder will throw an error, because these values won't have an integer assigned to them.  Notice that the `'Condition2'` column in the validation data contains the values `'RRAn'` and `'RRNn'`, but these don't appear in the training data -- thus, if we try to use an ordinal encoder with scikit-learn, the code will throw an error."
      ]
     },
     "metadata": {},
     "output_type": "display_data"
    }
   ],
   "source": [
    "# Check your answer (Run this code cell to receive credit!)\n",
    "step_2.a.check()"
   ]
  },
  {
   "cell_type": "code",
   "execution_count": 10,
   "id": "b21a2b41",
   "metadata": {
    "_cell_guid": "3eb2af56-d1b5-4689-8a66-7e3ee16154f4",
    "_uuid": "11b455dd-22de-46a8-a1d7-5683b70d0c0e",
    "collapsed": false,
    "execution": {
     "iopub.execute_input": "2023-12-06T09:04:57.310763Z",
     "iopub.status.busy": "2023-12-06T09:04:57.310338Z",
     "iopub.status.idle": "2023-12-06T09:04:57.318242Z",
     "shell.execute_reply": "2023-12-06T09:04:57.317509Z"
    },
    "jupyter": {
     "outputs_hidden": false
    },
    "papermill": {
     "duration": 0.081989,
     "end_time": "2023-12-06T09:04:57.320154",
     "exception": false,
     "start_time": "2023-12-06T09:04:57.238165",
     "status": "completed"
    },
    "tags": []
   },
   "outputs": [
    {
     "data": {
      "application/javascript": [
       "parent.postMessage({\"jupyterEvent\": \"custom.exercise_interaction\", \"data\": {\"interactionType\": 2, \"questionType\": 4, \"questionId\": \"2.1_LabelA\", \"learnToolsVersion\": \"0.3.4\", \"valueTowardsCompletion\": 0.0, \"failureMessage\": \"\", \"exceptionClass\": \"\", \"trace\": \"\", \"outcomeType\": 4}}, \"*\")"
      ],
      "text/plain": [
       "<IPython.core.display.Javascript object>"
      ]
     },
     "metadata": {},
     "output_type": "display_data"
    },
    {
     "data": {
      "text/markdown": [
       "<span style=\"color:#3366cc\">Hint:</span> Are there any values that appear in the validation data but not in the training data?"
      ],
      "text/plain": [
       "Hint: Are there any values that appear in the validation data but not in the training data?"
      ]
     },
     "metadata": {},
     "output_type": "display_data"
    }
   ],
   "source": [
    "step_2.a.hint()"
   ]
  },
  {
   "cell_type": "markdown",
   "id": "829ffac3",
   "metadata": {
    "_cell_guid": "62cac980-06af-48bf-a8dd-2530f077c273",
    "_uuid": "8b4cc5ab-2dff-4673-ad96-0ae5e408b451",
    "papermill": {
     "duration": 0.015102,
     "end_time": "2023-12-06T09:04:57.350779",
     "exception": false,
     "start_time": "2023-12-06T09:04:57.335677",
     "status": "completed"
    },
    "tags": []
   },
   "source": [
    "This is a common problem that you'll encounter with real-world data, and there are many approaches to fixing this issue.  For instance, you can write a custom ordinal encoder to deal with new categories.  The simplest approach, however, is to drop the problematic categorical columns.  \n",
    "\n",
    "Run the code cell below to save the problematic columns to a Python list `bad_label_cols`.  Likewise, columns that can be safely ordinal encoded are stored in `good_label_cols`."
   ]
  },
  {
   "cell_type": "code",
   "execution_count": 11,
   "id": "85fb453f",
   "metadata": {
    "_cell_guid": "ec2226ab-2573-47ca-807f-28dadb57128c",
    "_uuid": "c544a435-197e-4608-bbb5-d3f8f8552f81",
    "collapsed": false,
    "execution": {
     "iopub.execute_input": "2023-12-06T09:04:57.384654Z",
     "iopub.status.busy": "2023-12-06T09:04:57.384233Z",
     "iopub.status.idle": "2023-12-06T09:04:57.401132Z",
     "shell.execute_reply": "2023-12-06T09:04:57.399883Z"
    },
    "jupyter": {
     "outputs_hidden": false
    },
    "papermill": {
     "duration": 0.036323,
     "end_time": "2023-12-06T09:04:57.403406",
     "exception": false,
     "start_time": "2023-12-06T09:04:57.367083",
     "status": "completed"
    },
    "tags": []
   },
   "outputs": [
    {
     "name": "stdout",
     "output_type": "stream",
     "text": [
      "Categorical columns that will be ordinal encoded: ['MSZoning', 'Street', 'LotShape', 'LandContour', 'Utilities', 'LotConfig', 'LandSlope', 'Neighborhood', 'Condition1', 'BldgType', 'HouseStyle', 'RoofStyle', 'Exterior1st', 'Exterior2nd', 'ExterQual', 'ExterCond', 'Foundation', 'Heating', 'HeatingQC', 'CentralAir', 'KitchenQual', 'PavedDrive', 'SaleType', 'SaleCondition']\n",
      "\n",
      "Categorical columns that will be dropped from the dataset: ['RoofMatl', 'Functional', 'Condition2']\n"
     ]
    }
   ],
   "source": [
    "# Categorical columns in the training data\n",
    "object_cols = [col for col in X_train.columns if X_train[col].dtype == \"object\"]\n",
    "\n",
    "# Columns that can be safely ordinal encoded\n",
    "good_label_cols = [col for col in object_cols if \n",
    "                   set(X_valid[col]).issubset(set(X_train[col]))]\n",
    "        \n",
    "# Problematic columns that will be dropped from the dataset\n",
    "bad_label_cols = list(set(object_cols)-set(good_label_cols))\n",
    "        \n",
    "print('Categorical columns that will be ordinal encoded:', good_label_cols)\n",
    "print('\\nCategorical columns that will be dropped from the dataset:', bad_label_cols)"
   ]
  },
  {
   "cell_type": "markdown",
   "id": "6d85e6ad",
   "metadata": {
    "_cell_guid": "63bcdcb9-a830-423f-aeb4-58cb0e4a7b74",
    "_uuid": "9f72c44e-a058-429b-89ca-8f5e5c7e4f1c",
    "papermill": {
     "duration": 0.015365,
     "end_time": "2023-12-06T09:04:57.434456",
     "exception": false,
     "start_time": "2023-12-06T09:04:57.419091",
     "status": "completed"
    },
    "tags": []
   },
   "source": [
    "### Part B\n",
    "\n",
    "Use the next code cell to ordinal encode the data in `X_train` and `X_valid`.  Set the preprocessed DataFrames to `label_X_train` and `label_X_valid`, respectively.  \n",
    "- We have provided code below to drop the categorical columns in `bad_label_cols` from the dataset. \n",
    "- You should ordinal encode the categorical columns in `good_label_cols`."
   ]
  },
  {
   "cell_type": "code",
   "execution_count": 12,
   "id": "5641db56",
   "metadata": {
    "_cell_guid": "426fa6be-363e-4347-8f1c-267b3ffd87ab",
    "_uuid": "ac967a8f-5f16-4e5b-b9ef-6ba948313682",
    "collapsed": false,
    "execution": {
     "iopub.execute_input": "2023-12-06T09:04:57.467864Z",
     "iopub.status.busy": "2023-12-06T09:04:57.467415Z",
     "iopub.status.idle": "2023-12-06T09:04:57.517301Z",
     "shell.execute_reply": "2023-12-06T09:04:57.516253Z"
    },
    "jupyter": {
     "outputs_hidden": false
    },
    "papermill": {
     "duration": 0.069994,
     "end_time": "2023-12-06T09:04:57.519947",
     "exception": false,
     "start_time": "2023-12-06T09:04:57.449953",
     "status": "completed"
    },
    "tags": []
   },
   "outputs": [
    {
     "data": {
      "application/javascript": [
       "parent.postMessage({\"jupyterEvent\": \"custom.exercise_interaction\", \"data\": {\"outcomeType\": 1, \"valueTowardsCompletion\": 0.5, \"interactionType\": 1, \"questionType\": 2, \"questionId\": \"2.2_LabelB\", \"learnToolsVersion\": \"0.3.4\", \"failureMessage\": \"\", \"exceptionClass\": \"\", \"trace\": \"\"}}, \"*\")"
      ],
      "text/plain": [
       "<IPython.core.display.Javascript object>"
      ]
     },
     "metadata": {},
     "output_type": "display_data"
    },
    {
     "data": {
      "text/markdown": [
       "<span style=\"color:#33cc33\">Correct</span>"
      ],
      "text/plain": [
       "Correct"
      ]
     },
     "metadata": {},
     "output_type": "display_data"
    }
   ],
   "source": [
    "from sklearn.preprocessing import OrdinalEncoder\n",
    "\n",
    "# Drop categorical columns that will not be encoded\n",
    "label_X_train = X_train.drop(bad_label_cols, axis=1)\n",
    "label_X_valid = X_valid.drop(bad_label_cols, axis=1)\n",
    "\n",
    "# Apply ordinal encoder \n",
    "ordinal_encoder = OrdinalEncoder()\n",
    "label_X_train[good_label_cols] = ordinal_encoder.fit_transform(X_train[good_label_cols])\n",
    "label_X_valid[good_label_cols] = ordinal_encoder.transform(X_valid[good_label_cols])\n",
    "# Your code here\n",
    "    \n",
    "# Check your answer\n",
    "step_2.b.check()"
   ]
  },
  {
   "cell_type": "code",
   "execution_count": 13,
   "id": "9ccc25bd",
   "metadata": {
    "_cell_guid": "0db17aa1-8170-4eb3-82a3-c8191db6f0ff",
    "_uuid": "8d36ebd2-4bd6-4cff-bdb7-b81977c4872c",
    "collapsed": false,
    "execution": {
     "iopub.execute_input": "2023-12-06T09:04:57.553529Z",
     "iopub.status.busy": "2023-12-06T09:04:57.553129Z",
     "iopub.status.idle": "2023-12-06T09:04:57.560273Z",
     "shell.execute_reply": "2023-12-06T09:04:57.559567Z"
    },
    "jupyter": {
     "outputs_hidden": false
    },
    "papermill": {
     "duration": 0.026505,
     "end_time": "2023-12-06T09:04:57.562310",
     "exception": false,
     "start_time": "2023-12-06T09:04:57.535805",
     "status": "completed"
    },
    "tags": []
   },
   "outputs": [
    {
     "data": {
      "application/javascript": [
       "parent.postMessage({\"jupyterEvent\": \"custom.exercise_interaction\", \"data\": {\"interactionType\": 3, \"questionType\": 2, \"questionId\": \"2.2_LabelB\", \"learnToolsVersion\": \"0.3.4\", \"valueTowardsCompletion\": 0.0, \"failureMessage\": \"\", \"exceptionClass\": \"\", \"trace\": \"\", \"outcomeType\": 4}}, \"*\")"
      ],
      "text/plain": [
       "<IPython.core.display.Javascript object>"
      ]
     },
     "metadata": {},
     "output_type": "display_data"
    },
    {
     "data": {
      "text/markdown": [
       "<span style=\"color:#33cc99\">Solution:</span> \n",
       "```python\n",
       "# Drop categorical columns that will not be encoded\n",
       "label_X_train = X_train.drop(bad_label_cols, axis=1)\n",
       "label_X_valid = X_valid.drop(bad_label_cols, axis=1)\n",
       "\n",
       "# Apply ordinal encoder\n",
       "ordinal_encoder = OrdinalEncoder()\n",
       "label_X_train[good_label_cols] = ordinal_encoder.fit_transform(X_train[good_label_cols])\n",
       "label_X_valid[good_label_cols] = ordinal_encoder.transform(X_valid[good_label_cols])\n",
       "\n",
       "```"
      ],
      "text/plain": [
       "Solution: \n",
       "```python\n",
       "# Drop categorical columns that will not be encoded\n",
       "label_X_train = X_train.drop(bad_label_cols, axis=1)\n",
       "label_X_valid = X_valid.drop(bad_label_cols, axis=1)\n",
       "\n",
       "# Apply ordinal encoder\n",
       "ordinal_encoder = OrdinalEncoder()\n",
       "label_X_train[good_label_cols] = ordinal_encoder.fit_transform(X_train[good_label_cols])\n",
       "label_X_valid[good_label_cols] = ordinal_encoder.transform(X_valid[good_label_cols])\n",
       "\n",
       "```"
      ]
     },
     "metadata": {},
     "output_type": "display_data"
    }
   ],
   "source": [
    "# Lines below will give you a hint or solution code\n",
    "#step_2.b.hint()\n",
    "step_2.b.solution()"
   ]
  },
  {
   "cell_type": "markdown",
   "id": "8fb08661",
   "metadata": {
    "_cell_guid": "acd9ac78-ecad-42b8-bcd1-576b37d52178",
    "_uuid": "00420ad8-95c5-4d24-b7ed-89a492be85e7",
    "papermill": {
     "duration": 0.015749,
     "end_time": "2023-12-06T09:04:57.594374",
     "exception": false,
     "start_time": "2023-12-06T09:04:57.578625",
     "status": "completed"
    },
    "tags": []
   },
   "source": [
    "Run the next code cell to get the MAE for this approach."
   ]
  },
  {
   "cell_type": "code",
   "execution_count": 14,
   "id": "511bdfd7",
   "metadata": {
    "_cell_guid": "c836ef38-e16d-4203-a04e-0297c9930d14",
    "_uuid": "7835cefa-3511-4c9f-a3dd-370a03543355",
    "collapsed": false,
    "execution": {
     "iopub.execute_input": "2023-12-06T09:04:57.628619Z",
     "iopub.status.busy": "2023-12-06T09:04:57.628155Z",
     "iopub.status.idle": "2023-12-06T09:04:59.306092Z",
     "shell.execute_reply": "2023-12-06T09:04:59.304921Z"
    },
    "jupyter": {
     "outputs_hidden": false
    },
    "papermill": {
     "duration": 1.698002,
     "end_time": "2023-12-06T09:04:59.308584",
     "exception": false,
     "start_time": "2023-12-06T09:04:57.610582",
     "status": "completed"
    },
    "tags": []
   },
   "outputs": [
    {
     "name": "stdout",
     "output_type": "stream",
     "text": [
      "MAE from Approach 2 (Ordinal Encoding):\n",
      "17098.01649543379\n"
     ]
    }
   ],
   "source": [
    "print(\"MAE from Approach 2 (Ordinal Encoding):\") \n",
    "print(score_dataset(label_X_train, label_X_valid, y_train, y_valid))"
   ]
  },
  {
   "cell_type": "markdown",
   "id": "8844cd1a",
   "metadata": {
    "_cell_guid": "f9212715-9584-43d1-9ab9-ee10b0901115",
    "_uuid": "492b4691-ae43-47bd-b236-a06e5254e494",
    "papermill": {
     "duration": 0.016085,
     "end_time": "2023-12-06T09:04:59.341319",
     "exception": false,
     "start_time": "2023-12-06T09:04:59.325234",
     "status": "completed"
    },
    "tags": []
   },
   "source": [
    "So far, you've tried two different approaches to dealing with categorical variables.  And, you've seen that encoding categorical data yields better results than removing columns from the dataset.\n",
    "\n",
    "Soon, you'll try one-hot encoding.  Before then, there's one additional topic we need to cover.  Begin by running the next code cell without changes."
   ]
  },
  {
   "cell_type": "code",
   "execution_count": 15,
   "id": "f2b65fd2",
   "metadata": {
    "_cell_guid": "bdfda9cd-18f1-43e8-8c49-dfdceff63995",
    "_uuid": "e3f5f063-bea2-45f2-8d72-40aa31779b9c",
    "collapsed": false,
    "execution": {
     "iopub.execute_input": "2023-12-06T09:04:59.377704Z",
     "iopub.status.busy": "2023-12-06T09:04:59.376355Z",
     "iopub.status.idle": "2023-12-06T09:04:59.391451Z",
     "shell.execute_reply": "2023-12-06T09:04:59.390407Z"
    },
    "jupyter": {
     "outputs_hidden": false
    },
    "papermill": {
     "duration": 0.035561,
     "end_time": "2023-12-06T09:04:59.393774",
     "exception": false,
     "start_time": "2023-12-06T09:04:59.358213",
     "status": "completed"
    },
    "tags": []
   },
   "outputs": [
    {
     "data": {
      "text/plain": [
       "[('Street', 2),\n",
       " ('Utilities', 2),\n",
       " ('CentralAir', 2),\n",
       " ('LandSlope', 3),\n",
       " ('PavedDrive', 3),\n",
       " ('LotShape', 4),\n",
       " ('LandContour', 4),\n",
       " ('ExterQual', 4),\n",
       " ('KitchenQual', 4),\n",
       " ('MSZoning', 5),\n",
       " ('LotConfig', 5),\n",
       " ('BldgType', 5),\n",
       " ('ExterCond', 5),\n",
       " ('HeatingQC', 5),\n",
       " ('Condition2', 6),\n",
       " ('RoofStyle', 6),\n",
       " ('Foundation', 6),\n",
       " ('Heating', 6),\n",
       " ('Functional', 6),\n",
       " ('SaleCondition', 6),\n",
       " ('RoofMatl', 7),\n",
       " ('HouseStyle', 8),\n",
       " ('Condition1', 9),\n",
       " ('SaleType', 9),\n",
       " ('Exterior1st', 15),\n",
       " ('Exterior2nd', 16),\n",
       " ('Neighborhood', 25)]"
      ]
     },
     "execution_count": 15,
     "metadata": {},
     "output_type": "execute_result"
    }
   ],
   "source": [
    "# Get number of unique entries in each column with categorical data\n",
    "object_nunique = list(map(lambda col: X_train[col].nunique(), object_cols))\n",
    "d = dict(zip(object_cols, object_nunique))\n",
    "\n",
    "# Print number of unique entries by column, in ascending order\n",
    "sorted(d.items(), key=lambda x: x[1])"
   ]
  },
  {
   "cell_type": "markdown",
   "id": "f0501f52",
   "metadata": {
    "_cell_guid": "ebfdb500-41b9-4323-b9cf-20d3173df407",
    "_uuid": "8f6bf629-98fb-4f17-820a-be7536c57a9b",
    "papermill": {
     "duration": 0.016222,
     "end_time": "2023-12-06T09:04:59.426364",
     "exception": false,
     "start_time": "2023-12-06T09:04:59.410142",
     "status": "completed"
    },
    "tags": []
   },
   "source": [
    "# Step 3: Investigating cardinality\n",
    "\n",
    "### Part A\n",
    "\n",
    "The output above shows, for each column with categorical data, the number of unique values in the column.  For instance, the `'Street'` column in the training data has two unique values: `'Grvl'` and `'Pave'`, corresponding to a gravel road and a paved road, respectively.\n",
    "\n",
    "We refer to the number of unique entries of a categorical variable as the **cardinality** of that categorical variable.  For instance, the `'Street'` variable has cardinality 2.\n",
    "\n",
    "Use the output above to answer the questions below."
   ]
  },
  {
   "cell_type": "code",
   "execution_count": 16,
   "id": "e398cde6",
   "metadata": {
    "_cell_guid": "390b39e9-4065-45d9-8370-a9c0a74cc9d8",
    "_uuid": "9ec02358-783e-46a9-bb6a-08b16b51789f",
    "collapsed": false,
    "execution": {
     "iopub.execute_input": "2023-12-06T09:04:59.461874Z",
     "iopub.status.busy": "2023-12-06T09:04:59.461011Z",
     "iopub.status.idle": "2023-12-06T09:04:59.470828Z",
     "shell.execute_reply": "2023-12-06T09:04:59.469767Z"
    },
    "jupyter": {
     "outputs_hidden": false
    },
    "papermill": {
     "duration": 0.030232,
     "end_time": "2023-12-06T09:04:59.473056",
     "exception": false,
     "start_time": "2023-12-06T09:04:59.442824",
     "status": "completed"
    },
    "tags": []
   },
   "outputs": [
    {
     "data": {
      "application/javascript": [
       "parent.postMessage({\"jupyterEvent\": \"custom.exercise_interaction\", \"data\": {\"outcomeType\": 1, \"valueTowardsCompletion\": 0.5, \"interactionType\": 1, \"questionType\": 1, \"questionId\": \"3.1_CardinalityA\", \"learnToolsVersion\": \"0.3.4\", \"failureMessage\": \"\", \"exceptionClass\": \"\", \"trace\": \"\"}}, \"*\")"
      ],
      "text/plain": [
       "<IPython.core.display.Javascript object>"
      ]
     },
     "metadata": {},
     "output_type": "display_data"
    },
    {
     "data": {
      "text/markdown": [
       "<span style=\"color:#33cc33\">Correct</span>"
      ],
      "text/plain": [
       "Correct"
      ]
     },
     "metadata": {},
     "output_type": "display_data"
    }
   ],
   "source": [
    "# Fill in the line below: How many categorical variables in the training data\n",
    "# have cardinality greater than 10?\n",
    "high_cardinality_numcols = 3\n",
    "\n",
    "# Fill in the line below: How many columns are needed to one-hot encode the \n",
    "# 'Neighborhood' variable in the training data?\n",
    "num_cols_neighborhood = 25\n",
    "\n",
    "# Check your answers\n",
    "step_3.a.check()"
   ]
  },
  {
   "cell_type": "code",
   "execution_count": 17,
   "id": "15e3b18c",
   "metadata": {
    "_cell_guid": "ce5698cc-1b2c-4ac1-b57d-03d6740fb5fa",
    "_uuid": "012010e3-b0bc-464e-bba7-479f2c54753c",
    "collapsed": false,
    "execution": {
     "iopub.execute_input": "2023-12-06T09:04:59.509883Z",
     "iopub.status.busy": "2023-12-06T09:04:59.509504Z",
     "iopub.status.idle": "2023-12-06T09:04:59.513818Z",
     "shell.execute_reply": "2023-12-06T09:04:59.512895Z"
    },
    "jupyter": {
     "outputs_hidden": false
    },
    "papermill": {
     "duration": 0.025343,
     "end_time": "2023-12-06T09:04:59.515994",
     "exception": false,
     "start_time": "2023-12-06T09:04:59.490651",
     "status": "completed"
    },
    "tags": []
   },
   "outputs": [],
   "source": [
    "# Lines below will give you a hint or solution code\n",
    "#step_3.a.hint()\n",
    "#step_3.a.solution()"
   ]
  },
  {
   "cell_type": "markdown",
   "id": "499f3382",
   "metadata": {
    "_cell_guid": "ffb339f3-4bfb-4e01-9e95-94670e625262",
    "_uuid": "33f2d475-6e7d-4d11-9497-383b47539f29",
    "papermill": {
     "duration": 0.017102,
     "end_time": "2023-12-06T09:04:59.550162",
     "exception": false,
     "start_time": "2023-12-06T09:04:59.533060",
     "status": "completed"
    },
    "tags": []
   },
   "source": [
    "### Part B\n",
    "\n",
    "For large datasets with many rows, one-hot encoding can greatly expand the size of the dataset.  For this reason, we typically will only one-hot encode columns with relatively low cardinality.  Then, high cardinality columns can either be dropped from the dataset, or we can use ordinal encoding.\n",
    "\n",
    "As an example, consider a dataset with 10,000 rows, and containing one categorical column with 100 unique entries.  \n",
    "- If this column is replaced with the corresponding one-hot encoding, how many entries are added to the dataset?  \n",
    "- If we instead replace the column with the ordinal encoding, how many entries are added?  \n",
    "\n",
    "Use your answers to fill in the lines below."
   ]
  },
  {
   "cell_type": "code",
   "execution_count": 18,
   "id": "50ea5107",
   "metadata": {
    "_cell_guid": "7a98a42a-a5e5-4308-9323-8bf5bc173ec5",
    "_uuid": "b90b3630-f60a-4271-93ed-65a87cfe74f8",
    "collapsed": false,
    "execution": {
     "iopub.execute_input": "2023-12-06T09:04:59.585741Z",
     "iopub.status.busy": "2023-12-06T09:04:59.585355Z",
     "iopub.status.idle": "2023-12-06T09:04:59.595167Z",
     "shell.execute_reply": "2023-12-06T09:04:59.594066Z"
    },
    "jupyter": {
     "outputs_hidden": false
    },
    "papermill": {
     "duration": 0.030552,
     "end_time": "2023-12-06T09:04:59.597543",
     "exception": false,
     "start_time": "2023-12-06T09:04:59.566991",
     "status": "completed"
    },
    "tags": []
   },
   "outputs": [
    {
     "data": {
      "application/javascript": [
       "parent.postMessage({\"jupyterEvent\": \"custom.exercise_interaction\", \"data\": {\"outcomeType\": 1, \"valueTowardsCompletion\": 0.5, \"interactionType\": 1, \"questionType\": 1, \"questionId\": \"3.2_CardinalityB\", \"learnToolsVersion\": \"0.3.4\", \"failureMessage\": \"\", \"exceptionClass\": \"\", \"trace\": \"\"}}, \"*\")"
      ],
      "text/plain": [
       "<IPython.core.display.Javascript object>"
      ]
     },
     "metadata": {},
     "output_type": "display_data"
    },
    {
     "data": {
      "text/markdown": [
       "<span style=\"color:#33cc33\">Correct</span>"
      ],
      "text/plain": [
       "Correct"
      ]
     },
     "metadata": {},
     "output_type": "display_data"
    }
   ],
   "source": [
    "# Fill in the line below: How many entries are added to the dataset by \n",
    "# replacing the column with a one-hot encoding?\n",
    "OH_entries_added = 990000\n",
    "\n",
    "# Fill in the line below: How many entries are added to the dataset by\n",
    "# replacing the column with an ordinal encoding?\n",
    "label_entries_added = 0\n",
    "\n",
    "# Check your answers\n",
    "step_3.b.check()"
   ]
  },
  {
   "cell_type": "code",
   "execution_count": 19,
   "id": "d9381855",
   "metadata": {
    "_cell_guid": "401867ef-bea1-4e61-9b81-50e0ebb5408c",
    "_uuid": "1759ef6b-ba54-4cbe-bbd3-28f024464c2b",
    "collapsed": false,
    "execution": {
     "iopub.execute_input": "2023-12-06T09:04:59.635357Z",
     "iopub.status.busy": "2023-12-06T09:04:59.634572Z",
     "iopub.status.idle": "2023-12-06T09:04:59.643815Z",
     "shell.execute_reply": "2023-12-06T09:04:59.642721Z"
    },
    "jupyter": {
     "outputs_hidden": false
    },
    "papermill": {
     "duration": 0.030915,
     "end_time": "2023-12-06T09:04:59.645975",
     "exception": false,
     "start_time": "2023-12-06T09:04:59.615060",
     "status": "completed"
    },
    "tags": []
   },
   "outputs": [
    {
     "data": {
      "application/javascript": [
       "parent.postMessage({\"jupyterEvent\": \"custom.exercise_interaction\", \"data\": {\"interactionType\": 3, \"questionType\": 1, \"questionId\": \"3.2_CardinalityB\", \"learnToolsVersion\": \"0.3.4\", \"valueTowardsCompletion\": 0.0, \"failureMessage\": \"\", \"exceptionClass\": \"\", \"trace\": \"\", \"outcomeType\": 4}}, \"*\")"
      ],
      "text/plain": [
       "<IPython.core.display.Javascript object>"
      ]
     },
     "metadata": {},
     "output_type": "display_data"
    },
    {
     "data": {
      "text/markdown": [
       "<span style=\"color:#33cc99\">Solution:</span> \n",
       "```python\n",
       "# How many entries are added to the dataset by\n",
       "# replacing the column with a one-hot encoding?\n",
       "OH_entries_added = 1e4*100 - 1e4\n",
       "\n",
       "# How many entries are added to the dataset by\n",
       "# replacing the column with an ordinal encoding?\n",
       "label_entries_added = 0\n",
       "\n",
       "```"
      ],
      "text/plain": [
       "Solution: \n",
       "```python\n",
       "# How many entries are added to the dataset by\n",
       "# replacing the column with a one-hot encoding?\n",
       "OH_entries_added = 1e4*100 - 1e4\n",
       "\n",
       "# How many entries are added to the dataset by\n",
       "# replacing the column with an ordinal encoding?\n",
       "label_entries_added = 0\n",
       "\n",
       "```"
      ]
     },
     "metadata": {},
     "output_type": "display_data"
    }
   ],
   "source": [
    "# Lines below will give you a hint or solution code\n",
    "# step_3.b.hint()\n",
    "step_3.b.solution()"
   ]
  },
  {
   "cell_type": "markdown",
   "id": "1c0faf29",
   "metadata": {
    "_cell_guid": "66c4a134-2bd6-4a16-9fa9-fed2e53374c9",
    "_uuid": "e1e34a81-cabb-418c-8bec-5068b1e530dc",
    "papermill": {
     "duration": 0.017586,
     "end_time": "2023-12-06T09:04:59.682318",
     "exception": false,
     "start_time": "2023-12-06T09:04:59.664732",
     "status": "completed"
    },
    "tags": []
   },
   "source": [
    "Next, you'll experiment with one-hot encoding.  But, instead of encoding all of the categorical variables in the dataset, you'll only create a one-hot encoding for columns with cardinality less than 10.\n",
    "\n",
    "Run the code cell below without changes to set `low_cardinality_cols` to a Python list containing the columns that will be one-hot encoded.  Likewise, `high_cardinality_cols` contains a list of categorical columns that will be dropped from the dataset."
   ]
  },
  {
   "cell_type": "code",
   "execution_count": 20,
   "id": "91c3bd90",
   "metadata": {
    "_cell_guid": "8dcc3623-dc58-4073-bcd9-e626be8d3dad",
    "_uuid": "48b41976-3e22-4b89-a0db-937e4d325e53",
    "collapsed": false,
    "execution": {
     "iopub.execute_input": "2023-12-06T09:04:59.719875Z",
     "iopub.status.busy": "2023-12-06T09:04:59.719093Z",
     "iopub.status.idle": "2023-12-06T09:04:59.730765Z",
     "shell.execute_reply": "2023-12-06T09:04:59.729363Z"
    },
    "jupyter": {
     "outputs_hidden": false
    },
    "papermill": {
     "duration": 0.033061,
     "end_time": "2023-12-06T09:04:59.733143",
     "exception": false,
     "start_time": "2023-12-06T09:04:59.700082",
     "status": "completed"
    },
    "tags": []
   },
   "outputs": [
    {
     "name": "stdout",
     "output_type": "stream",
     "text": [
      "Categorical columns that will be one-hot encoded: ['MSZoning', 'Street', 'LotShape', 'LandContour', 'Utilities', 'LotConfig', 'LandSlope', 'Condition1', 'Condition2', 'BldgType', 'HouseStyle', 'RoofStyle', 'RoofMatl', 'ExterQual', 'ExterCond', 'Foundation', 'Heating', 'HeatingQC', 'CentralAir', 'KitchenQual', 'Functional', 'PavedDrive', 'SaleType', 'SaleCondition']\n",
      "\n",
      "Categorical columns that will be dropped from the dataset: ['Neighborhood', 'Exterior1st', 'Exterior2nd']\n"
     ]
    }
   ],
   "source": [
    "# Columns that will be one-hot encoded\n",
    "low_cardinality_cols = [col for col in object_cols if X_train[col].nunique() < 10]\n",
    "\n",
    "# Columns that will be dropped from the dataset\n",
    "high_cardinality_cols = list(set(object_cols)-set(low_cardinality_cols))\n",
    "\n",
    "print('Categorical columns that will be one-hot encoded:', low_cardinality_cols)\n",
    "print('\\nCategorical columns that will be dropped from the dataset:', high_cardinality_cols)"
   ]
  },
  {
   "cell_type": "markdown",
   "id": "d4941943",
   "metadata": {
    "_cell_guid": "2c87678f-0360-4dc8-bde9-36d33ee87ed1",
    "_uuid": "198e7740-1bed-4b4d-86eb-a8c598137cb0",
    "papermill": {
     "duration": 0.017411,
     "end_time": "2023-12-06T09:04:59.768648",
     "exception": false,
     "start_time": "2023-12-06T09:04:59.751237",
     "status": "completed"
    },
    "tags": []
   },
   "source": [
    "# Step 4: One-hot encoding\n",
    "\n",
    "Use the next code cell to one-hot encode the data in `X_train` and `X_valid`.  Set the preprocessed DataFrames to `OH_X_train` and `OH_X_valid`, respectively.  \n",
    "- The full list of categorical columns in the dataset can be found in the Python list `object_cols`.\n",
    "- You should only one-hot encode the categorical columns in `low_cardinality_cols`.  All other categorical columns should be dropped from the dataset."
   ]
  },
  {
   "cell_type": "code",
   "execution_count": 21,
   "id": "e7812b87",
   "metadata": {
    "_cell_guid": "6adf769b-0fb6-41fb-ad4f-20b1079ed6ad",
    "_uuid": "d549b896-e2b3-427c-8c72-68693f6dbc6d",
    "collapsed": false,
    "execution": {
     "iopub.execute_input": "2023-12-06T09:04:59.806952Z",
     "iopub.status.busy": "2023-12-06T09:04:59.806538Z",
     "iopub.status.idle": "2023-12-06T09:04:59.861452Z",
     "shell.execute_reply": "2023-12-06T09:04:59.860364Z"
    },
    "jupyter": {
     "outputs_hidden": false
    },
    "papermill": {
     "duration": 0.076884,
     "end_time": "2023-12-06T09:04:59.863908",
     "exception": false,
     "start_time": "2023-12-06T09:04:59.787024",
     "status": "completed"
    },
    "tags": []
   },
   "outputs": [
    {
     "name": "stderr",
     "output_type": "stream",
     "text": [
      "/opt/conda/lib/python3.10/site-packages/sklearn/preprocessing/_encoders.py:868: FutureWarning: `sparse` was renamed to `sparse_output` in version 1.2 and will be removed in 1.4. `sparse_output` is ignored unless you leave `sparse` to its default value.\n",
      "  warnings.warn(\n"
     ]
    },
    {
     "data": {
      "application/javascript": [
       "parent.postMessage({\"jupyterEvent\": \"custom.exercise_interaction\", \"data\": {\"outcomeType\": 1, \"valueTowardsCompletion\": 0.5, \"interactionType\": 1, \"questionType\": 2, \"questionId\": \"4_OneHot\", \"learnToolsVersion\": \"0.3.4\", \"failureMessage\": \"\", \"exceptionClass\": \"\", \"trace\": \"\"}}, \"*\")"
      ],
      "text/plain": [
       "<IPython.core.display.Javascript object>"
      ]
     },
     "metadata": {},
     "output_type": "display_data"
    },
    {
     "data": {
      "text/markdown": [
       "<span style=\"color:#33cc33\">Correct</span>"
      ],
      "text/plain": [
       "Correct"
      ]
     },
     "metadata": {},
     "output_type": "display_data"
    }
   ],
   "source": [
    "from sklearn.preprocessing import OneHotEncoder\n",
    "\n",
    "# Use as many lines of code as you need!\n",
    "OH_encoder = OneHotEncoder(handle_unknown='ignore', sparse=False)\n",
    "OH_X_train = pd.DataFrame(OH_encoder.fit_transform(X_train[low_cardinality_cols])) # Your code here\n",
    "OH_X_valid = pd.DataFrame(OH_encoder.transform(X_valid[low_cardinality_cols])) # Your code here\n",
    "\n",
    "# One-hot encoding removed index; put it back\n",
    "OH_X_train.index = X_train.index\n",
    "OH_X_valid.index = X_valid.index\n",
    "\n",
    "# Remove categorical columns (will replace with one-hot encoding)\n",
    "num_X_train = X_train.drop(object_cols, axis=1)\n",
    "num_X_valid = X_valid.drop(object_cols, axis=1)\n",
    "\n",
    "# Add one-hot encoded columns to numerical features\n",
    "OH_X_train = pd.concat([num_X_train, OH_X_train], axis=1)\n",
    "OH_X_valid = pd.concat([num_X_valid, OH_X_valid], axis=1)\n",
    "\n",
    "# Ensure all columns have string type\n",
    "OH_X_train.columns = OH_X_train.columns.astype(str)\n",
    "OH_X_valid.columns = OH_X_valid.columns.astype(str)\n",
    "\n",
    "# Check your answer\n",
    "step_4.check()"
   ]
  },
  {
   "cell_type": "code",
   "execution_count": 22,
   "id": "fa600987",
   "metadata": {
    "_cell_guid": "88c73b57-fe01-4e21-b3d8-70137049ac66",
    "_uuid": "8b6962ba-d4e0-4411-8d8b-89a012c36a77",
    "collapsed": false,
    "execution": {
     "iopub.execute_input": "2023-12-06T09:04:59.902609Z",
     "iopub.status.busy": "2023-12-06T09:04:59.902152Z",
     "iopub.status.idle": "2023-12-06T09:04:59.910974Z",
     "shell.execute_reply": "2023-12-06T09:04:59.909970Z"
    },
    "jupyter": {
     "outputs_hidden": false
    },
    "papermill": {
     "duration": 0.030958,
     "end_time": "2023-12-06T09:04:59.913393",
     "exception": false,
     "start_time": "2023-12-06T09:04:59.882435",
     "status": "completed"
    },
    "tags": []
   },
   "outputs": [
    {
     "data": {
      "application/javascript": [
       "parent.postMessage({\"jupyterEvent\": \"custom.exercise_interaction\", \"data\": {\"interactionType\": 2, \"questionType\": 2, \"questionId\": \"4_OneHot\", \"learnToolsVersion\": \"0.3.4\", \"valueTowardsCompletion\": 0.0, \"failureMessage\": \"\", \"exceptionClass\": \"\", \"trace\": \"\", \"outcomeType\": 4}}, \"*\")"
      ],
      "text/plain": [
       "<IPython.core.display.Javascript object>"
      ]
     },
     "metadata": {},
     "output_type": "display_data"
    },
    {
     "data": {
      "text/markdown": [
       "<span style=\"color:#3366cc\">Hint:</span> Begin by applying the one-hot encoder to the low cardinality columns in the training and validation data in `X_train[low_cardinality_cols]` and `X_valid[low_cardinality_cols]`, respectively."
      ],
      "text/plain": [
       "Hint: Begin by applying the one-hot encoder to the low cardinality columns in the training and validation data in `X_train[low_cardinality_cols]` and `X_valid[low_cardinality_cols]`, respectively."
      ]
     },
     "metadata": {},
     "output_type": "display_data"
    }
   ],
   "source": [
    "# Lines below will give you a hint or solution code\n",
    "step_4.hint()\n",
    "#step_4.solution()"
   ]
  },
  {
   "cell_type": "markdown",
   "id": "1a79c961",
   "metadata": {
    "_cell_guid": "f46c7ec8-d6b7-4fd8-ba1f-fdc384c678ee",
    "_uuid": "800ae960-7256-4bcd-95eb-f8caf92dd40e",
    "papermill": {
     "duration": 0.018114,
     "end_time": "2023-12-06T09:04:59.950556",
     "exception": false,
     "start_time": "2023-12-06T09:04:59.932442",
     "status": "completed"
    },
    "tags": []
   },
   "source": [
    "Run the next code cell to get the MAE for this approach."
   ]
  },
  {
   "cell_type": "code",
   "execution_count": 23,
   "id": "7bd4d2fd",
   "metadata": {
    "_cell_guid": "f3a69b28-da07-4220-b5b5-429e8f2ef29b",
    "_uuid": "6eb0a800-875b-48b3-a75a-ca3f3930dbf0",
    "collapsed": false,
    "execution": {
     "iopub.execute_input": "2023-12-06T09:04:59.989443Z",
     "iopub.status.busy": "2023-12-06T09:04:59.989028Z",
     "iopub.status.idle": "2023-12-06T09:05:02.058070Z",
     "shell.execute_reply": "2023-12-06T09:05:02.056912Z"
    },
    "jupyter": {
     "outputs_hidden": false
    },
    "papermill": {
     "duration": 2.092035,
     "end_time": "2023-12-06T09:05:02.061292",
     "exception": false,
     "start_time": "2023-12-06T09:04:59.969257",
     "status": "completed"
    },
    "tags": []
   },
   "outputs": [
    {
     "name": "stdout",
     "output_type": "stream",
     "text": [
      "MAE from Approach 3 (One-Hot Encoding):\n",
      "17525.345719178084\n"
     ]
    }
   ],
   "source": [
    "print(\"MAE from Approach 3 (One-Hot Encoding):\") \n",
    "print(score_dataset(OH_X_train, OH_X_valid, y_train, y_valid))"
   ]
  },
  {
   "cell_type": "markdown",
   "id": "08cbebf5",
   "metadata": {
    "_cell_guid": "769668d7-1128-4a77-b363-20750aa8b4f2",
    "_uuid": "f70b86d2-58e8-4503-9efa-c08bd279f7ca",
    "papermill": {
     "duration": 0.018659,
     "end_time": "2023-12-06T09:05:02.100029",
     "exception": false,
     "start_time": "2023-12-06T09:05:02.081370",
     "status": "completed"
    },
    "tags": []
   },
   "source": [
    "# Generate test predictions and submit your results\n",
    "\n",
    "After you complete Step 4, if you'd like to use what you've learned to submit your results to the leaderboard, you'll need to preprocess the test data before generating predictions.\n",
    "\n",
    "**This step is completely optional, and you do not need to submit results to the leaderboard to successfully complete the exercise.**\n",
    "\n",
    "Check out the previous exercise if you need help with remembering how to [join the competition](https://www.kaggle.com/c/home-data-for-ml-course) or save your results to CSV.  Once you have generated a file with your results, follow the instructions below:\n",
    "1. Begin by clicking on the **Save Version** button in the top right corner of the window.  This will generate a pop-up window.  \n",
    "2. Ensure that the **Save and Run All** option is selected, and then click on the **Save** button.\n",
    "3. This generates a window in the bottom left corner of the notebook.  After it has finished running, click on the number to the right of the **Save Version** button.  This pulls up a list of versions on the right of the screen.  Click on the ellipsis **(...)** to the right of the most recent version, and select **Open in Viewer**.  This brings you into view mode of the same page. You will need to scroll down to get back to these instructions.\n",
    "4. Click on the **Data** tab near the top of the screen.  Then, click on the file you would like to submit, and click on the **Submit** button to submit your results to the leaderboard.\n",
    "\n",
    "You have now successfully submitted to the competition!\n",
    "\n",
    "If you want to keep working to improve your performance, select the **Edit** button in the top right of the screen. Then you can change your code and repeat the process. There's a lot of room to improve, and you will climb up the leaderboard as you work."
   ]
  },
  {
   "cell_type": "markdown",
   "id": "dd4669d8",
   "metadata": {
    "_cell_guid": "9b8064ce-a225-4508-bcb9-d56230d04b2b",
    "_uuid": "9f58c168-37c4-4387-80e8-228307fba1bd",
    "papermill": {
     "duration": 0.018471,
     "end_time": "2023-12-06T09:05:02.137329",
     "exception": false,
     "start_time": "2023-12-06T09:05:02.118858",
     "status": "completed"
    },
    "tags": []
   },
   "source": [
    "# Keep going\n",
    "\n",
    "With missing value handling and categorical encoding, your modeling process is getting complex. This complexity gets worse when you want to save your model to use in the future. The key to managing this complexity is something called **pipelines**. \n",
    "\n",
    "**[Learn to use pipelines](https://www.kaggle.com/alexisbcook/pipelines)** to preprocess datasets with categorical variables, missing values and any other messiness your data throws at you."
   ]
  },
  {
   "cell_type": "markdown",
   "id": "7aa33194",
   "metadata": {
    "_cell_guid": "50abf44d-9ade-4136-bbcf-f77b808ac48e",
    "_uuid": "974d2a15-427d-41b2-a0cb-bc8ecf2db139",
    "papermill": {
     "duration": 0.01814,
     "end_time": "2023-12-06T09:05:02.174128",
     "exception": false,
     "start_time": "2023-12-06T09:05:02.155988",
     "status": "completed"
    },
    "tags": []
   },
   "source": [
    "---\n",
    "\n",
    "\n",
    "\n",
    "\n",
    "*Have questions or comments? Visit the [course discussion forum](https://www.kaggle.com/learn/intermediate-machine-learning/discussion) to chat with other learners.*"
   ]
  }
 ],
 "metadata": {
  "kaggle": {
   "accelerator": "none",
   "dataSources": [
    {
     "databundleVersionId": 111096,
     "sourceId": 10211,
     "sourceType": "competition"
    }
   ],
   "isGpuEnabled": false,
   "isInternetEnabled": false,
   "language": "python",
   "sourceType": "notebook"
  },
  "kernelspec": {
   "display_name": "Python 3",
   "language": "python",
   "name": "python3"
  },
  "language_info": {
   "codemirror_mode": {
    "name": "ipython",
    "version": 3
   },
   "file_extension": ".py",
   "mimetype": "text/x-python",
   "name": "python",
   "nbconvert_exporter": "python",
   "pygments_lexer": "ipython3",
   "version": "3.10.12"
  },
  "papermill": {
   "default_parameters": {},
   "duration": 12.768855,
   "end_time": "2023-12-06T09:05:02.713499",
   "environment_variables": {},
   "exception": null,
   "input_path": "__notebook__.ipynb",
   "output_path": "__notebook__.ipynb",
   "parameters": {},
   "start_time": "2023-12-06T09:04:49.944644",
   "version": "2.4.0"
  }
 },
 "nbformat": 4,
 "nbformat_minor": 5
}
