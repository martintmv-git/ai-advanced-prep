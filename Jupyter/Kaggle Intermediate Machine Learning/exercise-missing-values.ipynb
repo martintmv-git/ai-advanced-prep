{
 "cells": [
  {
   "cell_type": "markdown",
   "id": "7b40ae44",
   "metadata": {
    "papermill": {
     "duration": 0.011165,
     "end_time": "2022-06-28T18:10:45.372826",
     "exception": false,
     "start_time": "2022-06-28T18:10:45.361661",
     "status": "completed"
    },
    "tags": []
   },
   "source": [
    "**This notebook is an exercise in the [Intermediate Machine Learning](https://www.kaggle.com/learn/intermediate-machine-learning) course.  You can reference the tutorial at [this link](https://www.kaggle.com/alexisbcook/missing-values).**\n",
    "\n",
    "---\n"
   ]
  },
  {
   "cell_type": "markdown",
   "id": "6a23e936",
   "metadata": {
    "papermill": {
     "duration": 0.009347,
     "end_time": "2022-06-28T18:10:45.392326",
     "exception": false,
     "start_time": "2022-06-28T18:10:45.382979",
     "status": "completed"
    },
    "tags": []
   },
   "source": [
    "Now it's your turn to test your new knowledge of **missing values** handling. You'll probably find it makes a big difference.\n",
    "\n",
    "# Setup\n",
    "\n",
    "The questions will give you feedback on your work. Run the following cell to set up the feedback system."
   ]
  },
  {
   "cell_type": "code",
   "execution_count": 1,
   "id": "f097896f",
   "metadata": {
    "execution": {
     "iopub.execute_input": "2022-06-28T18:10:45.414534Z",
     "iopub.status.busy": "2022-06-28T18:10:45.413634Z",
     "iopub.status.idle": "2022-06-28T18:10:45.484494Z",
     "shell.execute_reply": "2022-06-28T18:10:45.483022Z"
    },
    "papermill": {
     "duration": 0.084934,
     "end_time": "2022-06-28T18:10:45.487116",
     "exception": false,
     "start_time": "2022-06-28T18:10:45.402182",
     "status": "completed"
    },
    "tags": []
   },
   "outputs": [
    {
     "name": "stdout",
     "output_type": "stream",
     "text": [
      "Setup Complete\n"
     ]
    }
   ],
   "source": [
    "# Set up code checking\n",
    "import os\n",
    "if not os.path.exists(\"../input/train.csv\"):\n",
    "    os.symlink(\"../input/home-data-for-ml-course/train.csv\", \"../input/train.csv\")  \n",
    "    os.symlink(\"../input/home-data-for-ml-course/test.csv\", \"../input/test.csv\") \n",
    "from learntools.core import binder\n",
    "binder.bind(globals())\n",
    "from learntools.ml_intermediate.ex2 import *\n",
    "print(\"Setup Complete\")"
   ]
  },
  {
   "cell_type": "markdown",
   "id": "060c3cf6",
   "metadata": {
    "papermill": {
     "duration": 0.009608,
     "end_time": "2022-06-28T18:10:45.509363",
     "exception": false,
     "start_time": "2022-06-28T18:10:45.499755",
     "status": "completed"
    },
    "tags": []
   },
   "source": [
    "In this exercise, you will work with data from the [Housing Prices Competition for Kaggle Learn Users](https://www.kaggle.com/c/home-data-for-ml-course). \n",
    "\n",
    "![Ames Housing dataset image](https://i.imgur.com/lTJVG4e.png)\n",
    "\n",
    "Run the next code cell without changes to load the training and validation sets in `X_train`, `X_valid`, `y_train`, and `y_valid`.  The test set is loaded in `X_test`."
   ]
  },
  {
   "cell_type": "code",
   "execution_count": 2,
   "id": "6a693a4c",
   "metadata": {
    "execution": {
     "iopub.execute_input": "2022-06-28T18:10:45.531490Z",
     "iopub.status.busy": "2022-06-28T18:10:45.530793Z",
     "iopub.status.idle": "2022-06-28T18:10:46.915119Z",
     "shell.execute_reply": "2022-06-28T18:10:46.913776Z"
    },
    "papermill": {
     "duration": 1.398745,
     "end_time": "2022-06-28T18:10:46.917964",
     "exception": false,
     "start_time": "2022-06-28T18:10:45.519219",
     "status": "completed"
    },
    "tags": []
   },
   "outputs": [],
   "source": [
    "import pandas as pd\n",
    "from sklearn.model_selection import train_test_split\n",
    "\n",
    "# Read the data\n",
    "X_full = pd.read_csv('../input/train.csv', index_col='Id')\n",
    "X_test_full = pd.read_csv('../input/test.csv', index_col='Id')\n",
    "\n",
    "# Remove rows with missing target, separate target from predictors\n",
    "X_full.dropna(axis=0, subset=['SalePrice'], inplace=True)\n",
    "y = X_full.SalePrice\n",
    "X_full.drop(['SalePrice'], axis=1, inplace=True)\n",
    "\n",
    "# To keep things simple, we'll use only numerical predictors\n",
    "X = X_full.select_dtypes(exclude=['object'])\n",
    "X_test = X_test_full.select_dtypes(exclude=['object'])\n",
    "\n",
    "# Break off validation set from training data\n",
    "X_train, X_valid, y_train, y_valid = train_test_split(X, y, train_size=0.8, test_size=0.2,\n",
    "                                                      random_state=0)"
   ]
  },
  {
   "cell_type": "markdown",
   "id": "a430ef57",
   "metadata": {
    "papermill": {
     "duration": 0.009735,
     "end_time": "2022-06-28T18:10:46.937723",
     "exception": false,
     "start_time": "2022-06-28T18:10:46.927988",
     "status": "completed"
    },
    "tags": []
   },
   "source": [
    "Use the next code cell to print the first five rows of the data."
   ]
  },
  {
   "cell_type": "code",
   "execution_count": 3,
   "id": "e2a332c5",
   "metadata": {
    "execution": {
     "iopub.execute_input": "2022-06-28T18:10:46.959429Z",
     "iopub.status.busy": "2022-06-28T18:10:46.959034Z",
     "iopub.status.idle": "2022-06-28T18:10:46.989878Z",
     "shell.execute_reply": "2022-06-28T18:10:46.988379Z"
    },
    "papermill": {
     "duration": 0.044837,
     "end_time": "2022-06-28T18:10:46.992717",
     "exception": false,
     "start_time": "2022-06-28T18:10:46.947880",
     "status": "completed"
    },
    "tags": []
   },
   "outputs": [
    {
     "data": {
      "text/html": [
       "<div>\n",
       "<style scoped>\n",
       "    .dataframe tbody tr th:only-of-type {\n",
       "        vertical-align: middle;\n",
       "    }\n",
       "\n",
       "    .dataframe tbody tr th {\n",
       "        vertical-align: top;\n",
       "    }\n",
       "\n",
       "    .dataframe thead th {\n",
       "        text-align: right;\n",
       "    }\n",
       "</style>\n",
       "<table border=\"1\" class=\"dataframe\">\n",
       "  <thead>\n",
       "    <tr style=\"text-align: right;\">\n",
       "      <th></th>\n",
       "      <th>MSSubClass</th>\n",
       "      <th>LotFrontage</th>\n",
       "      <th>LotArea</th>\n",
       "      <th>OverallQual</th>\n",
       "      <th>OverallCond</th>\n",
       "      <th>YearBuilt</th>\n",
       "      <th>YearRemodAdd</th>\n",
       "      <th>MasVnrArea</th>\n",
       "      <th>BsmtFinSF1</th>\n",
       "      <th>BsmtFinSF2</th>\n",
       "      <th>...</th>\n",
       "      <th>GarageArea</th>\n",
       "      <th>WoodDeckSF</th>\n",
       "      <th>OpenPorchSF</th>\n",
       "      <th>EnclosedPorch</th>\n",
       "      <th>3SsnPorch</th>\n",
       "      <th>ScreenPorch</th>\n",
       "      <th>PoolArea</th>\n",
       "      <th>MiscVal</th>\n",
       "      <th>MoSold</th>\n",
       "      <th>YrSold</th>\n",
       "    </tr>\n",
       "    <tr>\n",
       "      <th>Id</th>\n",
       "      <th></th>\n",
       "      <th></th>\n",
       "      <th></th>\n",
       "      <th></th>\n",
       "      <th></th>\n",
       "      <th></th>\n",
       "      <th></th>\n",
       "      <th></th>\n",
       "      <th></th>\n",
       "      <th></th>\n",
       "      <th></th>\n",
       "      <th></th>\n",
       "      <th></th>\n",
       "      <th></th>\n",
       "      <th></th>\n",
       "      <th></th>\n",
       "      <th></th>\n",
       "      <th></th>\n",
       "      <th></th>\n",
       "      <th></th>\n",
       "      <th></th>\n",
       "    </tr>\n",
       "  </thead>\n",
       "  <tbody>\n",
       "    <tr>\n",
       "      <th>619</th>\n",
       "      <td>20</td>\n",
       "      <td>90.0</td>\n",
       "      <td>11694</td>\n",
       "      <td>9</td>\n",
       "      <td>5</td>\n",
       "      <td>2007</td>\n",
       "      <td>2007</td>\n",
       "      <td>452.0</td>\n",
       "      <td>48</td>\n",
       "      <td>0</td>\n",
       "      <td>...</td>\n",
       "      <td>774</td>\n",
       "      <td>0</td>\n",
       "      <td>108</td>\n",
       "      <td>0</td>\n",
       "      <td>0</td>\n",
       "      <td>260</td>\n",
       "      <td>0</td>\n",
       "      <td>0</td>\n",
       "      <td>7</td>\n",
       "      <td>2007</td>\n",
       "    </tr>\n",
       "    <tr>\n",
       "      <th>871</th>\n",
       "      <td>20</td>\n",
       "      <td>60.0</td>\n",
       "      <td>6600</td>\n",
       "      <td>5</td>\n",
       "      <td>5</td>\n",
       "      <td>1962</td>\n",
       "      <td>1962</td>\n",
       "      <td>0.0</td>\n",
       "      <td>0</td>\n",
       "      <td>0</td>\n",
       "      <td>...</td>\n",
       "      <td>308</td>\n",
       "      <td>0</td>\n",
       "      <td>0</td>\n",
       "      <td>0</td>\n",
       "      <td>0</td>\n",
       "      <td>0</td>\n",
       "      <td>0</td>\n",
       "      <td>0</td>\n",
       "      <td>8</td>\n",
       "      <td>2009</td>\n",
       "    </tr>\n",
       "    <tr>\n",
       "      <th>93</th>\n",
       "      <td>30</td>\n",
       "      <td>80.0</td>\n",
       "      <td>13360</td>\n",
       "      <td>5</td>\n",
       "      <td>7</td>\n",
       "      <td>1921</td>\n",
       "      <td>2006</td>\n",
       "      <td>0.0</td>\n",
       "      <td>713</td>\n",
       "      <td>0</td>\n",
       "      <td>...</td>\n",
       "      <td>432</td>\n",
       "      <td>0</td>\n",
       "      <td>0</td>\n",
       "      <td>44</td>\n",
       "      <td>0</td>\n",
       "      <td>0</td>\n",
       "      <td>0</td>\n",
       "      <td>0</td>\n",
       "      <td>8</td>\n",
       "      <td>2009</td>\n",
       "    </tr>\n",
       "    <tr>\n",
       "      <th>818</th>\n",
       "      <td>20</td>\n",
       "      <td>NaN</td>\n",
       "      <td>13265</td>\n",
       "      <td>8</td>\n",
       "      <td>5</td>\n",
       "      <td>2002</td>\n",
       "      <td>2002</td>\n",
       "      <td>148.0</td>\n",
       "      <td>1218</td>\n",
       "      <td>0</td>\n",
       "      <td>...</td>\n",
       "      <td>857</td>\n",
       "      <td>150</td>\n",
       "      <td>59</td>\n",
       "      <td>0</td>\n",
       "      <td>0</td>\n",
       "      <td>0</td>\n",
       "      <td>0</td>\n",
       "      <td>0</td>\n",
       "      <td>7</td>\n",
       "      <td>2008</td>\n",
       "    </tr>\n",
       "    <tr>\n",
       "      <th>303</th>\n",
       "      <td>20</td>\n",
       "      <td>118.0</td>\n",
       "      <td>13704</td>\n",
       "      <td>7</td>\n",
       "      <td>5</td>\n",
       "      <td>2001</td>\n",
       "      <td>2002</td>\n",
       "      <td>150.0</td>\n",
       "      <td>0</td>\n",
       "      <td>0</td>\n",
       "      <td>...</td>\n",
       "      <td>843</td>\n",
       "      <td>468</td>\n",
       "      <td>81</td>\n",
       "      <td>0</td>\n",
       "      <td>0</td>\n",
       "      <td>0</td>\n",
       "      <td>0</td>\n",
       "      <td>0</td>\n",
       "      <td>1</td>\n",
       "      <td>2006</td>\n",
       "    </tr>\n",
       "  </tbody>\n",
       "</table>\n",
       "<p>5 rows × 36 columns</p>\n",
       "</div>"
      ],
      "text/plain": [
       "     MSSubClass  LotFrontage  LotArea  OverallQual  OverallCond  YearBuilt  \\\n",
       "Id                                                                           \n",
       "619          20         90.0    11694            9            5       2007   \n",
       "871          20         60.0     6600            5            5       1962   \n",
       "93           30         80.0    13360            5            7       1921   \n",
       "818          20          NaN    13265            8            5       2002   \n",
       "303          20        118.0    13704            7            5       2001   \n",
       "\n",
       "     YearRemodAdd  MasVnrArea  BsmtFinSF1  BsmtFinSF2  ...  GarageArea  \\\n",
       "Id                                                     ...               \n",
       "619          2007       452.0          48           0  ...         774   \n",
       "871          1962         0.0           0           0  ...         308   \n",
       "93           2006         0.0         713           0  ...         432   \n",
       "818          2002       148.0        1218           0  ...         857   \n",
       "303          2002       150.0           0           0  ...         843   \n",
       "\n",
       "     WoodDeckSF  OpenPorchSF  EnclosedPorch  3SsnPorch  ScreenPorch  PoolArea  \\\n",
       "Id                                                                              \n",
       "619           0          108              0          0          260         0   \n",
       "871           0            0              0          0            0         0   \n",
       "93            0            0             44          0            0         0   \n",
       "818         150           59              0          0            0         0   \n",
       "303         468           81              0          0            0         0   \n",
       "\n",
       "     MiscVal  MoSold  YrSold  \n",
       "Id                            \n",
       "619        0       7    2007  \n",
       "871        0       8    2009  \n",
       "93         0       8    2009  \n",
       "818        0       7    2008  \n",
       "303        0       1    2006  \n",
       "\n",
       "[5 rows x 36 columns]"
      ]
     },
     "execution_count": 3,
     "metadata": {},
     "output_type": "execute_result"
    }
   ],
   "source": [
    "X_train.head()"
   ]
  },
  {
   "cell_type": "markdown",
   "id": "c0c2a4a0",
   "metadata": {
    "papermill": {
     "duration": 0.010477,
     "end_time": "2022-06-28T18:10:47.013789",
     "exception": false,
     "start_time": "2022-06-28T18:10:47.003312",
     "status": "completed"
    },
    "tags": []
   },
   "source": [
    "You can already see a few missing values in the first several rows.  In the next step, you'll obtain a more comprehensive understanding of the missing values in the dataset.\n",
    "\n",
    "# Step 1: Preliminary investigation\n",
    "\n",
    "Run the code cell below without changes."
   ]
  },
  {
   "cell_type": "code",
   "execution_count": 4,
   "id": "83e1b5cc",
   "metadata": {
    "execution": {
     "iopub.execute_input": "2022-06-28T18:10:47.040451Z",
     "iopub.status.busy": "2022-06-28T18:10:47.040067Z",
     "iopub.status.idle": "2022-06-28T18:10:47.050459Z",
     "shell.execute_reply": "2022-06-28T18:10:47.049250Z"
    },
    "papermill": {
     "duration": 0.027447,
     "end_time": "2022-06-28T18:10:47.052655",
     "exception": false,
     "start_time": "2022-06-28T18:10:47.025208",
     "status": "completed"
    },
    "tags": []
   },
   "outputs": [
    {
     "name": "stdout",
     "output_type": "stream",
     "text": [
      "(1168, 36)\n",
      "LotFrontage    212\n",
      "MasVnrArea       6\n",
      "GarageYrBlt     58\n",
      "dtype: int64\n"
     ]
    }
   ],
   "source": [
    "# Shape of training data (num_rows, num_columns)\n",
    "print(X_train.shape)\n",
    "\n",
    "# Number of missing values in each column of training data\n",
    "missing_val_count_by_column = (X_train.isnull().sum())\n",
    "print(missing_val_count_by_column[missing_val_count_by_column > 0])"
   ]
  },
  {
   "cell_type": "markdown",
   "id": "1f78d397",
   "metadata": {
    "papermill": {
     "duration": 0.010382,
     "end_time": "2022-06-28T18:10:47.073479",
     "exception": false,
     "start_time": "2022-06-28T18:10:47.063097",
     "status": "completed"
    },
    "tags": []
   },
   "source": [
    "### Part A\n",
    "\n",
    "Use the above output to answer the questions below."
   ]
  },
  {
   "cell_type": "code",
   "execution_count": 5,
   "id": "2c73fc3d",
   "metadata": {
    "execution": {
     "iopub.execute_input": "2022-06-28T18:10:47.096150Z",
     "iopub.status.busy": "2022-06-28T18:10:47.095778Z",
     "iopub.status.idle": "2022-06-28T18:10:47.105637Z",
     "shell.execute_reply": "2022-06-28T18:10:47.104487Z"
    },
    "papermill": {
     "duration": 0.023791,
     "end_time": "2022-06-28T18:10:47.107852",
     "exception": false,
     "start_time": "2022-06-28T18:10:47.084061",
     "status": "completed"
    },
    "tags": []
   },
   "outputs": [
    {
     "data": {
      "application/javascript": [
       "parent.postMessage({\"jupyterEvent\": \"custom.exercise_interaction\", \"data\": {\"outcomeType\": 1, \"valueTowardsCompletion\": 1.0, \"interactionType\": 1, \"questionType\": 1, \"questionId\": \"1.1_InvestigateEquality\", \"learnToolsVersion\": \"0.3.4\", \"failureMessage\": \"\", \"exceptionClass\": \"\", \"trace\": \"\"}}, \"*\")"
      ],
      "text/plain": [
       "<IPython.core.display.Javascript object>"
      ]
     },
     "metadata": {},
     "output_type": "display_data"
    },
    {
     "data": {
      "text/markdown": [
       "<span style=\"color:#33cc33\">Correct</span>"
      ],
      "text/plain": [
       "Correct"
      ]
     },
     "metadata": {},
     "output_type": "display_data"
    }
   ],
   "source": [
    "# Fill in the line below: How many rows are in the training data?\n",
    "num_rows = 1168\n",
    "\n",
    "# Fill in the line below: How many columns in the training data\n",
    "# have missing values?\n",
    "num_cols_with_missing = 3\n",
    "\n",
    "# Fill in the line below: How many missing entries are contained in \n",
    "# all of the training data?\n",
    "tot_missing = 212+6+58\n",
    "\n",
    "# Check your answers\n",
    "step_1.a.check()"
   ]
  },
  {
   "cell_type": "code",
   "execution_count": 6,
   "id": "4d861977",
   "metadata": {
    "execution": {
     "iopub.execute_input": "2022-06-28T18:10:47.130726Z",
     "iopub.status.busy": "2022-06-28T18:10:47.130334Z",
     "iopub.status.idle": "2022-06-28T18:10:47.135263Z",
     "shell.execute_reply": "2022-06-28T18:10:47.133908Z"
    },
    "papermill": {
     "duration": 0.019055,
     "end_time": "2022-06-28T18:10:47.137614",
     "exception": false,
     "start_time": "2022-06-28T18:10:47.118559",
     "status": "completed"
    },
    "tags": []
   },
   "outputs": [],
   "source": [
    "# Lines below will give you a hint or solution code\n",
    "#step_1.a.hint()\n",
    "#step_1.a.solution()"
   ]
  },
  {
   "cell_type": "markdown",
   "id": "46de5cf7",
   "metadata": {
    "papermill": {
     "duration": 0.010353,
     "end_time": "2022-06-28T18:10:47.158765",
     "exception": false,
     "start_time": "2022-06-28T18:10:47.148412",
     "status": "completed"
    },
    "tags": []
   },
   "source": [
    "### Part B\n",
    "Considering your answers above, what do you think is likely the best approach to dealing with the missing values?"
   ]
  },
  {
   "cell_type": "code",
   "execution_count": 7,
   "id": "df60f746",
   "metadata": {
    "execution": {
     "iopub.execute_input": "2022-06-28T18:10:47.182065Z",
     "iopub.status.busy": "2022-06-28T18:10:47.181667Z",
     "iopub.status.idle": "2022-06-28T18:10:47.189584Z",
     "shell.execute_reply": "2022-06-28T18:10:47.188500Z"
    },
    "papermill": {
     "duration": 0.022716,
     "end_time": "2022-06-28T18:10:47.192093",
     "exception": false,
     "start_time": "2022-06-28T18:10:47.169377",
     "status": "completed"
    },
    "tags": []
   },
   "outputs": [
    {
     "data": {
      "application/javascript": [
       "parent.postMessage({\"jupyterEvent\": \"custom.exercise_interaction\", \"data\": {\"outcomeType\": 1, \"valueTowardsCompletion\": 1.0, \"interactionType\": 1, \"questionType\": 4, \"questionId\": \"1.2_InvestigateThought\", \"learnToolsVersion\": \"0.3.4\", \"failureMessage\": \"\", \"exceptionClass\": \"\", \"trace\": \"\"}}, \"*\")"
      ],
      "text/plain": [
       "<IPython.core.display.Javascript object>"
      ]
     },
     "metadata": {},
     "output_type": "display_data"
    },
    {
     "data": {
      "text/markdown": [
       "<span style=\"color:#33cc33\">Correct:</span> \n",
       "\n",
       "Since there are relatively few missing entries in the data (the column with the greatest percentage of missing values is missing less than 20% of its entries), we can expect that dropping columns is unlikely to yield good results.  This is because we'd be throwing away a lot of valuable data, and so imputation will likely perform better."
      ],
      "text/plain": [
       "Correct: \n",
       "\n",
       "Since there are relatively few missing entries in the data (the column with the greatest percentage of missing values is missing less than 20% of its entries), we can expect that dropping columns is unlikely to yield good results.  This is because we'd be throwing away a lot of valuable data, and so imputation will likely perform better."
      ]
     },
     "metadata": {},
     "output_type": "display_data"
    }
   ],
   "source": [
    "# Check your answer (Run this code cell to receive credit!)\n",
    "step_1.b.check()"
   ]
  },
  {
   "cell_type": "code",
   "execution_count": 8,
   "id": "489d9134",
   "metadata": {
    "execution": {
     "iopub.execute_input": "2022-06-28T18:10:47.215944Z",
     "iopub.status.busy": "2022-06-28T18:10:47.215563Z",
     "iopub.status.idle": "2022-06-28T18:10:47.219595Z",
     "shell.execute_reply": "2022-06-28T18:10:47.218757Z"
    },
    "papermill": {
     "duration": 0.018538,
     "end_time": "2022-06-28T18:10:47.221859",
     "exception": false,
     "start_time": "2022-06-28T18:10:47.203321",
     "status": "completed"
    },
    "tags": []
   },
   "outputs": [],
   "source": [
    "#step_1.b.hint()"
   ]
  },
  {
   "cell_type": "markdown",
   "id": "7a0ed43e",
   "metadata": {
    "papermill": {
     "duration": 0.011421,
     "end_time": "2022-06-28T18:10:47.244427",
     "exception": false,
     "start_time": "2022-06-28T18:10:47.233006",
     "status": "completed"
    },
    "tags": []
   },
   "source": [
    "To compare different approaches to dealing with missing values, you'll use the same `score_dataset()` function from the tutorial.  This function reports the [mean absolute error](https://en.wikipedia.org/wiki/Mean_absolute_error) (MAE) from a random forest model."
   ]
  },
  {
   "cell_type": "code",
   "execution_count": 9,
   "id": "bdf32455",
   "metadata": {
    "execution": {
     "iopub.execute_input": "2022-06-28T18:10:47.269549Z",
     "iopub.status.busy": "2022-06-28T18:10:47.268878Z",
     "iopub.status.idle": "2022-06-28T18:10:47.524123Z",
     "shell.execute_reply": "2022-06-28T18:10:47.522866Z"
    },
    "papermill": {
     "duration": 0.270765,
     "end_time": "2022-06-28T18:10:47.526802",
     "exception": false,
     "start_time": "2022-06-28T18:10:47.256037",
     "status": "completed"
    },
    "tags": []
   },
   "outputs": [],
   "source": [
    "from sklearn.ensemble import RandomForestRegressor\n",
    "from sklearn.metrics import mean_absolute_error\n",
    "\n",
    "# Function for comparing different approaches\n",
    "def score_dataset(X_train, X_valid, y_train, y_valid):\n",
    "    model = RandomForestRegressor(n_estimators=100, random_state=0)\n",
    "    model.fit(X_train, y_train)\n",
    "    preds = model.predict(X_valid)\n",
    "    return mean_absolute_error(y_valid, preds)"
   ]
  },
  {
   "cell_type": "markdown",
   "id": "f831dcef",
   "metadata": {
    "papermill": {
     "duration": 0.010713,
     "end_time": "2022-06-28T18:10:47.548759",
     "exception": false,
     "start_time": "2022-06-28T18:10:47.538046",
     "status": "completed"
    },
    "tags": []
   },
   "source": [
    "# Step 2: Drop columns with missing values\n",
    "\n",
    "In this step, you'll preprocess the data in `X_train` and `X_valid` to remove columns with missing values.  Set the preprocessed DataFrames to `reduced_X_train` and `reduced_X_valid`, respectively.  "
   ]
  },
  {
   "cell_type": "code",
   "execution_count": 10,
   "id": "f72809ae",
   "metadata": {
    "execution": {
     "iopub.execute_input": "2022-06-28T18:10:47.572812Z",
     "iopub.status.busy": "2022-06-28T18:10:47.572394Z",
     "iopub.status.idle": "2022-06-28T18:10:47.606907Z",
     "shell.execute_reply": "2022-06-28T18:10:47.606034Z"
    },
    "papermill": {
     "duration": 0.048991,
     "end_time": "2022-06-28T18:10:47.609135",
     "exception": false,
     "start_time": "2022-06-28T18:10:47.560144",
     "status": "completed"
    },
    "tags": []
   },
   "outputs": [
    {
     "data": {
      "application/javascript": [
       "parent.postMessage({\"jupyterEvent\": \"custom.exercise_interaction\", \"data\": {\"outcomeType\": 1, \"valueTowardsCompletion\": 1.0, \"interactionType\": 1, \"questionType\": 2, \"questionId\": \"2_DropMissing\", \"learnToolsVersion\": \"0.3.4\", \"failureMessage\": \"\", \"exceptionClass\": \"\", \"trace\": \"\"}}, \"*\")"
      ],
      "text/plain": [
       "<IPython.core.display.Javascript object>"
      ]
     },
     "metadata": {},
     "output_type": "display_data"
    },
    {
     "data": {
      "text/markdown": [
       "<span style=\"color:#33cc33\">Correct</span>"
      ],
      "text/plain": [
       "Correct"
      ]
     },
     "metadata": {},
     "output_type": "display_data"
    }
   ],
   "source": [
    "# Get names of columns with missing values\n",
    "cols_with_missing = [col for col in X_train.columns\n",
    "                     if X_train[col].isnull().any()]\n",
    "\n",
    "# Drop columns in training and validation data\n",
    "reduced_X_train = X_train.drop(cols_with_missing, axis=1)\n",
    "reduced_X_valid = X_valid.drop(cols_with_missing, axis=1)\n",
    "\n",
    "# Check your answers\n",
    "step_2.check()"
   ]
  },
  {
   "cell_type": "code",
   "execution_count": 11,
   "id": "e8eaffe5",
   "metadata": {
    "execution": {
     "iopub.execute_input": "2022-06-28T18:10:47.633130Z",
     "iopub.status.busy": "2022-06-28T18:10:47.632713Z",
     "iopub.status.idle": "2022-06-28T18:10:47.637619Z",
     "shell.execute_reply": "2022-06-28T18:10:47.636437Z"
    },
    "papermill": {
     "duration": 0.019334,
     "end_time": "2022-06-28T18:10:47.639743",
     "exception": false,
     "start_time": "2022-06-28T18:10:47.620409",
     "status": "completed"
    },
    "tags": []
   },
   "outputs": [],
   "source": [
    "# Lines below will give you a hint or solution code\n",
    "#step_2.hint()\n",
    "#step_2.solution()"
   ]
  },
  {
   "cell_type": "markdown",
   "id": "f0926414",
   "metadata": {
    "papermill": {
     "duration": 0.010787,
     "end_time": "2022-06-28T18:10:47.662160",
     "exception": false,
     "start_time": "2022-06-28T18:10:47.651373",
     "status": "completed"
    },
    "tags": []
   },
   "source": [
    "Run the next code cell without changes to obtain the MAE for this approach."
   ]
  },
  {
   "cell_type": "code",
   "execution_count": 12,
   "id": "98c0a5ce",
   "metadata": {
    "execution": {
     "iopub.execute_input": "2022-06-28T18:10:47.686101Z",
     "iopub.status.busy": "2022-06-28T18:10:47.685695Z",
     "iopub.status.idle": "2022-06-28T18:10:48.829364Z",
     "shell.execute_reply": "2022-06-28T18:10:48.827754Z"
    },
    "papermill": {
     "duration": 1.15861,
     "end_time": "2022-06-28T18:10:48.831964",
     "exception": false,
     "start_time": "2022-06-28T18:10:47.673354",
     "status": "completed"
    },
    "tags": []
   },
   "outputs": [
    {
     "name": "stdout",
     "output_type": "stream",
     "text": [
      "MAE (Drop columns with missing values):\n",
      "17837.82570776256\n"
     ]
    }
   ],
   "source": [
    "print(\"MAE (Drop columns with missing values):\")\n",
    "print(score_dataset(reduced_X_train, reduced_X_valid, y_train, y_valid))"
   ]
  },
  {
   "cell_type": "markdown",
   "id": "879e7719",
   "metadata": {
    "papermill": {
     "duration": 0.0111,
     "end_time": "2022-06-28T18:10:48.854463",
     "exception": false,
     "start_time": "2022-06-28T18:10:48.843363",
     "status": "completed"
    },
    "tags": []
   },
   "source": [
    "# Step 3: Imputation\n",
    "\n",
    "### Part A\n",
    "\n",
    "Use the next code cell to impute missing values with the mean value along each column.  Set the preprocessed DataFrames to `imputed_X_train` and `imputed_X_valid`.  Make sure that the column names match those in `X_train` and `X_valid`."
   ]
  },
  {
   "cell_type": "code",
   "execution_count": 13,
   "id": "d2530393",
   "metadata": {
    "execution": {
     "iopub.execute_input": "2022-06-28T18:10:48.879782Z",
     "iopub.status.busy": "2022-06-28T18:10:48.878901Z",
     "iopub.status.idle": "2022-06-28T18:10:48.916123Z",
     "shell.execute_reply": "2022-06-28T18:10:48.914977Z"
    },
    "papermill": {
     "duration": 0.052955,
     "end_time": "2022-06-28T18:10:48.919001",
     "exception": false,
     "start_time": "2022-06-28T18:10:48.866046",
     "status": "completed"
    },
    "tags": []
   },
   "outputs": [
    {
     "data": {
      "application/javascript": [
       "parent.postMessage({\"jupyterEvent\": \"custom.exercise_interaction\", \"data\": {\"outcomeType\": 1, \"valueTowardsCompletion\": 1.0, \"interactionType\": 1, \"questionType\": 2, \"questionId\": \"3.1_ImputeCode\", \"learnToolsVersion\": \"0.3.4\", \"failureMessage\": \"\", \"exceptionClass\": \"\", \"trace\": \"\"}}, \"*\")"
      ],
      "text/plain": [
       "<IPython.core.display.Javascript object>"
      ]
     },
     "metadata": {},
     "output_type": "display_data"
    },
    {
     "data": {
      "text/markdown": [
       "<span style=\"color:#33cc33\">Correct</span>"
      ],
      "text/plain": [
       "Correct"
      ]
     },
     "metadata": {},
     "output_type": "display_data"
    }
   ],
   "source": [
    "from sklearn.impute import SimpleImputer\n",
    "\n",
    "# Imputation\n",
    "my_imputer = SimpleImputer()\n",
    "imputed_X_train = pd.DataFrame(my_imputer.fit_transform(X_train))\n",
    "imputed_X_valid = pd.DataFrame(my_imputer.transform(X_valid))\n",
    "\n",
    "# Imputation removed column names; put them back\n",
    "imputed_X_train.columns = X_train.columns\n",
    "imputed_X_valid.columns = X_valid.columns\n",
    "# Check your answers\n",
    "step_3.a.check()"
   ]
  },
  {
   "cell_type": "code",
   "execution_count": 14,
   "id": "a73b15f4",
   "metadata": {
    "execution": {
     "iopub.execute_input": "2022-06-28T18:10:48.944439Z",
     "iopub.status.busy": "2022-06-28T18:10:48.943813Z",
     "iopub.status.idle": "2022-06-28T18:10:48.948640Z",
     "shell.execute_reply": "2022-06-28T18:10:48.947635Z"
    },
    "papermill": {
     "duration": 0.020517,
     "end_time": "2022-06-28T18:10:48.951141",
     "exception": false,
     "start_time": "2022-06-28T18:10:48.930624",
     "status": "completed"
    },
    "tags": []
   },
   "outputs": [],
   "source": [
    "# Lines below will give you a hint or solution code\n",
    "#step_3.a.hint()\n",
    "#step_3.a.solution()"
   ]
  },
  {
   "cell_type": "markdown",
   "id": "30ae7a2f",
   "metadata": {
    "papermill": {
     "duration": 0.011458,
     "end_time": "2022-06-28T18:10:48.974484",
     "exception": false,
     "start_time": "2022-06-28T18:10:48.963026",
     "status": "completed"
    },
    "tags": []
   },
   "source": [
    "Run the next code cell without changes to obtain the MAE for this approach."
   ]
  },
  {
   "cell_type": "code",
   "execution_count": 15,
   "id": "bc8ccaa2",
   "metadata": {
    "execution": {
     "iopub.execute_input": "2022-06-28T18:10:48.999744Z",
     "iopub.status.busy": "2022-06-28T18:10:48.999131Z",
     "iopub.status.idle": "2022-06-28T18:10:50.253314Z",
     "shell.execute_reply": "2022-06-28T18:10:50.251988Z"
    },
    "papermill": {
     "duration": 1.270882,
     "end_time": "2022-06-28T18:10:50.256982",
     "exception": false,
     "start_time": "2022-06-28T18:10:48.986100",
     "status": "completed"
    },
    "tags": []
   },
   "outputs": [
    {
     "name": "stdout",
     "output_type": "stream",
     "text": [
      "MAE (Imputation):\n",
      "18062.894611872147\n"
     ]
    }
   ],
   "source": [
    "print(\"MAE (Imputation):\")\n",
    "print(score_dataset(imputed_X_train, imputed_X_valid, y_train, y_valid))"
   ]
  },
  {
   "cell_type": "markdown",
   "id": "844563c1",
   "metadata": {
    "papermill": {
     "duration": 0.011856,
     "end_time": "2022-06-28T18:10:50.281405",
     "exception": false,
     "start_time": "2022-06-28T18:10:50.269549",
     "status": "completed"
    },
    "tags": []
   },
   "source": [
    "### Part B\n",
    "\n",
    "Compare the MAE from each approach.  Does anything surprise you about the results?  Why do you think one approach performed better than the other?"
   ]
  },
  {
   "cell_type": "code",
   "execution_count": 16,
   "id": "b0cee981",
   "metadata": {
    "execution": {
     "iopub.execute_input": "2022-06-28T18:10:50.307170Z",
     "iopub.status.busy": "2022-06-28T18:10:50.306523Z",
     "iopub.status.idle": "2022-06-28T18:10:50.315412Z",
     "shell.execute_reply": "2022-06-28T18:10:50.314145Z"
    },
    "papermill": {
     "duration": 0.024621,
     "end_time": "2022-06-28T18:10:50.317870",
     "exception": false,
     "start_time": "2022-06-28T18:10:50.293249",
     "status": "completed"
    },
    "tags": []
   },
   "outputs": [
    {
     "data": {
      "application/javascript": [
       "parent.postMessage({\"jupyterEvent\": \"custom.exercise_interaction\", \"data\": {\"outcomeType\": 1, \"valueTowardsCompletion\": 1.0, \"interactionType\": 1, \"questionType\": 4, \"questionId\": \"3.2_ImputeThought\", \"learnToolsVersion\": \"0.3.4\", \"failureMessage\": \"\", \"exceptionClass\": \"\", \"trace\": \"\"}}, \"*\")"
      ],
      "text/plain": [
       "<IPython.core.display.Javascript object>"
      ]
     },
     "metadata": {},
     "output_type": "display_data"
    },
    {
     "data": {
      "text/markdown": [
       "<span style=\"color:#33cc33\">Correct:</span> \n",
       "\n",
       "Given that thre are so few missing values in the dataset, we'd expect imputation to perform better than dropping columns entirely.  However, we see that dropping columns performs slightly better!  While this can probably partially be attributed to noise in the dataset, another potential explanation is that the imputation method is not a great match to this dataset.  That is, maybe instead of filling in the mean value, it makes more sense to set every missing value to a value of 0, to fill in the most frequently encountered value, or to use some other method.  For instance, consider the `GarageYrBlt` column (which indicates the year that the garage was built).  It's likely that in some cases, a missing value could indicate a house that does not have a garage.  Does it make more sense to fill in the median value along each column in this case?  Or could we get better results by filling in the minimum value along each column?  It's not quite clear what's best in this case, but perhaps we can rule out some options immediately - for instance, setting missing values in this column to 0 is likely to yield horrible results!"
      ],
      "text/plain": [
       "Correct: \n",
       "\n",
       "Given that thre are so few missing values in the dataset, we'd expect imputation to perform better than dropping columns entirely.  However, we see that dropping columns performs slightly better!  While this can probably partially be attributed to noise in the dataset, another potential explanation is that the imputation method is not a great match to this dataset.  That is, maybe instead of filling in the mean value, it makes more sense to set every missing value to a value of 0, to fill in the most frequently encountered value, or to use some other method.  For instance, consider the `GarageYrBlt` column (which indicates the year that the garage was built).  It's likely that in some cases, a missing value could indicate a house that does not have a garage.  Does it make more sense to fill in the median value along each column in this case?  Or could we get better results by filling in the minimum value along each column?  It's not quite clear what's best in this case, but perhaps we can rule out some options immediately - for instance, setting missing values in this column to 0 is likely to yield horrible results!"
      ]
     },
     "metadata": {},
     "output_type": "display_data"
    }
   ],
   "source": [
    "# Check your answer (Run this code cell to receive credit!)\n",
    "step_3.b.check()"
   ]
  },
  {
   "cell_type": "code",
   "execution_count": 17,
   "id": "9541eac3",
   "metadata": {
    "execution": {
     "iopub.execute_input": "2022-06-28T18:10:50.346529Z",
     "iopub.status.busy": "2022-06-28T18:10:50.345304Z",
     "iopub.status.idle": "2022-06-28T18:10:50.350926Z",
     "shell.execute_reply": "2022-06-28T18:10:50.349722Z"
    },
    "papermill": {
     "duration": 0.022307,
     "end_time": "2022-06-28T18:10:50.353353",
     "exception": false,
     "start_time": "2022-06-28T18:10:50.331046",
     "status": "completed"
    },
    "tags": []
   },
   "outputs": [],
   "source": [
    "#step_3.b.hint()"
   ]
  },
  {
   "cell_type": "markdown",
   "id": "c6e3faa2",
   "metadata": {
    "papermill": {
     "duration": 0.012183,
     "end_time": "2022-06-28T18:10:50.377755",
     "exception": false,
     "start_time": "2022-06-28T18:10:50.365572",
     "status": "completed"
    },
    "tags": []
   },
   "source": [
    "# Step 4: Generate test predictions\n",
    "\n",
    "In this final step, you'll use any approach of your choosing to deal with missing values.  Once you've preprocessed the training and validation features, you'll train and evaluate a random forest model.  Then, you'll preprocess the test data before generating predictions that can be submitted to the competition!\n",
    "\n",
    "### Part A\n",
    "\n",
    "Use the next code cell to preprocess the training and validation data.  Set the preprocessed DataFrames to `final_X_train` and `final_X_valid`.  **You can use any approach of your choosing here!**  in order for this step to be marked as correct, you need only ensure:\n",
    "- the preprocessed DataFrames have the same number of columns,\n",
    "- the preprocessed DataFrames have no missing values, \n",
    "- `final_X_train` and `y_train` have the same number of rows, and\n",
    "- `final_X_valid` and `y_valid` have the same number of rows."
   ]
  },
  {
   "cell_type": "code",
   "execution_count": 18,
   "id": "0b434ea4",
   "metadata": {
    "execution": {
     "iopub.execute_input": "2022-06-28T18:10:50.403709Z",
     "iopub.status.busy": "2022-06-28T18:10:50.403322Z",
     "iopub.status.idle": "2022-06-28T18:10:50.436824Z",
     "shell.execute_reply": "2022-06-28T18:10:50.435545Z"
    },
    "papermill": {
     "duration": 0.049127,
     "end_time": "2022-06-28T18:10:50.439169",
     "exception": false,
     "start_time": "2022-06-28T18:10:50.390042",
     "status": "completed"
    },
    "tags": []
   },
   "outputs": [
    {
     "data": {
      "application/javascript": [
       "parent.postMessage({\"jupyterEvent\": \"custom.exercise_interaction\", \"data\": {\"outcomeType\": 1, \"valueTowardsCompletion\": 1.0, \"interactionType\": 1, \"questionType\": 2, \"questionId\": \"4.1_PredsCodeA\", \"learnToolsVersion\": \"0.3.4\", \"failureMessage\": \"\", \"exceptionClass\": \"\", \"trace\": \"\"}}, \"*\")"
      ],
      "text/plain": [
       "<IPython.core.display.Javascript object>"
      ]
     },
     "metadata": {},
     "output_type": "display_data"
    },
    {
     "data": {
      "text/markdown": [
       "<span style=\"color:#33cc33\">Correct</span>"
      ],
      "text/plain": [
       "Correct"
      ]
     },
     "metadata": {},
     "output_type": "display_data"
    }
   ],
   "source": [
    "# Preprocessed training and validation features\n",
    "# Imputation\n",
    "final_imputer = SimpleImputer(strategy='median')\n",
    "final_X_train = pd.DataFrame(final_imputer.fit_transform(X_train))\n",
    "final_X_valid = pd.DataFrame(final_imputer.transform(X_valid))\n",
    "\n",
    "# Imputation removed column names; put them back\n",
    "final_X_train.columns = X_train.columns\n",
    "final_X_valid.columns = X_valid.columns\n",
    "\n",
    "# Check your answers\n",
    "step_4.a.check()"
   ]
  },
  {
   "cell_type": "code",
   "execution_count": 19,
   "id": "f189bf9c",
   "metadata": {
    "execution": {
     "iopub.execute_input": "2022-06-28T18:10:50.466100Z",
     "iopub.status.busy": "2022-06-28T18:10:50.465729Z",
     "iopub.status.idle": "2022-06-28T18:10:50.469594Z",
     "shell.execute_reply": "2022-06-28T18:10:50.468759Z"
    },
    "papermill": {
     "duration": 0.020266,
     "end_time": "2022-06-28T18:10:50.471662",
     "exception": false,
     "start_time": "2022-06-28T18:10:50.451396",
     "status": "completed"
    },
    "tags": []
   },
   "outputs": [],
   "source": [
    "# Lines below will give you a hint or solution code\n",
    "#step_4.a.hint()\n",
    "#step_4.a.solution()"
   ]
  },
  {
   "cell_type": "markdown",
   "id": "42f5f78c",
   "metadata": {
    "papermill": {
     "duration": 0.012515,
     "end_time": "2022-06-28T18:10:50.496736",
     "exception": false,
     "start_time": "2022-06-28T18:10:50.484221",
     "status": "completed"
    },
    "tags": []
   },
   "source": [
    "Run the next code cell to train and evaluate a random forest model.  (*Note that we don't use the `score_dataset()` function above, because we will soon use the trained model to generate test predictions!*)"
   ]
  },
  {
   "cell_type": "code",
   "execution_count": 20,
   "id": "19af22dd",
   "metadata": {
    "execution": {
     "iopub.execute_input": "2022-06-28T18:10:50.522969Z",
     "iopub.status.busy": "2022-06-28T18:10:50.522570Z",
     "iopub.status.idle": "2022-06-28T18:10:51.767286Z",
     "shell.execute_reply": "2022-06-28T18:10:51.765651Z"
    },
    "papermill": {
     "duration": 1.261457,
     "end_time": "2022-06-28T18:10:51.770639",
     "exception": false,
     "start_time": "2022-06-28T18:10:50.509182",
     "status": "completed"
    },
    "tags": []
   },
   "outputs": [
    {
     "name": "stdout",
     "output_type": "stream",
     "text": [
      "MAE (Your approach):\n",
      "17791.59899543379\n"
     ]
    }
   ],
   "source": [
    "# Define and fit model\n",
    "model = RandomForestRegressor(n_estimators=100, random_state=0)\n",
    "model.fit(final_X_train, y_train)\n",
    "\n",
    "# Get validation predictions and MAE\n",
    "preds_valid = model.predict(final_X_valid)\n",
    "print(\"MAE (Your approach):\")\n",
    "print(mean_absolute_error(y_valid, preds_valid))"
   ]
  },
  {
   "cell_type": "markdown",
   "id": "1ee524b5",
   "metadata": {
    "papermill": {
     "duration": 0.011944,
     "end_time": "2022-06-28T18:10:51.795486",
     "exception": false,
     "start_time": "2022-06-28T18:10:51.783542",
     "status": "completed"
    },
    "tags": []
   },
   "source": [
    "### Part B\n",
    "\n",
    "Use the next code cell to preprocess your test data.  Make sure that you use a method that agrees with how you preprocessed the training and validation data, and set the preprocessed test features to `final_X_test`.\n",
    "\n",
    "Then, use the preprocessed test features and the trained model to generate test predictions in `preds_test`.\n",
    "\n",
    "In order for this step to be marked correct, you need only ensure:\n",
    "- the preprocessed test DataFrame has no missing values, and\n",
    "- `final_X_test` has the same number of rows as `X_test`."
   ]
  },
  {
   "cell_type": "code",
   "execution_count": 21,
   "id": "6551d0b0",
   "metadata": {
    "execution": {
     "iopub.execute_input": "2022-06-28T18:10:51.822239Z",
     "iopub.status.busy": "2022-06-28T18:10:51.821871Z",
     "iopub.status.idle": "2022-06-28T18:10:51.882735Z",
     "shell.execute_reply": "2022-06-28T18:10:51.881186Z"
    },
    "papermill": {
     "duration": 0.077791,
     "end_time": "2022-06-28T18:10:51.885935",
     "exception": false,
     "start_time": "2022-06-28T18:10:51.808144",
     "status": "completed"
    },
    "tags": []
   },
   "outputs": [
    {
     "name": "stderr",
     "output_type": "stream",
     "text": [
      "/opt/conda/lib/python3.7/site-packages/sklearn/base.py:451: UserWarning: X does not have valid feature names, but RandomForestRegressor was fitted with feature names\n",
      "  \"X does not have valid feature names, but\"\n"
     ]
    },
    {
     "data": {
      "application/javascript": [
       "parent.postMessage({\"jupyterEvent\": \"custom.exercise_interaction\", \"data\": {\"outcomeType\": 1, \"valueTowardsCompletion\": 1.0, \"interactionType\": 1, \"questionType\": 2, \"questionId\": \"4.2_PredsCodeB\", \"learnToolsVersion\": \"0.3.4\", \"failureMessage\": \"\", \"exceptionClass\": \"\", \"trace\": \"\"}}, \"*\")"
      ],
      "text/plain": [
       "<IPython.core.display.Javascript object>"
      ]
     },
     "metadata": {},
     "output_type": "display_data"
    },
    {
     "data": {
      "text/markdown": [
       "<span style=\"color:#33cc33\">Correct</span>"
      ],
      "text/plain": [
       "Correct"
      ]
     },
     "metadata": {},
     "output_type": "display_data"
    }
   ],
   "source": [
    "# Preprocess test data\n",
    "final_X_test = pd.DataFrame(final_imputer.transform(X_test))\n",
    "\n",
    "# Get test predictions\n",
    "preds_test = model.predict(final_X_test)\n",
    "\n",
    "# Check your answers\n",
    "step_4.b.check()"
   ]
  },
  {
   "cell_type": "code",
   "execution_count": 22,
   "id": "8f442a70",
   "metadata": {
    "execution": {
     "iopub.execute_input": "2022-06-28T18:10:51.915217Z",
     "iopub.status.busy": "2022-06-28T18:10:51.914553Z",
     "iopub.status.idle": "2022-06-28T18:10:51.919263Z",
     "shell.execute_reply": "2022-06-28T18:10:51.918166Z"
    },
    "papermill": {
     "duration": 0.021844,
     "end_time": "2022-06-28T18:10:51.921348",
     "exception": false,
     "start_time": "2022-06-28T18:10:51.899504",
     "status": "completed"
    },
    "tags": []
   },
   "outputs": [],
   "source": [
    "# Lines below will give you a hint or solution code\n",
    "#step_4.b.hint()\n",
    "#step_4.b.solution()"
   ]
  },
  {
   "cell_type": "markdown",
   "id": "599ef5b3",
   "metadata": {
    "papermill": {
     "duration": 0.012516,
     "end_time": "2022-06-28T18:10:51.947138",
     "exception": false,
     "start_time": "2022-06-28T18:10:51.934622",
     "status": "completed"
    },
    "tags": []
   },
   "source": [
    "Run the next code cell without changes to save your results to a CSV file that can be submitted directly to the competition."
   ]
  },
  {
   "cell_type": "code",
   "execution_count": 23,
   "id": "dafd73e5",
   "metadata": {
    "execution": {
     "iopub.execute_input": "2022-06-28T18:10:51.975180Z",
     "iopub.status.busy": "2022-06-28T18:10:51.974772Z",
     "iopub.status.idle": "2022-06-28T18:10:51.988105Z",
     "shell.execute_reply": "2022-06-28T18:10:51.987202Z"
    },
    "papermill": {
     "duration": 0.030039,
     "end_time": "2022-06-28T18:10:51.990366",
     "exception": false,
     "start_time": "2022-06-28T18:10:51.960327",
     "status": "completed"
    },
    "tags": []
   },
   "outputs": [],
   "source": [
    "# Save test predictions to file\n",
    "output = pd.DataFrame({'Id': X_test.index,\n",
    "                       'SalePrice': preds_test})\n",
    "output.to_csv('submission.csv', index=False)"
   ]
  },
  {
   "cell_type": "markdown",
   "id": "176f13c4",
   "metadata": {
    "papermill": {
     "duration": 0.012629,
     "end_time": "2022-06-28T18:10:52.016051",
     "exception": false,
     "start_time": "2022-06-28T18:10:52.003422",
     "status": "completed"
    },
    "tags": []
   },
   "source": [
    "# Submit your results\n",
    "\n",
    "Once you have successfully completed Step 4, you're ready to submit your results to the leaderboard!  (_You also learned how to do this in the previous exercise.  If you need a reminder of how to do this, please use the instructions below._)  \n",
    "\n",
    "First, you'll need to join the competition if you haven't already.  So open a new window by clicking on [this link](https://www.kaggle.com/c/home-data-for-ml-course).  Then click on the **Join Competition** button.\n",
    "\n",
    "![join competition image](https://i.imgur.com/wLmFtH3.png)\n",
    "\n",
    "Next, follow the instructions below:\n",
    "1. Begin by clicking on the **Save Version** button in the top right corner of the window.  This will generate a pop-up window.  \n",
    "2. Ensure that the **Save and Run All** option is selected, and then click on the **Save** button.\n",
    "3. This generates a window in the bottom left corner of the notebook.  After it has finished running, click on the number to the right of the **Save Version** button.  This pulls up a list of versions on the right of the screen.  Click on the ellipsis **(...)** to the right of the most recent version, and select **Open in Viewer**.  This brings you into view mode of the same page. You will need to scroll down to get back to these instructions.\n",
    "4. Click on the **Output** tab on the right of the screen.  Then, click on the file you would like to submit, and click on the **Submit** button to submit your results to the leaderboard.\n",
    "\n",
    "You have now successfully submitted to the competition!\n",
    "\n",
    "If you want to keep working to improve your performance, select the **Edit** button in the top right of the screen. Then you can change your code and repeat the process. There's a lot of room to improve, and you will climb up the leaderboard as you work.\n",
    "\n",
    "\n",
    "# Keep going\n",
    "\n",
    "Move on to learn what **[categorical variables](https://www.kaggle.com/alexisbcook/categorical-variables)** are, along with how to incorporate them into your machine learning models.  Categorical variables are very common in real-world data, but you'll get an error if you try to plug them into your models without processing them first!"
   ]
  },
  {
   "cell_type": "markdown",
   "id": "c6b8bff9",
   "metadata": {
    "papermill": {
     "duration": 0.013199,
     "end_time": "2022-06-28T18:10:52.042286",
     "exception": false,
     "start_time": "2022-06-28T18:10:52.029087",
     "status": "completed"
    },
    "tags": []
   },
   "source": [
    "---\n",
    "\n",
    "\n",
    "\n",
    "\n",
    "*Have questions or comments? Visit the [course discussion forum](https://www.kaggle.com/learn/intermediate-machine-learning/discussion) to chat with other learners.*"
   ]
  }
 ],
 "metadata": {
  "kernelspec": {
   "display_name": "Python 3",
   "language": "python",
   "name": "python3"
  },
  "language_info": {
   "codemirror_mode": {
    "name": "ipython",
    "version": 3
   },
   "file_extension": ".py",
   "mimetype": "text/x-python",
   "name": "python",
   "nbconvert_exporter": "python",
   "pygments_lexer": "ipython3",
   "version": "3.7.12"
  },
  "papermill": {
   "default_parameters": {},
   "duration": 18.139752,
   "end_time": "2022-06-28T18:10:52.778487",
   "environment_variables": {},
   "exception": null,
   "input_path": "__notebook__.ipynb",
   "output_path": "__notebook__.ipynb",
   "parameters": {},
   "start_time": "2022-06-28T18:10:34.638735",
   "version": "2.3.4"
  }
 },
 "nbformat": 4,
 "nbformat_minor": 5
}
