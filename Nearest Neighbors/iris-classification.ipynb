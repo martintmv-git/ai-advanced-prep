{
 "cells": [
  {
   "cell_type": "markdown",
   "metadata": {},
   "source": [
    "<h1 style=\"font-size:300#\">Iris classification with Nearest Neigbors</h1>\n",
    "\n",
    "BSHT Michielsen MSc\n",
    "\n",
    "This notebook demonstrates how to use the [sklearn Nearest Neigbours classifier](https://scikit-learn.org/stable/modules/generated/sklearn.neighbors.KNeighborsClassifier.html) algorithm to classify iris flowers based on simple mearements of their petals and sepals. The iris is a flower with a particular appearance because it has different parts that are shaped significantly different among the three typical species, see the image below. Therefore, it is relatively easy for a human to identify which species of iris we are dealing with based on the shape of those parts, and it is also relatively easy to let a machine classify them using the same metrics. Note that is a classification problem, so we use the `classifier` variety of nearest neighbors. A `regression` variety exists as well for other problems.\n",
    "\n",
    "<img src=\"https://machinelearninghd.com/wp-content/uploads/2021/03/iris-dataset.png\" />\n",
    "\n",
    "First, we show the versions of the required libraries (that is always wise to do in case you have to report problems running the notebooks!)."
   ]
  },
  {
   "cell_type": "code",
   "execution_count": 3,
   "metadata": {},
   "outputs": [
    {
     "name": "stdout",
     "output_type": "stream",
     "text": [
      "Collecting seaborn\n",
      "  Downloading seaborn-0.13.2-py3-none-any.whl.metadata (5.4 kB)\n",
      "Requirement already satisfied: numpy!=1.24.0,>=1.20 in /Users/martintomov/tensorflowtesting/env/lib/python3.8/site-packages (from seaborn) (1.23.2)\n",
      "Requirement already satisfied: pandas>=1.2 in /Users/martintomov/tensorflowtesting/env/lib/python3.8/site-packages (from seaborn) (2.0.3)\n",
      "Requirement already satisfied: matplotlib!=3.6.1,>=3.4 in /Users/martintomov/tensorflowtesting/env/lib/python3.8/site-packages (from seaborn) (3.7.2)\n",
      "Requirement already satisfied: contourpy>=1.0.1 in /Users/martintomov/tensorflowtesting/env/lib/python3.8/site-packages (from matplotlib!=3.6.1,>=3.4->seaborn) (1.0.5)\n",
      "Requirement already satisfied: cycler>=0.10 in /Users/martintomov/tensorflowtesting/env/lib/python3.8/site-packages (from matplotlib!=3.6.1,>=3.4->seaborn) (0.11.0)\n",
      "Requirement already satisfied: fonttools>=4.22.0 in /Users/martintomov/tensorflowtesting/env/lib/python3.8/site-packages (from matplotlib!=3.6.1,>=3.4->seaborn) (4.25.0)\n",
      "Requirement already satisfied: kiwisolver>=1.0.1 in /Users/martintomov/tensorflowtesting/env/lib/python3.8/site-packages (from matplotlib!=3.6.1,>=3.4->seaborn) (1.4.4)\n",
      "Requirement already satisfied: packaging>=20.0 in /Users/martintomov/tensorflowtesting/env/lib/python3.8/site-packages (from matplotlib!=3.6.1,>=3.4->seaborn) (23.1)\n",
      "Requirement already satisfied: pillow>=6.2.0 in /Users/martintomov/tensorflowtesting/env/lib/python3.8/site-packages (from matplotlib!=3.6.1,>=3.4->seaborn) (10.0.1)\n",
      "Requirement already satisfied: pyparsing<3.1,>=2.3.1 in /Users/martintomov/tensorflowtesting/env/lib/python3.8/site-packages (from matplotlib!=3.6.1,>=3.4->seaborn) (3.0.9)\n",
      "Requirement already satisfied: python-dateutil>=2.7 in /Users/martintomov/tensorflowtesting/env/lib/python3.8/site-packages (from matplotlib!=3.6.1,>=3.4->seaborn) (2.8.2)\n",
      "Requirement already satisfied: importlib-resources>=3.2.0 in /Users/martintomov/tensorflowtesting/env/lib/python3.8/site-packages (from matplotlib!=3.6.1,>=3.4->seaborn) (6.1.1)\n",
      "Requirement already satisfied: pytz>=2020.1 in /Users/martintomov/tensorflowtesting/env/lib/python3.8/site-packages (from pandas>=1.2->seaborn) (2023.3.post1)\n",
      "Requirement already satisfied: tzdata>=2022.1 in /Users/martintomov/tensorflowtesting/env/lib/python3.8/site-packages (from pandas>=1.2->seaborn) (2023.3)\n",
      "Requirement already satisfied: zipp>=3.1.0 in /Users/martintomov/tensorflowtesting/env/lib/python3.8/site-packages (from importlib-resources>=3.2.0->matplotlib!=3.6.1,>=3.4->seaborn) (3.17.0)\n",
      "Requirement already satisfied: six>=1.5 in /Users/martintomov/tensorflowtesting/env/lib/python3.8/site-packages (from python-dateutil>=2.7->matplotlib!=3.6.1,>=3.4->seaborn) (1.16.0)\n",
      "Downloading seaborn-0.13.2-py3-none-any.whl (294 kB)\n",
      "\u001b[2K   \u001b[90m━━━━━━━━━━━━━━━━━━━━━━━━━━━━━━━━━━━━━━━━\u001b[0m \u001b[32m294.9/294.9 kB\u001b[0m \u001b[31m4.8 MB/s\u001b[0m eta \u001b[36m0:00:00\u001b[0ma \u001b[36m0:00:01\u001b[0m\n",
      "\u001b[?25hInstalling collected packages: seaborn\n",
      "Successfully installed seaborn-0.13.2\n"
     ]
    }
   ],
   "source": [
    "%pip install seaborn #adding seaborn pkg to the notebook cuz I was missing it"
   ]
  },
  {
   "cell_type": "code",
   "execution_count": 4,
   "metadata": {
    "scrolled": true
   },
   "outputs": [
    {
     "name": "stdout",
     "output_type": "stream",
     "text": [
      "scikit-learn version: 1.3.0\n",
      "numpy version: 1.23.2\n",
      "pandas version: 2.0.3\n",
      "seaborn version: 0.13.2\n"
     ]
    }
   ],
   "source": [
    "import sklearn as sk\n",
    "import numpy as np\n",
    "import pandas as pd\n",
    "import seaborn as sns\n",
    "\n",
    "print(\"scikit-learn version:\", sk.__version__)          # 1.1.1\n",
    "print(\"numpy version:\", np.__version__)                 # 1.22.4\n",
    "print(\"pandas version:\", pd.__version__)                # 1.4.2\n",
    "print(\"seaborn version:\", sns.__version__)              # 0.11.2"
   ]
  },
  {
   "cell_type": "markdown",
   "metadata": {},
   "source": [
    "# Data provisioning\n",
    "In real life your data provisioning is likely to include more steps about data sourcing and data quality, however for demo purposes in this notebook we limit it to merely loading the data using the [pandas read_csv](https://pandas.pydata.org/pandas-docs/stable/reference/api/pandas.read_csv.html) function, without any concern over quantity nor quality. The data has 150 observations in 5 columns namely 4 features and 1 target variable."
   ]
  },
  {
   "cell_type": "code",
   "execution_count": 5,
   "metadata": {},
   "outputs": [
    {
     "name": "stdout",
     "output_type": "stream",
     "text": [
      "(150, 5)\n"
     ]
    }
   ],
   "source": [
    "columns = [\"Sepal Length\", \"Sepal Width\", \"Petal Length\", \"Petal Width\", \"Species\"]\n",
    "df = pd.read_csv(\"http://archive.ics.uci.edu/ml/machine-learning-databases/iris/iris.data\", names=columns)\n",
    "print(df.shape)"
   ]
  },
  {
   "cell_type": "markdown",
   "metadata": {},
   "source": [
    "# Sample the data\n",
    "To get an impression of the data, here we take a sample of 10 observations from the set and have a look at the features. The idea here is that a certain combination of values for the features is more likely to mean a certain species. For example `iris-setosa` seems to have a relatively small `Petal Width` and `iris-versicolor` has a relatively high `Sepal Length`. Knowing this, one could, given the lengths and widths for sepal and petal make an educated guess of the species by looking at how close its values are to already existing observations. This is the idea of Nearest Neighbors, it looks for \"how close\" a new observation is to previous known observations. In the second part we look at how many observations there are for each of the classes in the target variable. Because this dataset is very balanced there are exacly 50 observations for each of the 3 classes."
   ]
  },
  {
   "cell_type": "code",
   "execution_count": 6,
   "metadata": {},
   "outputs": [
    {
     "data": {
      "text/html": [
       "<div>\n",
       "<style scoped>\n",
       "    .dataframe tbody tr th:only-of-type {\n",
       "        vertical-align: middle;\n",
       "    }\n",
       "\n",
       "    .dataframe tbody tr th {\n",
       "        vertical-align: top;\n",
       "    }\n",
       "\n",
       "    .dataframe thead th {\n",
       "        text-align: right;\n",
       "    }\n",
       "</style>\n",
       "<table border=\"1\" class=\"dataframe\">\n",
       "  <thead>\n",
       "    <tr style=\"text-align: right;\">\n",
       "      <th></th>\n",
       "      <th>Sepal Length</th>\n",
       "      <th>Sepal Width</th>\n",
       "      <th>Petal Length</th>\n",
       "      <th>Petal Width</th>\n",
       "      <th>Species</th>\n",
       "    </tr>\n",
       "  </thead>\n",
       "  <tbody>\n",
       "    <tr>\n",
       "      <th>98</th>\n",
       "      <td>5.1</td>\n",
       "      <td>2.5</td>\n",
       "      <td>3.0</td>\n",
       "      <td>1.1</td>\n",
       "      <td>Iris-versicolor</td>\n",
       "    </tr>\n",
       "    <tr>\n",
       "      <th>58</th>\n",
       "      <td>6.6</td>\n",
       "      <td>2.9</td>\n",
       "      <td>4.6</td>\n",
       "      <td>1.3</td>\n",
       "      <td>Iris-versicolor</td>\n",
       "    </tr>\n",
       "    <tr>\n",
       "      <th>95</th>\n",
       "      <td>5.7</td>\n",
       "      <td>3.0</td>\n",
       "      <td>4.2</td>\n",
       "      <td>1.2</td>\n",
       "      <td>Iris-versicolor</td>\n",
       "    </tr>\n",
       "    <tr>\n",
       "      <th>142</th>\n",
       "      <td>5.8</td>\n",
       "      <td>2.7</td>\n",
       "      <td>5.1</td>\n",
       "      <td>1.9</td>\n",
       "      <td>Iris-virginica</td>\n",
       "    </tr>\n",
       "    <tr>\n",
       "      <th>3</th>\n",
       "      <td>4.6</td>\n",
       "      <td>3.1</td>\n",
       "      <td>1.5</td>\n",
       "      <td>0.2</td>\n",
       "      <td>Iris-setosa</td>\n",
       "    </tr>\n",
       "    <tr>\n",
       "      <th>91</th>\n",
       "      <td>6.1</td>\n",
       "      <td>3.0</td>\n",
       "      <td>4.6</td>\n",
       "      <td>1.4</td>\n",
       "      <td>Iris-versicolor</td>\n",
       "    </tr>\n",
       "    <tr>\n",
       "      <th>134</th>\n",
       "      <td>6.1</td>\n",
       "      <td>2.6</td>\n",
       "      <td>5.6</td>\n",
       "      <td>1.4</td>\n",
       "      <td>Iris-virginica</td>\n",
       "    </tr>\n",
       "    <tr>\n",
       "      <th>149</th>\n",
       "      <td>5.9</td>\n",
       "      <td>3.0</td>\n",
       "      <td>5.1</td>\n",
       "      <td>1.8</td>\n",
       "      <td>Iris-virginica</td>\n",
       "    </tr>\n",
       "    <tr>\n",
       "      <th>85</th>\n",
       "      <td>6.0</td>\n",
       "      <td>3.4</td>\n",
       "      <td>4.5</td>\n",
       "      <td>1.6</td>\n",
       "      <td>Iris-versicolor</td>\n",
       "    </tr>\n",
       "    <tr>\n",
       "      <th>64</th>\n",
       "      <td>5.6</td>\n",
       "      <td>2.9</td>\n",
       "      <td>3.6</td>\n",
       "      <td>1.3</td>\n",
       "      <td>Iris-versicolor</td>\n",
       "    </tr>\n",
       "  </tbody>\n",
       "</table>\n",
       "</div>"
      ],
      "text/plain": [
       "     Sepal Length  Sepal Width  Petal Length  Petal Width          Species\n",
       "98            5.1          2.5           3.0          1.1  Iris-versicolor\n",
       "58            6.6          2.9           4.6          1.3  Iris-versicolor\n",
       "95            5.7          3.0           4.2          1.2  Iris-versicolor\n",
       "142           5.8          2.7           5.1          1.9   Iris-virginica\n",
       "3             4.6          3.1           1.5          0.2      Iris-setosa\n",
       "91            6.1          3.0           4.6          1.4  Iris-versicolor\n",
       "134           6.1          2.6           5.6          1.4   Iris-virginica\n",
       "149           5.9          3.0           5.1          1.8   Iris-virginica\n",
       "85            6.0          3.4           4.5          1.6  Iris-versicolor\n",
       "64            5.6          2.9           3.6          1.3  Iris-versicolor"
      ]
     },
     "execution_count": 6,
     "metadata": {},
     "output_type": "execute_result"
    }
   ],
   "source": [
    "df.sample(10)"
   ]
  },
  {
   "cell_type": "code",
   "execution_count": 7,
   "metadata": {},
   "outputs": [
    {
     "name": "stdout",
     "output_type": "stream",
     "text": [
      "Species\n",
      "Iris-setosa        50\n",
      "Iris-versicolor    50\n",
      "Iris-virginica     50\n",
      "Name: Species, dtype: int64\n"
     ]
    }
   ],
   "source": [
    "groupinfo = df.groupby([\"Species\"])[\"Species\"].count()\n",
    "print(groupinfo)"
   ]
  },
  {
   "cell_type": "markdown",
   "metadata": {},
   "source": [
    "# Preprocessing\n",
    "The step of preprocessing contains several activities to consider before we can start training the algorithm and produce a model that can predict our target variable, in this case the species of an iris flower. \n",
    "\n",
    "### Target variable\n",
    "The first thing to do here would be making sure that we have a numeric target variable. Algorithms work only with numbers and therefore can only give a number as a result. Let's make a new column `Species ID` that is a number for the `Species`. It does not really matter which numbers we pick, so let's do 1, 2 and 3, for lack of inspiration. 🧐"
   ]
  },
  {
   "cell_type": "code",
   "execution_count": 8,
   "metadata": {},
   "outputs": [
    {
     "data": {
      "text/html": [
       "<div>\n",
       "<style scoped>\n",
       "    .dataframe tbody tr th:only-of-type {\n",
       "        vertical-align: middle;\n",
       "    }\n",
       "\n",
       "    .dataframe tbody tr th {\n",
       "        vertical-align: top;\n",
       "    }\n",
       "\n",
       "    .dataframe thead th {\n",
       "        text-align: right;\n",
       "    }\n",
       "</style>\n",
       "<table border=\"1\" class=\"dataframe\">\n",
       "  <thead>\n",
       "    <tr style=\"text-align: right;\">\n",
       "      <th></th>\n",
       "      <th>Sepal Length</th>\n",
       "      <th>Sepal Width</th>\n",
       "      <th>Petal Length</th>\n",
       "      <th>Petal Width</th>\n",
       "      <th>Species</th>\n",
       "      <th>Species ID</th>\n",
       "    </tr>\n",
       "  </thead>\n",
       "  <tbody>\n",
       "    <tr>\n",
       "      <th>4</th>\n",
       "      <td>5.0</td>\n",
       "      <td>3.6</td>\n",
       "      <td>1.4</td>\n",
       "      <td>0.2</td>\n",
       "      <td>Iris-setosa</td>\n",
       "      <td>1</td>\n",
       "    </tr>\n",
       "    <tr>\n",
       "      <th>40</th>\n",
       "      <td>5.0</td>\n",
       "      <td>3.5</td>\n",
       "      <td>1.3</td>\n",
       "      <td>0.3</td>\n",
       "      <td>Iris-setosa</td>\n",
       "      <td>1</td>\n",
       "    </tr>\n",
       "    <tr>\n",
       "      <th>117</th>\n",
       "      <td>7.7</td>\n",
       "      <td>3.8</td>\n",
       "      <td>6.7</td>\n",
       "      <td>2.2</td>\n",
       "      <td>Iris-virginica</td>\n",
       "      <td>3</td>\n",
       "    </tr>\n",
       "    <tr>\n",
       "      <th>31</th>\n",
       "      <td>5.4</td>\n",
       "      <td>3.4</td>\n",
       "      <td>1.5</td>\n",
       "      <td>0.4</td>\n",
       "      <td>Iris-setosa</td>\n",
       "      <td>1</td>\n",
       "    </tr>\n",
       "    <tr>\n",
       "      <th>103</th>\n",
       "      <td>6.3</td>\n",
       "      <td>2.9</td>\n",
       "      <td>5.6</td>\n",
       "      <td>1.8</td>\n",
       "      <td>Iris-virginica</td>\n",
       "      <td>3</td>\n",
       "    </tr>\n",
       "    <tr>\n",
       "      <th>86</th>\n",
       "      <td>6.7</td>\n",
       "      <td>3.1</td>\n",
       "      <td>4.7</td>\n",
       "      <td>1.5</td>\n",
       "      <td>Iris-versicolor</td>\n",
       "      <td>2</td>\n",
       "    </tr>\n",
       "    <tr>\n",
       "      <th>94</th>\n",
       "      <td>5.6</td>\n",
       "      <td>2.7</td>\n",
       "      <td>4.2</td>\n",
       "      <td>1.3</td>\n",
       "      <td>Iris-versicolor</td>\n",
       "      <td>2</td>\n",
       "    </tr>\n",
       "    <tr>\n",
       "      <th>10</th>\n",
       "      <td>5.4</td>\n",
       "      <td>3.7</td>\n",
       "      <td>1.5</td>\n",
       "      <td>0.2</td>\n",
       "      <td>Iris-setosa</td>\n",
       "      <td>1</td>\n",
       "    </tr>\n",
       "    <tr>\n",
       "      <th>126</th>\n",
       "      <td>6.2</td>\n",
       "      <td>2.8</td>\n",
       "      <td>4.8</td>\n",
       "      <td>1.8</td>\n",
       "      <td>Iris-virginica</td>\n",
       "      <td>3</td>\n",
       "    </tr>\n",
       "    <tr>\n",
       "      <th>128</th>\n",
       "      <td>6.4</td>\n",
       "      <td>2.8</td>\n",
       "      <td>5.6</td>\n",
       "      <td>2.1</td>\n",
       "      <td>Iris-virginica</td>\n",
       "      <td>3</td>\n",
       "    </tr>\n",
       "  </tbody>\n",
       "</table>\n",
       "</div>"
      ],
      "text/plain": [
       "     Sepal Length  Sepal Width  Petal Length  Petal Width          Species  \\\n",
       "4             5.0          3.6           1.4          0.2      Iris-setosa   \n",
       "40            5.0          3.5           1.3          0.3      Iris-setosa   \n",
       "117           7.7          3.8           6.7          2.2   Iris-virginica   \n",
       "31            5.4          3.4           1.5          0.4      Iris-setosa   \n",
       "103           6.3          2.9           5.6          1.8   Iris-virginica   \n",
       "86            6.7          3.1           4.7          1.5  Iris-versicolor   \n",
       "94            5.6          2.7           4.2          1.3  Iris-versicolor   \n",
       "10            5.4          3.7           1.5          0.2      Iris-setosa   \n",
       "126           6.2          2.8           4.8          1.8   Iris-virginica   \n",
       "128           6.4          2.8           5.6          2.1   Iris-virginica   \n",
       "\n",
       "     Species ID  \n",
       "4             1  \n",
       "40            1  \n",
       "117           3  \n",
       "31            1  \n",
       "103           3  \n",
       "86            2  \n",
       "94            2  \n",
       "10            1  \n",
       "126           3  \n",
       "128           3  "
      ]
     },
     "execution_count": 8,
     "metadata": {},
     "output_type": "execute_result"
    }
   ],
   "source": [
    "df[\"Species ID\"] = df[\"Species\"].map({\"Iris-setosa\": 1, \"Iris-versicolor\": 2, \"Iris-virginica\": 3})\n",
    "df.sample(10)"
   ]
  },
  {
   "cell_type": "markdown",
   "metadata": {},
   "source": [
    "### Feature selection\n",
    "Perhaps the most important step is 'feature selection', which is the activity of deciding which of the available features to use in order to predict the target variable. A common mistake is to just take all features \"because knowing more, implies a higher chance of guessing correct\", which is not true. Sometimes some features do not help at all, and some even produce noise in the algorithm. It is therefore important to pick only those features that can together explain the variance in the target variable the best. For a classification algorithm that would mean that any feature that has distinguishable values per class would be good. A way to look for this is by creating a [pandas box plot](https://pandas.pydata.org/pandas-docs/stable/reference/api/pandas.DataFrame.boxplot.html)."
   ]
  },
  {
   "cell_type": "code",
   "execution_count": 9,
   "metadata": {},
   "outputs": [
    {
     "data": {
      "image/png": "[encoded data removed]",
      "text/plain": [
       "<Figure size 2000x700 with 4 Axes>"
      ]
     },
     "metadata": {},
     "output_type": "display_data"
    }
   ],
   "source": [
    "features = columns[:-1]\n",
    "plot = df.boxplot(column=features, by=\"Species\", figsize=(20,7), layout=(1,len(features)))"
   ]
  },
  {
   "cell_type": "markdown",
   "metadata": {},
   "source": [
    "The idea here is that if the boxes are vertically close to each other, that feature would be less good because the values of that feature are close to each other and therefore hard to distinguish. A feature in which the boxes are vertically far away from each other would be a good feature. Now, in this dataset any feature is still a fair choice, but for example `Petal Length`, having boxes far away from each other, would be a better choice than `Sepal Width` where the boxes are closer to each other. Also `Petal Width` seems to be a fair choice. The selected features we put into a variable named `X` and the target variable we put in a variable named `y`."
   ]
  },
  {
   "cell_type": "code",
   "execution_count": 27,
   "metadata": {},
   "outputs": [],
   "source": [
    "X = df[[\"Petal Length\", \"Petal Width\"]]\n",
    "y = df[\"Species ID\"]"
   ]
  },
  {
   "cell_type": "markdown",
   "metadata": {},
   "source": [
    "### Splitting train/test\n",
    "Before we can train the model, we need to take a little part of our data that we use for testing purposes. The idea here is that the model trains with, for example 80% of the data that we have, and we use the other 20% to ask it to predict the target variable for. Now, because we know the true target variable of that 20% we can compare the results that the model gives us with the ground truth and come up with how well the model performs. Let's make a train/test split now."
   ]
  },
  {
   "cell_type": "code",
   "execution_count": 11,
   "metadata": {},
   "outputs": [
    {
     "name": "stdout",
     "output_type": "stream",
     "text": [
      "There are in total 150 observations.\n",
      "The train set now has 120 observations.\n",
      "The trest set now has 30 observations.\n"
     ]
    }
   ],
   "source": [
    "from sklearn.model_selection import train_test_split\n",
    "X_train, X_test, y_train, y_test = train_test_split(X, y, test_size=0.2)\n",
    "print(\"There are in total\", len(X), \"observations.\")\n",
    "print(\"The train set now has\", len(X_train), \"observations.\")\n",
    "print(\"The trest set now has\", len(X_test), \"observations.\")"
   ]
  },
  {
   "cell_type": "markdown",
   "metadata": {},
   "source": [
    "### Scaling\n",
    "The Nearest Neigbors algorithm uses the concept of \"being near\" as to decide which species an unknown iris would be. This \"being near\" is calculated using [Euclidian distance](https://en.wikipedia.org/wiki/Euclidean_distance), which is an absolute measurement between two values of the same feature, but not among features. It is therefore needed to scale all the features such that they use the same unit of measurement. Here is an example that demonstrates why:\n",
    "> Given the numbers 6 and 8, the Euclidian distance would be 2. Given the numbers 95 and 100 the Euclidian distance would be 5. However, 95 and 100 are in fact closer to eachother (95%) than 6 and 8 are (75%).\n",
    "\n",
    "Therefore it is important that among features the same unit is used. A common unit to use is [standard deviation](https://en.wikipedia.org/wiki/Standard_deviation), and sklearn provides the `StandardScaler` to transform all values into that same unit. After that we can make a scatter plot to see the actual distances between the iris flowers. Note that the distance is in standard deviations (σ)."
   ]
  },
  {
   "cell_type": "code",
   "execution_count": 12,
   "metadata": {},
   "outputs": [
    {
     "name": "stderr",
     "output_type": "stream",
     "text": [
      "/var/folders/bn/xzwp15h96jg7vf7qxvsqkry80000gn/T/ipykernel_49479/2942353307.py:10: MatplotlibDeprecationWarning: The legendHandles attribute was deprecated in Matplotlib 3.7 and will be removed two minor releases later. Use legend_handles instead.\n",
      "  ax.legend(ax.legend_.legendHandles, df[\"Species\"].unique(), title=\"Species\")\n"
     ]
    },
    {
     "data": {
      "text/plain": [
       "<matplotlib.legend.Legend at 0x126a11bb0>"
      ]
     },
     "execution_count": 12,
     "metadata": {},
     "output_type": "execute_result"
    },
    {
     "data": {
      "image/png": "[encoded data removed]",
      "text/plain": [
       "<Figure size 1000x600 with 1 Axes>"
      ]
     },
     "metadata": {},
     "output_type": "display_data"
    }
   ],
   "source": [
    "from sklearn.preprocessing import StandardScaler\n",
    "scaler = StandardScaler()\n",
    "scaler.fit(X_train)\n",
    "X_train = scaler.transform(X_train)\n",
    "X_test = scaler.transform(X_test)\n",
    "\n",
    "sns.set(rc={\"figure.figsize\":(10, 6)})\n",
    "ax = sns.scatterplot(x=X_train[:,0], y=X_train[:,1], hue=y_train, palette=\"viridis\")\n",
    "ax.set(xlabel=X.columns[0], ylabel=X.columns[1], title=\"Distance between iris flowers (σ)\")\n",
    "ax.legend(ax.legend_.legendHandles, df[\"Species\"].unique(), title=\"Species\")\n"
   ]
  },
  {
   "cell_type": "markdown",
   "metadata": {},
   "source": [
    "# Modelling\n",
    "In this step we are going to use the train set only to fit the model, in this case Nearest Neigbors for classification named [kNeighborsClassifier](https://scikit-learn.org/stable/modules/generated/sklearn.neighbors.KNeighborsClassifier.html). And then we use the test set to calculate the model's accuracy, in other words how well it performs. Accuracy is a fraction where any value closer to 1 is considered better, and 1 itself (100% accurate) is usually impossible."
   ]
  },
  {
   "cell_type": "code",
   "execution_count": 13,
   "metadata": {},
   "outputs": [
    {
     "name": "stdout",
     "output_type": "stream",
     "text": [
      "Accuracy: 0.9666666666666667\n"
     ]
    }
   ],
   "source": [
    "from sklearn.neighbors import KNeighborsClassifier\n",
    "model = KNeighborsClassifier()\n",
    "model.fit(X_train, y_train)\n",
    "pred = model.predict(X_test)\n",
    "\n",
    "from sklearn.metrics import accuracy_score\n",
    "acc = accuracy_score(pred, y_test)\n",
    "print(\"Accuracy:\", acc)"
   ]
  },
  {
   "cell_type": "markdown",
   "metadata": {},
   "source": [
    "# Evaluation\n",
    "Now let us see if we can shed some light on the results. What we can do here is print a classification report. This shows for every one of the classes how well the model performed."
   ]
  },
  {
   "cell_type": "code",
   "execution_count": 14,
   "metadata": {},
   "outputs": [
    {
     "name": "stdout",
     "output_type": "stream",
     "text": [
      "                 precision    recall  f1-score   support\n",
      "\n",
      "    Iris-setosa       1.00      1.00      1.00         8\n",
      "Iris-versicolor       0.92      1.00      0.96        11\n",
      " Iris-virginica       1.00      0.91      0.95        11\n",
      "\n",
      "       accuracy                           0.97        30\n",
      "      macro avg       0.97      0.97      0.97        30\n",
      "   weighted avg       0.97      0.97      0.97        30\n",
      "\n"
     ]
    }
   ],
   "source": [
    "from sklearn.metrics import classification_report\n",
    "report = classification_report(y_test, pred, target_names=df[\"Species\"].unique())\n",
    "print(report)"
   ]
  },
  {
   "cell_type": "markdown",
   "metadata": {},
   "source": [
    "# Inference Example\n",
    "\n",
    "Now that the model is trained for predicting iris species based on a given petal length and petal width, it can now be used to inference a class for a new observation. This means that for any given combination of petal length and petal width it can give a probability of how likely that combination indicates the classes that the model knows. Feel free to change the values for `petal_length` and `petal_width` below to get another prediction. Note that the values provided are in cm, but the model was trained on standard deviations. Therefore the same scaler is used again to transform the given values into standard deviations before feeding the values to the model."
   ]
  },
  {
   "cell_type": "code",
   "execution_count": 16,
   "metadata": {},
   "outputs": [
    {
     "data": {
      "text/html": [
       "<div>\n",
       "<style scoped>\n",
       "    .dataframe tbody tr th:only-of-type {\n",
       "        vertical-align: middle;\n",
       "    }\n",
       "\n",
       "    .dataframe tbody tr th {\n",
       "        vertical-align: top;\n",
       "    }\n",
       "\n",
       "    .dataframe thead th {\n",
       "        text-align: right;\n",
       "    }\n",
       "</style>\n",
       "<table border=\"1\" class=\"dataframe\">\n",
       "  <thead>\n",
       "    <tr style=\"text-align: right;\">\n",
       "      <th></th>\n",
       "      <th>Class</th>\n",
       "      <th>Probability</th>\n",
       "    </tr>\n",
       "  </thead>\n",
       "  <tbody>\n",
       "    <tr>\n",
       "      <th>0</th>\n",
       "      <td>Iris-setosa</td>\n",
       "      <td>0.0</td>\n",
       "    </tr>\n",
       "    <tr>\n",
       "      <th>1</th>\n",
       "      <td>Iris-versicolor</td>\n",
       "      <td>0.4</td>\n",
       "    </tr>\n",
       "    <tr>\n",
       "      <th>2</th>\n",
       "      <td>Iris-virginica</td>\n",
       "      <td>0.6</td>\n",
       "    </tr>\n",
       "  </tbody>\n",
       "</table>\n",
       "</div>"
      ],
      "text/plain": [
       "             Class  Probability\n",
       "0      Iris-setosa          0.0\n",
       "1  Iris-versicolor          0.4\n",
       "2   Iris-virginica          0.6"
      ]
     },
     "execution_count": 16,
     "metadata": {},
     "output_type": "execute_result"
    }
   ],
   "source": [
    "petal_length = 5.5\n",
    "petal_width = 1.5\n",
    "\n",
    "X_inference = pd.DataFrame([{\"Petal Length\": petal_length, \"Petal Width\": petal_width}])\n",
    "X_inference = scaler.transform(X_inference)\n",
    "\n",
    "prediction = model.predict_proba(X_inference)\n",
    "result = pd.DataFrame()\n",
    "result[\"Class\"] = df[\"Species\"].unique()\n",
    "result[\"Probability\"] = prediction[0]\n",
    "result"
   ]
  },
  {
   "cell_type": "markdown",
   "metadata": {},
   "source": [
    "## Feature selection - Task 1\n",
    "In the section about feature selection we selected `Petal Length` and `Petal Width` as our two features to base the modelling on. Pick any other two features and compare the results. Did it work beter? If yes, why, if no, why? What happens if you select 3 features?"
   ]
  },
  {
   "cell_type": "code",
   "execution_count": 36,
   "metadata": {},
   "outputs": [
    {
     "name": "stdout",
     "output_type": "stream",
     "text": [
      "Accuracy with new features: 0.9333333333333333\n"
     ]
    }
   ],
   "source": [
    "# Feature selection - 2 new features\n",
    "features = [\"Sepal Length\", \"Sepal Width\"]\n",
    "\n",
    "# Splitting the dataset into training and testing sets\n",
    "from sklearn.model_selection import train_test_split\n",
    "X_train, X_test, y_train, y_test = train_test_split(X, y, test_size=0.2)\n",
    "\n",
    "# Standardizing the features\n",
    "from sklearn.preprocessing import StandardScaler\n",
    "scaler = StandardScaler()\n",
    "scaler.fit(X_train)\n",
    "X_train = scaler.transform(X_train)\n",
    "X_test = scaler.transform(X_test)\n",
    "\n",
    "# Building and training the KNeighborsClassifier model\n",
    "from sklearn.neighbors import KNeighborsClassifier\n",
    "model = KNeighborsClassifier()\n",
    "model.fit(X_train, y_train)\n",
    "pred = model.predict(X_test)\n",
    "\n",
    "# And finally evaluating the model's performance\n",
    "from sklearn.metrics import accuracy_score\n",
    "score = accuracy_score(pred, y_test)\n",
    "print(\"Accuracy with new features:\", score)"
   ]
  },
  {
   "cell_type": "code",
   "execution_count": 39,
   "metadata": {},
   "outputs": [
    {
     "name": "stdout",
     "output_type": "stream",
     "text": [
      "Accuracy with new features: 1.0\n"
     ]
    }
   ],
   "source": [
    "# Feature selection - all 4 features\n",
    "features = [\"Petal Length\", \"Petal Width\", \"Sepal Length\", \"Sepal Width\"] \n",
    "\n",
    "# Splitting the dataset into training and testing sets\n",
    "from sklearn.model_selection import train_test_split\n",
    "X_train, X_test, y_train, y_test = train_test_split(X, y, test_size=0.2)\n",
    "\n",
    "# Standardizing the features\n",
    "from sklearn.preprocessing import StandardScaler\n",
    "scaler = StandardScaler()\n",
    "scaler.fit(X_train)\n",
    "X_train = scaler.transform(X_train)\n",
    "X_test = scaler.transform(X_test)\n",
    "\n",
    "# Building and training the KNeighborsClassifier model\n",
    "from sklearn.neighbors import KNeighborsClassifier\n",
    "model = KNeighborsClassifier()\n",
    "model.fit(X_train, y_train)\n",
    "pred = model.predict(X_test)\n",
    "\n",
    "# And finally evaluating the model's performance\n",
    "from sklearn.metrics import accuracy_score\n",
    "score = accuracy_score(pred, y_test)\n",
    "print(\"Accuracy with new features:\", score)"
   ]
  },
  {
   "cell_type": "markdown",
   "metadata": {},
   "source": [
    "> ## Feature selection - Results comparison\n",
    "\n",
    "I selected the septal length and width to test them out. The output shows an accuracy of `0.9333333333333333` or about `93.33%` with `Sepal Length` and `Sepal Width` as features. \n",
    "\n",
    "The previous result of the model accuracy before setting `Sepal Length` and `Sepal Width` as features the accuracy was approximately `96.67%`. Since this is higher than the `93.33%` accuracy obtained, we can conclude that `Petal Length` and `Petal Width` provided a better basis for the model to classify the iris species. This could be due to these features having a stronger connection with the species classification in the `Iris dataset`, which leads to a more accurate model. The septals of the flowers are more similar than their petals so its harder to recognise the differences this way.\n",
    "\n",
    "When I added a `third feature` I got even better and consistent results which is expected, and if you use all `4 features` you get the most consistent results with regular accuracy score of <b>1.0 = 100%</b>."
   ]
  },
  {
   "cell_type": "markdown",
   "metadata": {},
   "source": [
    "## Different results - Task 2\n",
    "If you re-run this notebook a few times, without changing anything, you sometimes get slightly different results. Explain why you believe this is. Compare your answer with a fellow student. Did they have the same opinion? If not, explain the difference. "
   ]
  },
  {
   "cell_type": "code",
   "execution_count": 37,
   "metadata": {},
   "outputs": [
    {
     "name": "stdout",
     "output_type": "stream",
     "text": [
      "                 precision    recall  f1-score   support\n",
      "\n",
      "    Iris-setosa       1.00      1.00      1.00        10\n",
      "Iris-versicolor       0.71      1.00      0.83         5\n",
      " Iris-virginica       1.00      0.87      0.93        15\n",
      "\n",
      "       accuracy                           0.93        30\n",
      "      macro avg       0.90      0.96      0.92        30\n",
      "   weighted avg       0.95      0.93      0.94        30\n",
      "\n"
     ]
    }
   ],
   "source": [
    "from sklearn.metrics import classification_report\n",
    "# Generating a classification report with features = [\"Sepal Length\", \"Sepal Width\"]\n",
    "report = classification_report(y_test, pred, target_names=df[\"Species\"].unique())\n",
    "print(report)"
   ]
  },
  {
   "cell_type": "code",
   "execution_count": 40,
   "metadata": {},
   "outputs": [
    {
     "name": "stdout",
     "output_type": "stream",
     "text": [
      "                 precision    recall  f1-score   support\n",
      "\n",
      "    Iris-setosa       1.00      1.00      1.00         8\n",
      "Iris-versicolor       1.00      1.00      1.00         8\n",
      " Iris-virginica       1.00      1.00      1.00        14\n",
      "\n",
      "       accuracy                           1.00        30\n",
      "      macro avg       1.00      1.00      1.00        30\n",
      "   weighted avg       1.00      1.00      1.00        30\n",
      "\n"
     ]
    }
   ],
   "source": [
    "from sklearn.metrics import classification_report\n",
    "# Generating a classification report with features = [\"Petal Length\", \"Petal Width\", \"Sepal Length\", \"Sepal Width\"] \n",
    "report = classification_report(y_test, pred, target_names=df[\"Species\"].unique())\n",
    "print(report)"
   ]
  },
  {
   "cell_type": "markdown",
   "metadata": {},
   "source": [
    "> ## Reason for Different Results\n",
    "\n",
    "1. The k-NN algorithm shuffles the data during training and this can lead to different results each time.\n",
    "2. It's likely because the `train_test_split` function randomly partitions the dataset each time it's called unless a `random_state` is set. "
   ]
  },
  {
   "cell_type": "markdown",
   "metadata": {},
   "source": [
    "### Hyperparameter n_neighbors\n",
    "The constructor of the kNeighborsClassifier has an optional hyperparameter named `n_neighbors`, which by default is `5`. Try providing a value of `2` for this parameter and see if this makes any difference. Then provide a value of `85` for this parameter and note any differences. Which of those 3 values [`5`, `2`, `85`] would you say gives the best results and why?"
   ]
  },
  {
   "cell_type": "code",
   "execution_count": 43,
   "metadata": {},
   "outputs": [
    {
     "name": "stdout",
     "output_type": "stream",
     "text": [
      "Accuracy (n_neighbors=2): 0.9\n",
      "Accuracy (n_neighbors=5): 1.0\n",
      "Accuracy (n_neighbors=85): 0.5333333333333333\n"
     ]
    }
   ],
   "source": [
    "# For n_neighbors = 2\n",
    "model_n2 = KNeighborsClassifier(n_neighbors=2)\n",
    "model_n2.fit(X_train, y_train)\n",
    "pred_n2 = model_n2.predict(X_test)\n",
    "score_n2 = accuracy_score(pred_n2, y_test)\n",
    "\n",
    "# For n_neighbors = 85\n",
    "model_n85 = KNeighborsClassifier(n_neighbors=85)\n",
    "model_n85.fit(X_train, y_train)\n",
    "pred_n85 = model_n85.predict(X_test)\n",
    "score_n85 = accuracy_score(pred_n85, y_test)\n",
    "\n",
    "# Print the accuracy for each model\n",
    "print(\"Accuracy (n_neighbors=2):\", score_n2)\n",
    "print(\"Accuracy (n_neighbors=5):\", score)  # Default n_neighbors=5\n",
    "print(\"Accuracy (n_neighbors=85):\", score_n85)"
   ]
  },
  {
   "cell_type": "markdown",
   "metadata": {},
   "source": [
    "> ## Hyperparameter n_neighbors Results Analysis:\n",
    "A lower n_neighbors value means that the model is considering a smaller number of nearest points, which can make it sensitive to noise but also potentially more adaptable to local variations. A very high n_neighbors value (like 85) can make the model too generalized, as it's considering a very large neighborhood for making predictions, which might dilute the influence of the closest and most relevant points. In this case, either 2 or 5 gives the best results because 85 leads to over-generalization and a loss of accuracy.\n",
    "\n",
    "Among the three values `5`, `2`, and `85` for the `n_neighbors` hyperparameter, the choice that gives the best results is `5`. "
   ]
  }
 ],
 "metadata": {
  "kernelspec": {
   "display_name": "Python 3.10.4 64-bit",
   "language": "python",
   "name": "python3"
  },
  "language_info": {
   "codemirror_mode": {
    "name": "ipython",
    "version": 3
   },
   "file_extension": ".py",
   "mimetype": "text/x-python",
   "name": "python",
   "nbconvert_exporter": "python",
   "pygments_lexer": "ipython3",
   "version": "3.8.16"
  },
  "vscode": {
   "interpreter": {
    "hash": "43ddb32909a53c204e37ff1af9486355a00187ad4c4605503a535aa055c1095c"
   }
  }
 },
 "nbformat": 4,
 "nbformat_minor": 1
}
